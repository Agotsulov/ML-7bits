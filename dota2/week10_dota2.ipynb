{
 "cells": [
  {
   "cell_type": "markdown",
   "metadata": {},
   "source": [
    "Я тут очень много перепробывал. Было много всего ,поэтому часть удалил и все расположенно как попало."
   ]
  },
  {
   "cell_type": "markdown",
   "metadata": {},
   "source": [
    "Кстати под window в anaconda не работает VotingClassifier. Он зависает на cross_val_score. "
   ]
  },
  {
   "cell_type": "markdown",
   "metadata": {},
   "source": [
    "Старнно что тут нет графиков. TODO: Нарисовать графики."
   ]
  },
  {
   "cell_type": "markdown",
   "metadata": {},
   "source": [
    "## Среднее: 0.75273538 "
   ]
  },
  {
   "cell_type": "markdown",
   "metadata": {},
   "source": [
    "## Лучший результат\n"
   ]
  },
  {
   "cell_type": "code",
   "execution_count": 26,
   "metadata": {},
   "outputs": [
    {
     "name": "stdout",
     "output_type": "stream",
     "text": [
      "LogisticRegression(C=0.006, class_weight=None, dual=False, fit_intercept=True,\n",
      "          intercept_scaling=1, max_iter=100, multi_class='ovr', n_jobs=1,\n",
      "          penalty='l2', random_state=42, solver='liblinear', tol=0.0001,\n",
      "          verbose=0, warm_start=False)\n",
      "[0.74996576 0.75438123 0.75005059 0.75688001 0.75239933]\n",
      "Среднее: 0.75273538 \n",
      "Стандартное отклонение: 0.00528232 \n",
      "Time elapsed: 0:00:18.922198\n"
     ]
    }
   ],
   "source": [
    "test_model(LogisticRegression(random_state=42, C=0.006, penalty='l2'),pre_data_for_lr_V2(features), y)"
   ]
  },
  {
   "cell_type": "code",
   "execution_count": 1,
   "metadata": {},
   "outputs": [],
   "source": [
    "import time\n",
    "import datetime\n",
    "%matplotlib inline\n",
    "import pandas as pd\n",
    "import numpy as np\n",
    "from matplotlib import pyplot as plt\n",
    "import seaborn as sns\n",
    "from sklearn.model_selection import train_test_split, KFold, cross_val_score\n",
    "from sklearn.preprocessing import scale\n",
    "from sklearn.linear_model import RidgeClassifier, LogisticRegression\n",
    "from sklearn.tree import DecisionTreeClassifier \n",
    "from sklearn.ensemble import BaggingClassifier, RandomForestClassifier, GradientBoostingClassifier, VotingClassifier\n",
    "from sklearn.preprocessing import StandardScaler, MinMaxScaler"
   ]
  },
  {
   "cell_type": "code",
   "execution_count": 2,
   "metadata": {},
   "outputs": [
    {
     "data": {
      "text/html": [
       "<div>\n",
       "<style scoped>\n",
       "    .dataframe tbody tr th:only-of-type {\n",
       "        vertical-align: middle;\n",
       "    }\n",
       "\n",
       "    .dataframe tbody tr th {\n",
       "        vertical-align: top;\n",
       "    }\n",
       "\n",
       "    .dataframe thead th {\n",
       "        text-align: right;\n",
       "    }\n",
       "</style>\n",
       "<table border=\"1\" class=\"dataframe\">\n",
       "  <thead>\n",
       "    <tr style=\"text-align: right;\">\n",
       "      <th></th>\n",
       "      <th>start_time</th>\n",
       "      <th>lobby_type</th>\n",
       "      <th>r1_hero</th>\n",
       "      <th>r1_level</th>\n",
       "      <th>r1_xp</th>\n",
       "      <th>r1_gold</th>\n",
       "      <th>r1_lh</th>\n",
       "      <th>r1_kills</th>\n",
       "      <th>r1_deaths</th>\n",
       "      <th>r1_items</th>\n",
       "      <th>...</th>\n",
       "      <th>dire_boots_count</th>\n",
       "      <th>dire_ward_observer_count</th>\n",
       "      <th>dire_ward_sentry_count</th>\n",
       "      <th>dire_first_ward_time</th>\n",
       "      <th>duration</th>\n",
       "      <th>radiant_win</th>\n",
       "      <th>tower_status_radiant</th>\n",
       "      <th>tower_status_dire</th>\n",
       "      <th>barracks_status_radiant</th>\n",
       "      <th>barracks_status_dire</th>\n",
       "    </tr>\n",
       "    <tr>\n",
       "      <th>match_id</th>\n",
       "      <th></th>\n",
       "      <th></th>\n",
       "      <th></th>\n",
       "      <th></th>\n",
       "      <th></th>\n",
       "      <th></th>\n",
       "      <th></th>\n",
       "      <th></th>\n",
       "      <th></th>\n",
       "      <th></th>\n",
       "      <th></th>\n",
       "      <th></th>\n",
       "      <th></th>\n",
       "      <th></th>\n",
       "      <th></th>\n",
       "      <th></th>\n",
       "      <th></th>\n",
       "      <th></th>\n",
       "      <th></th>\n",
       "      <th></th>\n",
       "      <th></th>\n",
       "    </tr>\n",
       "  </thead>\n",
       "  <tbody>\n",
       "    <tr>\n",
       "      <th>0</th>\n",
       "      <td>1430198770</td>\n",
       "      <td>7</td>\n",
       "      <td>11</td>\n",
       "      <td>5</td>\n",
       "      <td>2098</td>\n",
       "      <td>1489</td>\n",
       "      <td>20</td>\n",
       "      <td>0</td>\n",
       "      <td>0</td>\n",
       "      <td>7</td>\n",
       "      <td>...</td>\n",
       "      <td>4</td>\n",
       "      <td>2</td>\n",
       "      <td>2</td>\n",
       "      <td>-52.0</td>\n",
       "      <td>2874</td>\n",
       "      <td>1</td>\n",
       "      <td>1796</td>\n",
       "      <td>0</td>\n",
       "      <td>51</td>\n",
       "      <td>0</td>\n",
       "    </tr>\n",
       "    <tr>\n",
       "      <th>1</th>\n",
       "      <td>1430220345</td>\n",
       "      <td>0</td>\n",
       "      <td>42</td>\n",
       "      <td>4</td>\n",
       "      <td>1188</td>\n",
       "      <td>1033</td>\n",
       "      <td>9</td>\n",
       "      <td>0</td>\n",
       "      <td>1</td>\n",
       "      <td>12</td>\n",
       "      <td>...</td>\n",
       "      <td>4</td>\n",
       "      <td>3</td>\n",
       "      <td>1</td>\n",
       "      <td>-5.0</td>\n",
       "      <td>2463</td>\n",
       "      <td>1</td>\n",
       "      <td>1974</td>\n",
       "      <td>0</td>\n",
       "      <td>63</td>\n",
       "      <td>1</td>\n",
       "    </tr>\n",
       "    <tr>\n",
       "      <th>2</th>\n",
       "      <td>1430227081</td>\n",
       "      <td>7</td>\n",
       "      <td>33</td>\n",
       "      <td>4</td>\n",
       "      <td>1319</td>\n",
       "      <td>1270</td>\n",
       "      <td>22</td>\n",
       "      <td>0</td>\n",
       "      <td>0</td>\n",
       "      <td>12</td>\n",
       "      <td>...</td>\n",
       "      <td>4</td>\n",
       "      <td>3</td>\n",
       "      <td>1</td>\n",
       "      <td>13.0</td>\n",
       "      <td>2130</td>\n",
       "      <td>0</td>\n",
       "      <td>0</td>\n",
       "      <td>1830</td>\n",
       "      <td>0</td>\n",
       "      <td>63</td>\n",
       "    </tr>\n",
       "    <tr>\n",
       "      <th>3</th>\n",
       "      <td>1430263531</td>\n",
       "      <td>1</td>\n",
       "      <td>29</td>\n",
       "      <td>4</td>\n",
       "      <td>1779</td>\n",
       "      <td>1056</td>\n",
       "      <td>14</td>\n",
       "      <td>0</td>\n",
       "      <td>0</td>\n",
       "      <td>5</td>\n",
       "      <td>...</td>\n",
       "      <td>4</td>\n",
       "      <td>2</td>\n",
       "      <td>0</td>\n",
       "      <td>27.0</td>\n",
       "      <td>1459</td>\n",
       "      <td>0</td>\n",
       "      <td>1920</td>\n",
       "      <td>2047</td>\n",
       "      <td>50</td>\n",
       "      <td>63</td>\n",
       "    </tr>\n",
       "    <tr>\n",
       "      <th>4</th>\n",
       "      <td>1430282290</td>\n",
       "      <td>7</td>\n",
       "      <td>13</td>\n",
       "      <td>4</td>\n",
       "      <td>1431</td>\n",
       "      <td>1090</td>\n",
       "      <td>8</td>\n",
       "      <td>1</td>\n",
       "      <td>0</td>\n",
       "      <td>8</td>\n",
       "      <td>...</td>\n",
       "      <td>3</td>\n",
       "      <td>3</td>\n",
       "      <td>0</td>\n",
       "      <td>-16.0</td>\n",
       "      <td>2449</td>\n",
       "      <td>0</td>\n",
       "      <td>4</td>\n",
       "      <td>1974</td>\n",
       "      <td>3</td>\n",
       "      <td>63</td>\n",
       "    </tr>\n",
       "  </tbody>\n",
       "</table>\n",
       "<p>5 rows × 108 columns</p>\n",
       "</div>"
      ],
      "text/plain": [
       "          start_time  lobby_type  r1_hero  r1_level  r1_xp  r1_gold  r1_lh  \\\n",
       "match_id                                                                     \n",
       "0         1430198770           7       11         5   2098     1489     20   \n",
       "1         1430220345           0       42         4   1188     1033      9   \n",
       "2         1430227081           7       33         4   1319     1270     22   \n",
       "3         1430263531           1       29         4   1779     1056     14   \n",
       "4         1430282290           7       13         4   1431     1090      8   \n",
       "\n",
       "          r1_kills  r1_deaths  r1_items          ...           \\\n",
       "match_id                                         ...            \n",
       "0                0          0         7          ...            \n",
       "1                0          1        12          ...            \n",
       "2                0          0        12          ...            \n",
       "3                0          0         5          ...            \n",
       "4                1          0         8          ...            \n",
       "\n",
       "          dire_boots_count  dire_ward_observer_count  dire_ward_sentry_count  \\\n",
       "match_id                                                                       \n",
       "0                        4                         2                       2   \n",
       "1                        4                         3                       1   \n",
       "2                        4                         3                       1   \n",
       "3                        4                         2                       0   \n",
       "4                        3                         3                       0   \n",
       "\n",
       "          dire_first_ward_time  duration  radiant_win  tower_status_radiant  \\\n",
       "match_id                                                                      \n",
       "0                        -52.0      2874            1                  1796   \n",
       "1                         -5.0      2463            1                  1974   \n",
       "2                         13.0      2130            0                     0   \n",
       "3                         27.0      1459            0                  1920   \n",
       "4                        -16.0      2449            0                     4   \n",
       "\n",
       "          tower_status_dire  barracks_status_radiant  barracks_status_dire  \n",
       "match_id                                                                    \n",
       "0                         0                       51                     0  \n",
       "1                         0                       63                     1  \n",
       "2                      1830                        0                    63  \n",
       "3                      2047                       50                    63  \n",
       "4                      1974                        3                    63  \n",
       "\n",
       "[5 rows x 108 columns]"
      ]
     },
     "execution_count": 2,
     "metadata": {},
     "output_type": "execute_result"
    }
   ],
   "source": [
    "features = pd.read_csv('./features.csv', index_col='match_id')\n",
    "\n",
    "features.head()"
   ]
  },
  {
   "cell_type": "code",
   "execution_count": 3,
   "metadata": {},
   "outputs": [
    {
     "data": {
      "text/html": [
       "<div>\n",
       "<style scoped>\n",
       "    .dataframe tbody tr th:only-of-type {\n",
       "        vertical-align: middle;\n",
       "    }\n",
       "\n",
       "    .dataframe tbody tr th {\n",
       "        vertical-align: top;\n",
       "    }\n",
       "\n",
       "    .dataframe thead th {\n",
       "        text-align: right;\n",
       "    }\n",
       "</style>\n",
       "<table border=\"1\" class=\"dataframe\">\n",
       "  <thead>\n",
       "    <tr style=\"text-align: right;\">\n",
       "      <th></th>\n",
       "      <th>start_time</th>\n",
       "      <th>lobby_type</th>\n",
       "      <th>r1_hero</th>\n",
       "      <th>r1_level</th>\n",
       "      <th>r1_xp</th>\n",
       "      <th>r1_gold</th>\n",
       "      <th>r1_lh</th>\n",
       "      <th>r1_kills</th>\n",
       "      <th>r1_deaths</th>\n",
       "      <th>r1_items</th>\n",
       "      <th>...</th>\n",
       "      <th>radiant_ward_sentry_count</th>\n",
       "      <th>radiant_first_ward_time</th>\n",
       "      <th>dire_bottle_time</th>\n",
       "      <th>dire_courier_time</th>\n",
       "      <th>dire_flying_courier_time</th>\n",
       "      <th>dire_tpscroll_count</th>\n",
       "      <th>dire_boots_count</th>\n",
       "      <th>dire_ward_observer_count</th>\n",
       "      <th>dire_ward_sentry_count</th>\n",
       "      <th>dire_first_ward_time</th>\n",
       "    </tr>\n",
       "    <tr>\n",
       "      <th>match_id</th>\n",
       "      <th></th>\n",
       "      <th></th>\n",
       "      <th></th>\n",
       "      <th></th>\n",
       "      <th></th>\n",
       "      <th></th>\n",
       "      <th></th>\n",
       "      <th></th>\n",
       "      <th></th>\n",
       "      <th></th>\n",
       "      <th></th>\n",
       "      <th></th>\n",
       "      <th></th>\n",
       "      <th></th>\n",
       "      <th></th>\n",
       "      <th></th>\n",
       "      <th></th>\n",
       "      <th></th>\n",
       "      <th></th>\n",
       "      <th></th>\n",
       "      <th></th>\n",
       "    </tr>\n",
       "  </thead>\n",
       "  <tbody>\n",
       "    <tr>\n",
       "      <th>6</th>\n",
       "      <td>1430287923</td>\n",
       "      <td>0</td>\n",
       "      <td>93</td>\n",
       "      <td>4</td>\n",
       "      <td>1103</td>\n",
       "      <td>1089</td>\n",
       "      <td>8</td>\n",
       "      <td>0</td>\n",
       "      <td>1</td>\n",
       "      <td>9</td>\n",
       "      <td>...</td>\n",
       "      <td>0</td>\n",
       "      <td>12.0</td>\n",
       "      <td>247.0</td>\n",
       "      <td>-86.0</td>\n",
       "      <td>272.0</td>\n",
       "      <td>3</td>\n",
       "      <td>4</td>\n",
       "      <td>2</td>\n",
       "      <td>0</td>\n",
       "      <td>118.0</td>\n",
       "    </tr>\n",
       "    <tr>\n",
       "      <th>7</th>\n",
       "      <td>1430293357</td>\n",
       "      <td>1</td>\n",
       "      <td>20</td>\n",
       "      <td>2</td>\n",
       "      <td>556</td>\n",
       "      <td>570</td>\n",
       "      <td>1</td>\n",
       "      <td>0</td>\n",
       "      <td>0</td>\n",
       "      <td>9</td>\n",
       "      <td>...</td>\n",
       "      <td>2</td>\n",
       "      <td>-29.0</td>\n",
       "      <td>168.0</td>\n",
       "      <td>-54.0</td>\n",
       "      <td>NaN</td>\n",
       "      <td>3</td>\n",
       "      <td>2</td>\n",
       "      <td>2</td>\n",
       "      <td>1</td>\n",
       "      <td>16.0</td>\n",
       "    </tr>\n",
       "    <tr>\n",
       "      <th>10</th>\n",
       "      <td>1430301774</td>\n",
       "      <td>1</td>\n",
       "      <td>112</td>\n",
       "      <td>2</td>\n",
       "      <td>751</td>\n",
       "      <td>808</td>\n",
       "      <td>1</td>\n",
       "      <td>0</td>\n",
       "      <td>0</td>\n",
       "      <td>13</td>\n",
       "      <td>...</td>\n",
       "      <td>1</td>\n",
       "      <td>-22.0</td>\n",
       "      <td>46.0</td>\n",
       "      <td>-87.0</td>\n",
       "      <td>186.0</td>\n",
       "      <td>1</td>\n",
       "      <td>3</td>\n",
       "      <td>3</td>\n",
       "      <td>0</td>\n",
       "      <td>-34.0</td>\n",
       "    </tr>\n",
       "    <tr>\n",
       "      <th>13</th>\n",
       "      <td>1430323933</td>\n",
       "      <td>1</td>\n",
       "      <td>27</td>\n",
       "      <td>3</td>\n",
       "      <td>708</td>\n",
       "      <td>903</td>\n",
       "      <td>1</td>\n",
       "      <td>1</td>\n",
       "      <td>1</td>\n",
       "      <td>11</td>\n",
       "      <td>...</td>\n",
       "      <td>2</td>\n",
       "      <td>-49.0</td>\n",
       "      <td>30.0</td>\n",
       "      <td>-89.0</td>\n",
       "      <td>210.0</td>\n",
       "      <td>3</td>\n",
       "      <td>4</td>\n",
       "      <td>2</td>\n",
       "      <td>1</td>\n",
       "      <td>-26.0</td>\n",
       "    </tr>\n",
       "    <tr>\n",
       "      <th>16</th>\n",
       "      <td>1430331112</td>\n",
       "      <td>1</td>\n",
       "      <td>39</td>\n",
       "      <td>4</td>\n",
       "      <td>1259</td>\n",
       "      <td>661</td>\n",
       "      <td>4</td>\n",
       "      <td>0</td>\n",
       "      <td>0</td>\n",
       "      <td>9</td>\n",
       "      <td>...</td>\n",
       "      <td>0</td>\n",
       "      <td>36.0</td>\n",
       "      <td>180.0</td>\n",
       "      <td>-86.0</td>\n",
       "      <td>180.0</td>\n",
       "      <td>1</td>\n",
       "      <td>3</td>\n",
       "      <td>2</td>\n",
       "      <td>1</td>\n",
       "      <td>-33.0</td>\n",
       "    </tr>\n",
       "  </tbody>\n",
       "</table>\n",
       "<p>5 rows × 102 columns</p>\n",
       "</div>"
      ],
      "text/plain": [
       "          start_time  lobby_type  r1_hero  r1_level  r1_xp  r1_gold  r1_lh  \\\n",
       "match_id                                                                     \n",
       "6         1430287923           0       93         4   1103     1089      8   \n",
       "7         1430293357           1       20         2    556      570      1   \n",
       "10        1430301774           1      112         2    751      808      1   \n",
       "13        1430323933           1       27         3    708      903      1   \n",
       "16        1430331112           1       39         4   1259      661      4   \n",
       "\n",
       "          r1_kills  r1_deaths  r1_items          ...           \\\n",
       "match_id                                         ...            \n",
       "6                0          1         9          ...            \n",
       "7                0          0         9          ...            \n",
       "10               0          0        13          ...            \n",
       "13               1          1        11          ...            \n",
       "16               0          0         9          ...            \n",
       "\n",
       "          radiant_ward_sentry_count  radiant_first_ward_time  \\\n",
       "match_id                                                       \n",
       "6                                 0                     12.0   \n",
       "7                                 2                    -29.0   \n",
       "10                                1                    -22.0   \n",
       "13                                2                    -49.0   \n",
       "16                                0                     36.0   \n",
       "\n",
       "          dire_bottle_time  dire_courier_time  dire_flying_courier_time  \\\n",
       "match_id                                                                  \n",
       "6                    247.0              -86.0                     272.0   \n",
       "7                    168.0              -54.0                       NaN   \n",
       "10                    46.0              -87.0                     186.0   \n",
       "13                    30.0              -89.0                     210.0   \n",
       "16                   180.0              -86.0                     180.0   \n",
       "\n",
       "          dire_tpscroll_count  dire_boots_count  dire_ward_observer_count  \\\n",
       "match_id                                                                    \n",
       "6                           3                 4                         2   \n",
       "7                           3                 2                         2   \n",
       "10                          1                 3                         3   \n",
       "13                          3                 4                         2   \n",
       "16                          1                 3                         2   \n",
       "\n",
       "          dire_ward_sentry_count  dire_first_ward_time  \n",
       "match_id                                                \n",
       "6                              0                 118.0  \n",
       "7                              1                  16.0  \n",
       "10                             0                 -34.0  \n",
       "13                             1                 -26.0  \n",
       "16                             1                 -33.0  \n",
       "\n",
       "[5 rows x 102 columns]"
      ]
     },
     "execution_count": 3,
     "metadata": {},
     "output_type": "execute_result"
    }
   ],
   "source": [
    "features_test = pd.read_csv('./features_test.csv', index_col='match_id')\n",
    "\n",
    "features_test.head()"
   ]
  },
  {
   "cell_type": "code",
   "execution_count": 4,
   "metadata": {},
   "outputs": [],
   "source": [
    "def test_model(model, X, y):\n",
    "    k_fold = KFold(n_splits=5, random_state=42, shuffle=True) \n",
    "\n",
    "    start_time = datetime.datetime.now()\n",
    "\n",
    "    print(model)\n",
    "\n",
    "    scores = cross_val_score(model, X, y, cv=k_fold, scoring=\"roc_auc\")\n",
    "    print(scores)\n",
    "    print(\"Среднее: %0.8f \" % (scores.mean()))\n",
    "    print(\"Стандартное отклонение: %0.8f \" % (scores.std() * 2))  \n",
    "\n",
    "    print('Time elapsed:', end=' ')\n",
    "    print(datetime.datetime.now() - start_time)"
   ]
  },
  {
   "cell_type": "code",
   "execution_count": 5,
   "metadata": {},
   "outputs": [],
   "source": [
    "def drop_fillna(f):\n",
    "    d = f\n",
    "    drop_columns = ['duration',\n",
    "                    'radiant_win',\n",
    "                    'tower_status_radiant',\n",
    "                    'tower_status_dire',\n",
    "                    'barracks_status_radiant',\n",
    "                    'barracks_status_dire',\n",
    "                    'lobby_type',\n",
    "                    'r1_hero',\n",
    "                    'r2_hero',\n",
    "                    'r3_hero',\n",
    "                    'r4_hero',\n",
    "                    'r5_hero',\n",
    "                    'd1_hero',\n",
    "                    'd2_hero',\n",
    "                    'd3_hero',\n",
    "                    'd4_hero',\n",
    "                    'd5_hero',\n",
    "                    ]\n",
    "    d = d.drop(columns=drop_columns)\n",
    "    values = {'first_blood_time': 900, \n",
    "                'first_blood_team': -1, #Это же категориальный признакю для логистической регрессии норм?\n",
    "                'first_blood_player1': -1,#Это же категориальный признакю для логистической регрессии норм?\n",
    "                'first_blood_player2': -1, #Это же категориальный признакю для логистической регрессии норм?\n",
    "                'radiant_bottle_time': 900,\n",
    "                'radiant_courier_time': 900, \n",
    "                'radiant_flying_courier_time': 900, \n",
    "                'radiant_first_ward_time': 900, \n",
    "                'dire_bottle_time': 900,\n",
    "                'dire_courier_time': 900,\n",
    "                'dire_flying_courier_time': 900,\n",
    "                'dire_first_ward_time': 900,} \n",
    "    d = d.fillna(value=values)\n",
    "    return d"
   ]
  },
  {
   "cell_type": "code",
   "execution_count": 6,
   "metadata": {},
   "outputs": [],
   "source": [
    "def pre_data(f):\n",
    "    df = f\n",
    "    drop_columns = ['duration',\n",
    "                    'radiant_win',\n",
    "                    'tower_status_radiant',\n",
    "                    'tower_status_dire',\n",
    "                    'barracks_status_radiant',\n",
    "                    'barracks_status_dire',\n",
    "                    'lobby_type',\n",
    "                    'r1_hero',\n",
    "                    'r2_hero',\n",
    "                    'r3_hero',\n",
    "                    'r4_hero',\n",
    "                    'r5_hero',\n",
    "                    'd1_hero',\n",
    "                    'd2_hero',\n",
    "                    'd3_hero',\n",
    "                    'd4_hero',\n",
    "                    'd5_hero',\n",
    "                    ]\n",
    "    X = df.drop(columns=drop_columns)\n",
    "    values = {'first_blood_time': 900, \n",
    "              'first_blood_team': -1, \n",
    "              'first_blood_player1': -1,  \n",
    "              'first_blood_player2': -1,\n",
    "              'radiant_bottle_time': 900,\n",
    "              'radiant_courier_time': 900, \n",
    "              'radiant_flying_courier_time': 900, \n",
    "              'radiant_first_ward_time': 900, \n",
    "              'dire_bottle_time': 900,\n",
    "              'dire_courier_time': 900,\n",
    "              'dire_flying_courier_time': 900,\n",
    "              'dire_first_ward_time': 900,} \n",
    "    X = X.fillna(value=values)\n",
    "    scaler = StandardScaler()\n",
    "    X = scaler.fit_transform(X)\n",
    "    return X"
   ]
  },
  {
   "cell_type": "code",
   "execution_count": 7,
   "metadata": {},
   "outputs": [],
   "source": [
    "def pre_data_with_hero(f):\n",
    "    df = f\n",
    "    drop_columns = ['duration',\n",
    "                    'radiant_win',\n",
    "                    'tower_status_radiant',\n",
    "                    'tower_status_dire',\n",
    "                    'barracks_status_radiant',\n",
    "                    'barracks_status_dire',\n",
    "                    'lobby_type'\n",
    "                    ]\n",
    "    X = df.drop(columns=drop_columns)\n",
    "    values = {'first_blood_time': 900, \n",
    "              'first_blood_team': -1, \n",
    "              'first_blood_player1': -1,  \n",
    "              'first_blood_player2': -1,\n",
    "              'radiant_bottle_time': 900,\n",
    "              'radiant_courier_time': 900, \n",
    "              'radiant_flying_courier_time': 900, \n",
    "              'radiant_first_ward_time': 900, \n",
    "              'dire_bottle_time': 900,\n",
    "              'dire_courier_time': 900,\n",
    "              'dire_flying_courier_time': 900,\n",
    "              'dire_first_ward_time': 900,} \n",
    "    X = X.fillna(value=values)\n",
    "    scaler = StandardScaler()\n",
    "    X = scaler.fit_transform(X)\n",
    "    return X"
   ]
  },
  {
   "cell_type": "code",
   "execution_count": 8,
   "metadata": {},
   "outputs": [],
   "source": [
    "def pre_data_for_lr(f):\n",
    "    df = f\n",
    "    drop_columns = ['duration',\n",
    "                    'radiant_win',\n",
    "                    'tower_status_radiant',\n",
    "                    'tower_status_dire',\n",
    "                    'barracks_status_radiant',\n",
    "                    'barracks_status_dire',\n",
    "                    'lobby_type',\n",
    "                    'r1_hero',\n",
    "                    'r2_hero',\n",
    "                    'r3_hero',\n",
    "                    'r4_hero',\n",
    "                    'r5_hero',\n",
    "                    'd1_hero',\n",
    "                    'd2_hero',\n",
    "                    'd3_hero',\n",
    "                    'd4_hero',\n",
    "                    'd5_hero',\n",
    "                    ]\n",
    "    X = df.drop(columns=drop_columns)\n",
    "    values = {'first_blood_time': 900, \n",
    "              'first_blood_team': -1, #Это же категориальный признакю для логистической регрессии норм?\n",
    "              'first_blood_player1': -1,#Это же категориальный признакю для логистической регрессии норм?\n",
    "              'first_blood_player2': -1, #Это же категориальный признакю для логистической регрессии норм?\n",
    "              'radiant_bottle_time': 900,\n",
    "              'radiant_courier_time': 900, \n",
    "              'radiant_flying_courier_time': 900, \n",
    "              'radiant_first_ward_time': 900, \n",
    "              'dire_bottle_time': 900,\n",
    "              'dire_courier_time': 900,\n",
    "              'dire_flying_courier_time': 900,\n",
    "              'dire_first_ward_time': 900,} \n",
    "    X = X.fillna(value=values)\n",
    "    X_pick = np.zeros((features.shape[0], 112))\n",
    "    for i, match_id in enumerate(features.index): #Мешок геров\n",
    "        for p in range(5):\n",
    "            X_pick[i, features.loc[match_id, 'r%d_hero' % (p+1)]-1] = 1\n",
    "            X_pick[i, features.loc[match_id, 'd%d_hero' % (p+1)]-1] = -1\n",
    "    df_pick = pd.DataFrame(data=X_pick, index=df.index)\n",
    "    #df_pick = df_pick.drop(columns=[107,106,110]) #Ненужны так как таких героев нет\n",
    "    X = pd.merge(X, df_pick, left_index=True, right_index=True, how='outer')\n",
    "    scaler = StandardScaler()\n",
    "    X = scaler.fit_transform(X)\n",
    "    \n",
    "    return X"
   ]
  },
  {
   "cell_type": "code",
   "execution_count": 45,
   "metadata": {},
   "outputs": [],
   "source": [
    "def pre_data_for_lr_V2(f):\n",
    "    df = f\n",
    "    drop_columns = ['duration',\n",
    "                    'radiant_win',\n",
    "                    'tower_status_radiant',\n",
    "                    'tower_status_dire',\n",
    "                    'barracks_status_radiant',\n",
    "                    'barracks_status_dire',\n",
    "                    'lobby_type',\n",
    "                    'r1_hero',\n",
    "                    'r2_hero',\n",
    "                    'r3_hero',\n",
    "                    'r4_hero',\n",
    "                    'r5_hero',\n",
    "                    'd1_hero',\n",
    "                    'd2_hero',\n",
    "                    'd3_hero',\n",
    "                    'd4_hero',\n",
    "                    'd5_hero',\n",
    "                    'dire_courier_time',\n",
    "                    'first_blood_player1'\n",
    "                    ]\n",
    "    X = df.drop(columns=drop_columns)\n",
    "    values = {'first_blood_time': 900, \n",
    "              'first_blood_team': -1, \n",
    "              'first_blood_player2': -1,\n",
    "              'radiant_bottle_time': 900,\n",
    "              'radiant_courier_time': 900, \n",
    "              'radiant_flying_courier_time': 900, \n",
    "              'radiant_first_ward_time': 900, \n",
    "              'dire_bottle_time': 900,\n",
    "              'dire_flying_courier_time': 900,\n",
    "              'dire_first_ward_time': 900,} \n",
    "    X = X.fillna(value=values)\n",
    "    \n",
    "    X_pick = np.zeros((df.shape[0], 112))\n",
    "    \n",
    "    for i, match_id in enumerate(df.index): \n",
    "        for p in range(5):\n",
    "            X_pick[i, df.loc[match_id, 'r%d_hero' % (p+1)]-1] = 1\n",
    "            X_pick[i, df.loc[match_id, 'd%d_hero' % (p+1)]-1] = -1\n",
    "    df_pick = pd.DataFrame(data=X_pick, index=df.index)\n",
    "\n",
    "    for p in range(5):\n",
    "        X['r%d_gold_level' % (p+1)] = X['r%d_gold' % (p+1)] * X['r%d_level' % (p+1)]\n",
    "        X['d%d_gold_level' % (p+1)] = -1 * X['d%d_gold' % (p+1)] * X['d%d_level' % (p+1)]\n",
    "\n",
    "    \n",
    "    X = pd.merge(X, df_pick, left_index=True, right_index=True, how='outer')\n",
    "    scaler = StandardScaler()\n",
    "    X = scaler.fit_transform(X)\n",
    "    \n",
    "    return X"
   ]
  },
  {
   "cell_type": "code",
   "execution_count": 10,
   "metadata": {},
   "outputs": [
    {
     "name": "stdout",
     "output_type": "stream",
     "text": [
      "<class 'pandas.core.frame.DataFrame'>\n",
      "Int64Index: 97230 entries, 0 to 114406\n",
      "Columns: 102 entries, start_time to dire_first_ward_time\n",
      "dtypes: float64(12), int64(90)\n",
      "memory usage: 76.4 MB\n"
     ]
    }
   ],
   "source": [
    "df = features\n",
    "y = df['radiant_win']\n",
    "X = df.drop(columns=['duration','radiant_win','tower_status_radiant','tower_status_dire','barracks_status_radiant','barracks_status_dire'])\n",
    "X.info()"
   ]
  },
  {
   "cell_type": "code",
   "execution_count": 10,
   "metadata": {
    "scrolled": true
   },
   "outputs": [
    {
     "data": {
      "text/plain": [
       "first_blood_time               19553\n",
       "first_blood_team               19553\n",
       "first_blood_player1            19553\n",
       "first_blood_player2            43987\n",
       "radiant_bottle_time            15691\n",
       "radiant_courier_time             692\n",
       "radiant_flying_courier_time    27479\n",
       "radiant_first_ward_time         1836\n",
       "dire_bottle_time               16143\n",
       "dire_courier_time                676\n",
       "dire_flying_courier_time       26098\n",
       "dire_first_ward_time            1826\n",
       "dtype: int64"
      ]
     },
     "execution_count": 10,
     "metadata": {},
     "output_type": "execute_result"
    }
   ],
   "source": [
    "X_notna = X.isna().sum()\n",
    "X_notna[X_notna != 0]"
   ]
  },
  {
   "cell_type": "markdown",
   "metadata": {},
   "source": [
    "first_blood_time, first_blood_team и first_blood_player1 - говорит что первая кровь не всегде делается за первые 5 минут. => предположу что в таких играх будет влиять кол-во общего золота и герои.\n",
    "first_blood_player2 - предположу что \"второй игрок, причастный к событию\" это тот кто помог всетаки. Так что нормально что числа не совпадают, так как событие может быть 1 на 1(1/3 от всех матчей).\n",
    "radiant_bottle_time и dire_bottle_time - означает что либо вообще непокупают бутылку или все очень плохо у мидера. Но вообще сильно от героя зависит есть те кто может сразу и кому вообще не нужна. \n",
    "radiant_courier_time и dire_courier_time - не покупают курьера в начале => все очень плохо у саппорта и всей команды. Или саппорта нет или он дебил.\n",
    "radiant_flying_courier_time и dire_flying_courier_time - не могут улучить курьера => все очень плохо у саппорта и всей команды.\n",
    "radiant_first_ward_time и dire_first_ward_time - не покупают варды в начале => все очень плохо у саппорта и всей команды. НО варды еще покупают и другие обычно."
   ]
  },
  {
   "cell_type": "code",
   "execution_count": 24,
   "metadata": {},
   "outputs": [],
   "source": [
    "values = {'first_blood_time': 3000, \n",
    "          'first_blood_team': -1, \n",
    "          'first_blood_player1': -1,  \n",
    "          'first_blood_player2': -1,\n",
    "          'radiant_bottle_time': 3000,\n",
    "          'radiant_courier_time': 3000, \n",
    "          'radiant_flying_courier_time': 3000, \n",
    "          'radiant_first_ward_time': 3000, \n",
    "          'dire_bottle_time': 3000,\n",
    "          'dire_courier_time': 3000,\n",
    "          'dire_flying_courier_time': 3000,\n",
    "          'dire_first_ward_time': 3000,} \n",
    "#Нигде тут нельзя заменять на среднее так как нам важно что событие не произошло в превые 5 мин.\n",
    "#НО вот если бы мы знали среднее после 5 мин и могли заменить на него стало бы лучше.\n",
    "#Дальше я узнал что лучше число меньшее\n",
    "X = X.fillna(value=values)"
   ]
  },
  {
   "cell_type": "code",
   "execution_count": 25,
   "metadata": {},
   "outputs": [
    {
     "data": {
      "text/plain": [
       "Series([], dtype: int64)"
      ]
     },
     "execution_count": 25,
     "metadata": {},
     "output_type": "execute_result"
    }
   ],
   "source": [
    "X_notna = X.isna().sum()\n",
    "X_notna[X_notna != 0]"
   ]
  },
  {
   "cell_type": "markdown",
   "metadata": {},
   "source": [
    "# Градиентный бустинг"
   ]
  },
  {
   "cell_type": "code",
   "execution_count": 8,
   "metadata": {
    "scrolled": true
   },
   "outputs": [
    {
     "name": "stdout",
     "output_type": "stream",
     "text": [
      "GradientBoostingClassifier(criterion='friedman_mse', init=None,\n",
      "              learning_rate=0.1, loss='deviance', max_depth=3,\n",
      "              max_features=None, max_leaf_nodes=None,\n",
      "              min_impurity_decrease=0.0, min_impurity_split=None,\n",
      "              min_samples_leaf=1, min_samples_split=2,\n",
      "              min_weight_fraction_leaf=0.0, n_estimators=10,\n",
      "              presort='auto', random_state=42, subsample=1.0, verbose=0,\n",
      "              warm_start=False)\n",
      "roc_auc\n",
      "[0.66383799 0.66635457 0.66360048 0.66517303 0.66516222]\n",
      "Среднее: 0.66483 \n",
      "Стандартное отклонение: 0.00200959 \n",
      "Time elapsed: 0:00:16.982618\n",
      "GradientBoostingClassifier(criterion='friedman_mse', init=None,\n",
      "              learning_rate=0.1, loss='deviance', max_depth=3,\n",
      "              max_features=None, max_leaf_nodes=None,\n",
      "              min_impurity_decrease=0.0, min_impurity_split=None,\n",
      "              min_samples_leaf=1, min_samples_split=2,\n",
      "              min_weight_fraction_leaf=0.0, n_estimators=20,\n",
      "              presort='auto', random_state=42, subsample=1.0, verbose=0,\n",
      "              warm_start=False)\n",
      "roc_auc\n",
      "[0.68106708 0.68272733 0.67969876 0.68325201 0.6855512 ]\n",
      "Среднее: 0.68246 \n",
      "Стандартное отклонение: 0.00398185 \n",
      "Time elapsed: 0:00:30.825970\n",
      "GradientBoostingClassifier(criterion='friedman_mse', init=None,\n",
      "              learning_rate=0.1, loss='deviance', max_depth=3,\n",
      "              max_features=None, max_leaf_nodes=None,\n",
      "              min_impurity_decrease=0.0, min_impurity_split=None,\n",
      "              min_samples_leaf=1, min_samples_split=2,\n",
      "              min_weight_fraction_leaf=0.0, n_estimators=30,\n",
      "              presort='auto', random_state=42, subsample=1.0, verbose=0,\n",
      "              warm_start=False)\n",
      "roc_auc\n",
      "[0.68790745 0.68942012 0.68712298 0.69151108 0.69287423]\n",
      "Среднее: 0.68977 \n",
      "Стандартное отклонение: 0.00431423 \n",
      "Time elapsed: 0:00:44.575854\n",
      "GradientBoostingClassifier(criterion='friedman_mse', init=None,\n",
      "              learning_rate=0.1, loss='deviance', max_depth=3,\n",
      "              max_features=None, max_leaf_nodes=None,\n",
      "              min_impurity_decrease=0.0, min_impurity_split=None,\n",
      "              min_samples_leaf=1, min_samples_split=2,\n",
      "              min_weight_fraction_leaf=0.0, n_estimators=40,\n",
      "              presort='auto', random_state=42, subsample=1.0, verbose=0,\n",
      "              warm_start=False)\n",
      "roc_auc\n",
      "[0.69272989 0.69457307 0.69104468 0.69644369 0.69690788]\n",
      "Среднее: 0.69434 \n",
      "Стандартное отклонение: 0.00442949 \n",
      "Time elapsed: 0:00:58.462505\n",
      "GradientBoostingClassifier(criterion='friedman_mse', init=None,\n",
      "              learning_rate=0.1, loss='deviance', max_depth=3,\n",
      "              max_features=None, max_leaf_nodes=None,\n",
      "              min_impurity_decrease=0.0, min_impurity_split=None,\n",
      "              min_samples_leaf=1, min_samples_split=2,\n",
      "              min_weight_fraction_leaf=0.0, n_estimators=50,\n",
      "              presort='auto', random_state=42, subsample=1.0, verbose=0,\n",
      "              warm_start=False)\n",
      "roc_auc\n",
      "[0.69634018 0.69726009 0.69491887 0.69988044 0.70023842]\n",
      "Среднее: 0.69773 \n",
      "Стандартное отклонение: 0.00409599 \n",
      "Time elapsed: 0:01:10.878482\n",
      "GradientBoostingClassifier(criterion='friedman_mse', init=None,\n",
      "              learning_rate=0.1, loss='deviance', max_depth=3,\n",
      "              max_features=None, max_leaf_nodes=None,\n",
      "              min_impurity_decrease=0.0, min_impurity_split=None,\n",
      "              min_samples_leaf=1, min_samples_split=2,\n",
      "              min_weight_fraction_leaf=0.0, n_estimators=60,\n",
      "              presort='auto', random_state=42, subsample=1.0, verbose=0,\n",
      "              warm_start=False)\n",
      "roc_auc\n",
      "[0.69888017 0.6997536  0.69746107 0.70194236 0.70269526]\n",
      "Среднее: 0.70015 \n",
      "Стандартное отклонение: 0.00386686 \n",
      "Time elapsed: 0:01:23.649231\n",
      "GradientBoostingClassifier(criterion='friedman_mse', init=None,\n",
      "              learning_rate=0.1, loss='deviance', max_depth=3,\n",
      "              max_features=None, max_leaf_nodes=None,\n",
      "              min_impurity_decrease=0.0, min_impurity_split=None,\n",
      "              min_samples_leaf=1, min_samples_split=2,\n",
      "              min_weight_fraction_leaf=0.0, n_estimators=70,\n",
      "              presort='auto', random_state=42, subsample=1.0, verbose=0,\n",
      "              warm_start=False)\n",
      "roc_auc\n",
      "[0.70084801 0.70218503 0.69964884 0.70460002 0.70473913]\n",
      "Среднее: 0.70240 \n",
      "Стандартное отклонение: 0.00403339 \n",
      "Time elapsed: 0:01:39.559421\n",
      "GradientBoostingClassifier(criterion='friedman_mse', init=None,\n",
      "              learning_rate=0.1, loss='deviance', max_depth=3,\n",
      "              max_features=None, max_leaf_nodes=None,\n",
      "              min_impurity_decrease=0.0, min_impurity_split=None,\n",
      "              min_samples_leaf=1, min_samples_split=2,\n",
      "              min_weight_fraction_leaf=0.0, n_estimators=80,\n",
      "              presort='auto', random_state=42, subsample=1.0, verbose=0,\n",
      "              warm_start=False)\n",
      "roc_auc\n",
      "[0.70258483 0.70385912 0.70151421 0.70603013 0.70614159]\n",
      "Среднее: 0.70403 \n",
      "Стандартное отклонение: 0.00367762 \n",
      "Time elapsed: 0:01:56.083263\n",
      "GradientBoostingClassifier(criterion='friedman_mse', init=None,\n",
      "              learning_rate=0.1, loss='deviance', max_depth=3,\n",
      "              max_features=None, max_leaf_nodes=None,\n",
      "              min_impurity_decrease=0.0, min_impurity_split=None,\n",
      "              min_samples_leaf=1, min_samples_split=2,\n",
      "              min_weight_fraction_leaf=0.0, n_estimators=90,\n",
      "              presort='auto', random_state=42, subsample=1.0, verbose=0,\n",
      "              warm_start=False)\n",
      "roc_auc\n",
      "[0.70373539 0.70526261 0.70332548 0.70726945 0.70724772]\n",
      "Среднее: 0.70537 \n",
      "Стандартное отклонение: 0.00334631 \n",
      "Time elapsed: 0:02:11.364872\n"
     ]
    }
   ],
   "source": [
    "k_fold = KFold(n_splits=5, random_state=42, shuffle=True) \n",
    "\n",
    "for i in range(10, 100, 10):\n",
    "    test_model(model=GradientBoostingClassifier(n_estimators=i, random_state=42),X=X)"
   ]
  },
  {
   "cell_type": "code",
   "execution_count": 10,
   "metadata": {},
   "outputs": [
    {
     "name": "stdout",
     "output_type": "stream",
     "text": [
      "GradientBoostingClassifier(criterion='friedman_mse', init=None,\n",
      "              learning_rate=0.1, loss='deviance', max_depth=3,\n",
      "              max_features=None, max_leaf_nodes=None,\n",
      "              min_impurity_decrease=0.0, min_impurity_split=None,\n",
      "              min_samples_leaf=1, min_samples_split=2,\n",
      "              min_weight_fraction_leaf=0.0, n_estimators=1000,\n",
      "              presort='auto', random_state=42, subsample=1.0, verbose=0,\n",
      "              warm_start=False)\n",
      "[0.72431535 0.72288417 0.72351451 0.72770389 0.72451518]\n",
      "Среднее: 0.72459 \n",
      "Стандартное отклонение: 0.00332792 \n",
      "Time elapsed: 0:25:21.641317\n"
     ]
    }
   ],
   "source": [
    "start_time = datetime.datetime.now()\n",
    "\n",
    "model = GradientBoostingClassifier(n_estimators=1000, random_state=42)\n",
    "\n",
    "print(model)\n",
    "    \n",
    "scores = cross_val_score(model, X, y, cv=k_fold, scoring=\"roc_auc\")\n",
    "print(scores)\n",
    "print(\"Среднее: %0.5f \" % (scores.mean()))\n",
    "print(\"Стандартное отклонение: %0.8f \" % (scores.std() * 2))  \n",
    "\n",
    "\n",
    "print('Time elapsed:', end=' ')\n",
    "print(datetime.datetime.now() - start_time)"
   ]
  },
  {
   "cell_type": "markdown",
   "metadata": {},
   "source": [
    "Лучший рез\n",
    "GradientBoostingClassifier(criterion='friedman_mse', init=None,\n",
    "              learning_rate=0.1, loss='deviance', max_depth=3,\n",
    "              max_features=None, max_leaf_nodes=None,\n",
    "              min_impurity_decrease=0.0, min_impurity_split=None,\n",
    "              min_samples_leaf=1, min_samples_split=2,\n",
    "              min_weight_fraction_leaf=0.0, n_estimators=1000,\n",
    "              presort='auto', random_state=42, subsample=1.0, verbose=0,\n",
    "              warm_start=False)\n",
    "[0.72431535 0.72288417 0.72351451 0.72770389 0.72451518]\n",
    "Среднее: 0.72459 \n",
    "Стандартное отклонение: 0.00332792 \n",
    "Time elapsed: 0:25:21.641317"
   ]
  },
  {
   "cell_type": "markdown",
   "metadata": {},
   "source": [
    "# Отчет"
   ]
  },
  {
   "cell_type": "markdown",
   "metadata": {},
   "source": [
    "- Какие признаки имеют пропуски среди своих значений?<br>\n",
    "Написано выше.\n",
    "- Что могут означать пропуски в этих признаках (ответьте на этот вопрос для двух любых признаков)?<br>\n",
    "Написано выше.\n",
    "- Как называется столбец, содержащий целевую переменную?<br>\n",
    "radiant_win\n",
    "- Как долго проводилась кросс-валидация для градиентного бустинга с 30 деревьями? Инструкцию по измерению времени можно найти ниже по тексту. Какое качество при этом получилось? Напомним, что в данном задании мы используем метрику качества AUC-ROC.<br>\n",
    "Среднее: 0.68977<br>\n",
    "Стандартное отклонение: 0.00431423 <br>\n",
    "Time elapsed: 0:00:44.575854<br>\n",
    "- Имеет ли смысл использовать больше 30 деревьев в градиентном бустинге? Что бы вы предложили делать, чтобы ускорить его обучение при увеличении количества деревьев<br>\n",
    "Да. Я использовал на 1000. Но стало очень медленно.<br> Среднее: 0.72459<br> Стандартное отклонение: 0.00332792<br> Time elapsed: 0:25:21.641317"
   ]
  },
  {
   "cell_type": "markdown",
   "metadata": {},
   "source": [
    "# Логистическая регрессия"
   ]
  },
  {
   "cell_type": "markdown",
   "metadata": {},
   "source": [
    "1) Оцените качество логистической регрессии (sklearn.linear_model.LogisticRegression с L2-регуляризацией) с помощью кросс-валидации по той же схеме, которая использовалась для градиентного бустинга. Подберите при этом лучший параметр регуляризации (C)."
   ]
  },
  {
   "cell_type": "code",
   "execution_count": 10,
   "metadata": {},
   "outputs": [],
   "source": [
    "df = features"
   ]
  },
  {
   "cell_type": "code",
   "execution_count": 36,
   "metadata": {},
   "outputs": [],
   "source": [
    "drop_columns = ['duration',\n",
    "                'radiant_win',\n",
    "                'tower_status_radiant',\n",
    "                'tower_status_dire',\n",
    "                'barracks_status_radiant',\n",
    "                'barracks_status_dire',\n",
    "               ]\n",
    "\n",
    "y = df['radiant_win']\n",
    "X = df.drop(columns=drop_columns)\n",
    "\n",
    "values = {'first_blood_time': 3000, \n",
    "          'first_blood_team': -1, \n",
    "          'first_blood_player1': -1,  \n",
    "          'first_blood_player2': -1,\n",
    "          'radiant_bottle_time': 3000,\n",
    "          'radiant_courier_time': 3000, \n",
    "          'radiant_flying_courier_time': 3000, \n",
    "          'radiant_first_ward_time': 3000, \n",
    "          'dire_bottle_time': 3000,\n",
    "          'dire_courier_time': 3000,\n",
    "          'dire_flying_courier_time': 3000,\n",
    "          'dire_first_ward_time': 3000,} \n",
    "X = X.fillna(value=values)"
   ]
  },
  {
   "cell_type": "code",
   "execution_count": 37,
   "metadata": {},
   "outputs": [],
   "source": [
    "scaler = StandardScaler()\n",
    "X = scaler.fit_transform(X)"
   ]
  },
  {
   "cell_type": "code",
   "execution_count": 38,
   "metadata": {
    "scrolled": true
   },
   "outputs": [
    {
     "name": "stdout",
     "output_type": "stream",
     "text": [
      "LogisticRegression(C=0.1, class_weight=None, dual=False, fit_intercept=True,\n",
      "          intercept_scaling=1, max_iter=100, multi_class='ovr', n_jobs=1,\n",
      "          penalty='l2', random_state=42, solver='liblinear', tol=0.0001,\n",
      "          verbose=0, warm_start=False)\n",
      "[0.71386871 0.71598863 0.71561799 0.71668419 0.71763905]\n",
      "Среднее: 0.71596 \n",
      "Стандартное отклонение: 0.00250359 \n",
      "Time elapsed: 0:00:10.287480\n",
      "LogisticRegression(C=0.30000000000000004, class_weight=None, dual=False,\n",
      "          fit_intercept=True, intercept_scaling=1, max_iter=100,\n",
      "          multi_class='ovr', n_jobs=1, penalty='l2', random_state=42,\n",
      "          solver='liblinear', tol=0.0001, verbose=0, warm_start=False)\n",
      "[0.71386644 0.71598813 0.71561408 0.71667753 0.71763585]\n",
      "Среднее: 0.71596 \n",
      "Стандартное отклонение: 0.00250227 \n",
      "Time elapsed: 0:00:10.241269\n",
      "LogisticRegression(C=0.5000000000000001, class_weight=None, dual=False,\n",
      "          fit_intercept=True, intercept_scaling=1, max_iter=100,\n",
      "          multi_class='ovr', n_jobs=1, penalty='l2', random_state=42,\n",
      "          solver='liblinear', tol=0.0001, verbose=0, warm_start=False)\n",
      "[0.71386655 0.71598688 0.71561381 0.7166764  0.71763435]\n",
      "Среднее: 0.71596 \n",
      "Стандартное отклонение: 0.00250115 \n",
      "Time elapsed: 0:00:10.197568\n",
      "LogisticRegression(C=0.7000000000000001, class_weight=None, dual=False,\n",
      "          fit_intercept=True, intercept_scaling=1, max_iter=100,\n",
      "          multi_class='ovr', n_jobs=1, penalty='l2', random_state=42,\n",
      "          solver='liblinear', tol=0.0001, verbose=0, warm_start=False)\n",
      "[0.71386602 0.71598685 0.71561336 0.71667638 0.71763299]\n",
      "Среднее: 0.71596 \n",
      "Стандартное отклонение: 0.00250081 \n",
      "Time elapsed: 0:00:10.239059\n",
      "LogisticRegression(C=0.9000000000000001, class_weight=None, dual=False,\n",
      "          fit_intercept=True, intercept_scaling=1, max_iter=100,\n",
      "          multi_class='ovr', n_jobs=1, penalty='l2', random_state=42,\n",
      "          solver='liblinear', tol=0.0001, verbose=0, warm_start=False)\n",
      "[0.71386646 0.71598677 0.71561308 0.71667622 0.71763311]\n",
      "Среднее: 0.71596 \n",
      "Стандартное отклонение: 0.00250058 \n",
      "Time elapsed: 0:00:10.214759\n",
      "LogisticRegression(C=1.1000000000000003, class_weight=None, dual=False,\n",
      "          fit_intercept=True, intercept_scaling=1, max_iter=100,\n",
      "          multi_class='ovr', n_jobs=1, penalty='l2', random_state=42,\n",
      "          solver='liblinear', tol=0.0001, verbose=0, warm_start=False)\n",
      "[0.7138666  0.71598659 0.71561284 0.71667579 0.71763288]\n",
      "Среднее: 0.71595 \n",
      "Стандартное отклонение: 0.00250029 \n",
      "Time elapsed: 0:00:10.217837\n"
     ]
    }
   ],
   "source": [
    "for i in np.arange(0.1, 1.2, 0.2):\n",
    "    test_model(model=LogisticRegression(random_state=42, C=i, penalty='l2'), X=X, y=y)"
   ]
  },
  {
   "cell_type": "markdown",
   "metadata": {},
   "source": [
    "LogisticRegression(C=0.91, class_weight=None, dual=False, fit_intercept=True,\n",
    "          intercept_scaling=1, max_iter=100, multi_class='ovr', n_jobs=1,\n",
    "          penalty='l2', random_state=42, solver='liblinear', tol=0.0001,\n",
    "          verbose=0, warm_start=False)\n",
    "[0.71386725 0.71598743 0.71561321 0.71667409 0.71763492]\n",
    "Среднее: 0.71596 \n",
    "Стандартное отклонение: 0.00250052 \n",
    "Time elapsed: 0:00:11.117423"
   ]
  },
  {
   "cell_type": "markdown",
   "metadata": {},
   "source": [
    "2) Среди признаков в выборке есть категориальные, которые мы использовали как числовые, что вряд ли является хорошей идеей. Категориальных признаков в этой задаче одиннадцать: lobby_type и r1_hero, r2_hero, ..., r5_hero, d1_hero, d2_hero, ..., d5_hero. Уберите их из выборки, и проведите кросс-валидацию для логистической регрессии на новой выборке с подбором лучшего параметра регуляризации. "
   ]
  },
  {
   "cell_type": "code",
   "execution_count": 39,
   "metadata": {},
   "outputs": [],
   "source": [
    "df = features"
   ]
  },
  {
   "cell_type": "code",
   "execution_count": 202,
   "metadata": {},
   "outputs": [],
   "source": [
    "drop_columns = ['duration',\n",
    "                'radiant_win',\n",
    "                'tower_status_radiant',\n",
    "                'tower_status_dire',\n",
    "                'barracks_status_radiant',\n",
    "                'barracks_status_dire',\n",
    "                'lobby_type',\n",
    "                'r1_hero',\n",
    "                'r2_hero',\n",
    "                'r3_hero',\n",
    "                'r4_hero',\n",
    "                'r5_hero',\n",
    "                'd1_hero',\n",
    "                'd2_hero',\n",
    "                'd3_hero',\n",
    "                'd4_hero',\n",
    "                'd5_hero',\n",
    "               ]\n",
    "\n",
    "y = df['radiant_win']\n",
    "X = df.drop(columns=drop_columns)"
   ]
  },
  {
   "cell_type": "code",
   "execution_count": 203,
   "metadata": {},
   "outputs": [],
   "source": [
    "values = {'first_blood_time': 3000, \n",
    "          'first_blood_team': -1, \n",
    "          'first_blood_player1': -1,  \n",
    "          'first_blood_player2': -1,\n",
    "          'radiant_bottle_time': 3000,\n",
    "          'radiant_courier_time': 3000, \n",
    "          'radiant_flying_courier_time': 3000, \n",
    "          'radiant_first_ward_time': 3000, \n",
    "          'dire_bottle_time': 3000,\n",
    "          'dire_courier_time': 3000,\n",
    "          'dire_flying_courier_time': 3000,\n",
    "          'dire_first_ward_time': 3000,} \n",
    "X = X.fillna(value=values)"
   ]
  },
  {
   "cell_type": "code",
   "execution_count": 204,
   "metadata": {},
   "outputs": [],
   "source": [
    "scaler = StandardScaler()\n",
    "X = scaler.fit_transform(X)"
   ]
  },
  {
   "cell_type": "code",
   "execution_count": 205,
   "metadata": {},
   "outputs": [
    {
     "name": "stdout",
     "output_type": "stream",
     "text": [
      "LogisticRegression(C=0.1, class_weight=None, dual=False, fit_intercept=True,\n",
      "          intercept_scaling=1, max_iter=100, multi_class='ovr', n_jobs=1,\n",
      "          penalty='l2', random_state=42, solver='liblinear', tol=0.0001,\n",
      "          verbose=0, warm_start=False)\n",
      "[0.71374904 0.71603673 0.71567785 0.7166047  0.71784607]\n",
      "Среднее: 0.71598 \n",
      "Стандартное отклонение: 0.00267494 \n",
      "Time elapsed: 0:00:09.187590\n",
      "LogisticRegression(C=0.2, class_weight=None, dual=False, fit_intercept=True,\n",
      "          intercept_scaling=1, max_iter=100, multi_class='ovr', n_jobs=1,\n",
      "          penalty='l2', random_state=42, solver='liblinear', tol=0.0001,\n",
      "          verbose=0, warm_start=False)\n",
      "[0.7137453  0.71603349 0.71567319 0.71660705 0.71784147]\n",
      "Среднее: 0.71598 \n",
      "Стандартное отклонение: 0.00267569 \n",
      "Time elapsed: 0:00:09.401621\n",
      "LogisticRegression(C=0.30000000000000004, class_weight=None, dual=False,\n",
      "          fit_intercept=True, intercept_scaling=1, max_iter=100,\n",
      "          multi_class='ovr', n_jobs=1, penalty='l2', random_state=42,\n",
      "          solver='liblinear', tol=0.0001, verbose=0, warm_start=False)\n",
      "[0.71374404 0.71603386 0.71567208 0.71660835 0.71784104]\n",
      "Среднее: 0.71598 \n",
      "Стандартное отклонение: 0.00267664 \n",
      "Time elapsed: 0:00:09.134992\n",
      "LogisticRegression(C=0.4, class_weight=None, dual=False, fit_intercept=True,\n",
      "          intercept_scaling=1, max_iter=100, multi_class='ovr', n_jobs=1,\n",
      "          penalty='l2', random_state=42, solver='liblinear', tol=0.0001,\n",
      "          verbose=0, warm_start=False)\n",
      "[0.71374392 0.71603449 0.71567178 0.71660902 0.7178411 ]\n",
      "Среднее: 0.71598 \n",
      "Стандартное отклонение: 0.00267692 \n",
      "Time elapsed: 0:00:09.224623\n",
      "LogisticRegression(C=0.5, class_weight=None, dual=False, fit_intercept=True,\n",
      "          intercept_scaling=1, max_iter=100, multi_class='ovr', n_jobs=1,\n",
      "          penalty='l2', random_state=42, solver='liblinear', tol=0.0001,\n",
      "          verbose=0, warm_start=False)\n",
      "[0.71374417 0.7160338  0.71567192 0.71660877 0.71784016]\n",
      "Среднее: 0.71598 \n",
      "Стандартное отклонение: 0.00267616 \n",
      "Time elapsed: 0:00:09.349642\n",
      "LogisticRegression(C=0.6, class_weight=None, dual=False, fit_intercept=True,\n",
      "          intercept_scaling=1, max_iter=100, multi_class='ovr', n_jobs=1,\n",
      "          penalty='l2', random_state=42, solver='liblinear', tol=0.0001,\n",
      "          verbose=0, warm_start=False)\n",
      "[0.71374401 0.71603384 0.71567107 0.71660906 0.71783951]\n",
      "Среднее: 0.71598 \n",
      "Стандартное отклонение: 0.00267604 \n",
      "Time elapsed: 0:00:09.403808\n",
      "LogisticRegression(C=0.7000000000000001, class_weight=None, dual=False,\n",
      "          fit_intercept=True, intercept_scaling=1, max_iter=100,\n",
      "          multi_class='ovr', n_jobs=1, penalty='l2', random_state=42,\n",
      "          solver='liblinear', tol=0.0001, verbose=0, warm_start=False)\n",
      "[0.71374381 0.71603343 0.71567115 0.71660924 0.71783921]\n",
      "Среднее: 0.71598 \n",
      "Стандартное отклонение: 0.00267603 \n",
      "Time elapsed: 0:00:09.262505\n",
      "LogisticRegression(C=0.8, class_weight=None, dual=False, fit_intercept=True,\n",
      "          intercept_scaling=1, max_iter=100, multi_class='ovr', n_jobs=1,\n",
      "          penalty='l2', random_state=42, solver='liblinear', tol=0.0001,\n",
      "          verbose=0, warm_start=False)\n",
      "[0.7137437  0.71603321 0.71567124 0.71660927 0.71783913]\n",
      "Среднее: 0.71598 \n",
      "Стандартное отклонение: 0.00267604 \n",
      "Time elapsed: 0:00:09.042451\n",
      "LogisticRegression(C=0.9, class_weight=None, dual=False, fit_intercept=True,\n",
      "          intercept_scaling=1, max_iter=100, multi_class='ovr', n_jobs=1,\n",
      "          penalty='l2', random_state=42, solver='liblinear', tol=0.0001,\n",
      "          verbose=0, warm_start=False)\n",
      "[0.71374321 0.71603321 0.71567098 0.71660945 0.71783934]\n",
      "Среднее: 0.71598 \n",
      "Стандартное отклонение: 0.00267655 \n",
      "Time elapsed: 0:00:09.102968\n",
      "LogisticRegression(C=1.0, class_weight=None, dual=False, fit_intercept=True,\n",
      "          intercept_scaling=1, max_iter=100, multi_class='ovr', n_jobs=1,\n",
      "          penalty='l2', random_state=42, solver='liblinear', tol=0.0001,\n",
      "          verbose=0, warm_start=False)\n",
      "[0.71374324 0.71603292 0.71567095 0.71660949 0.71783927]\n",
      "Среднее: 0.71598 \n",
      "Стандартное отклонение: 0.00267650 \n",
      "Time elapsed: 0:00:09.047240\n",
      "LogisticRegression(C=1.1, class_weight=None, dual=False, fit_intercept=True,\n",
      "          intercept_scaling=1, max_iter=100, multi_class='ovr', n_jobs=1,\n",
      "          penalty='l2', random_state=42, solver='liblinear', tol=0.0001,\n",
      "          verbose=0, warm_start=False)\n",
      "[0.71374345 0.71603291 0.71567084 0.71660965 0.71783923]\n",
      "Среднее: 0.71598 \n",
      "Стандартное отклонение: 0.00267638 \n",
      "Time elapsed: 0:00:09.063779\n",
      "LogisticRegression(C=1.2000000000000002, class_weight=None, dual=False,\n",
      "          fit_intercept=True, intercept_scaling=1, max_iter=100,\n",
      "          multi_class='ovr', n_jobs=1, penalty='l2', random_state=42,\n",
      "          solver='liblinear', tol=0.0001, verbose=0, warm_start=False)\n",
      "[0.71374334 0.71603289 0.71567092 0.71660957 0.71783932]\n",
      "Среднее: 0.71598 \n",
      "Стандартное отклонение: 0.00267647 \n",
      "Time elapsed: 0:00:09.037031\n",
      "LogisticRegression(C=1.3000000000000003, class_weight=None, dual=False,\n",
      "          fit_intercept=True, intercept_scaling=1, max_iter=100,\n",
      "          multi_class='ovr', n_jobs=1, penalty='l2', random_state=42,\n",
      "          solver='liblinear', tol=0.0001, verbose=0, warm_start=False)\n",
      "[0.71374337 0.71603271 0.71567095 0.71660972 0.71783944]\n",
      "Среднее: 0.71598 \n",
      "Стандартное отклонение: 0.00267655 \n",
      "Time elapsed: 0:00:09.315823\n",
      "LogisticRegression(C=1.4000000000000001, class_weight=None, dual=False,\n",
      "          fit_intercept=True, intercept_scaling=1, max_iter=100,\n",
      "          multi_class='ovr', n_jobs=1, penalty='l2', random_state=42,\n",
      "          solver='liblinear', tol=0.0001, verbose=0, warm_start=False)\n",
      "[0.71374313 0.71603265 0.71567097 0.71660961 0.71783935]\n",
      "Среднее: 0.71598 \n",
      "Стандартное отклонение: 0.00267663 \n",
      "Time elapsed: 0:00:09.437548\n",
      "LogisticRegression(C=1.5000000000000002, class_weight=None, dual=False,\n",
      "          fit_intercept=True, intercept_scaling=1, max_iter=100,\n",
      "          multi_class='ovr', n_jobs=1, penalty='l2', random_state=42,\n",
      "          solver='liblinear', tol=0.0001, verbose=0, warm_start=False)\n",
      "[0.71374307 0.71603255 0.71567094 0.71660944 0.71783932]\n",
      "Среднее: 0.71598 \n",
      "Стандартное отклонение: 0.00267662 \n",
      "Time elapsed: 0:00:09.764069\n",
      "LogisticRegression(C=1.6, class_weight=None, dual=False, fit_intercept=True,\n",
      "          intercept_scaling=1, max_iter=100, multi_class='ovr', n_jobs=1,\n",
      "          penalty='l2', random_state=42, solver='liblinear', tol=0.0001,\n",
      "          verbose=0, warm_start=False)\n",
      "[0.71374303 0.71603254 0.71567095 0.71660947 0.71783937]\n",
      "Среднее: 0.71598 \n",
      "Стандартное отклонение: 0.00267668 \n",
      "Time elapsed: 0:00:09.791355\n",
      "LogisticRegression(C=1.7000000000000002, class_weight=None, dual=False,\n",
      "          fit_intercept=True, intercept_scaling=1, max_iter=100,\n",
      "          multi_class='ovr', n_jobs=1, penalty='l2', random_state=42,\n",
      "          solver='liblinear', tol=0.0001, verbose=0, warm_start=False)\n",
      "[0.71374313 0.71603251 0.71567065 0.71660953 0.71783935]\n",
      "Среднее: 0.71598 \n",
      "Стандартное отклонение: 0.00267664 \n",
      "Time elapsed: 0:00:09.539346\n",
      "LogisticRegression(C=1.8000000000000003, class_weight=None, dual=False,\n",
      "          fit_intercept=True, intercept_scaling=1, max_iter=100,\n",
      "          multi_class='ovr', n_jobs=1, penalty='l2', random_state=42,\n",
      "          solver='liblinear', tol=0.0001, verbose=0, warm_start=False)\n",
      "[0.71374289 0.7160326  0.71567062 0.71660953 0.71783922]\n",
      "Среднее: 0.71598 \n",
      "Стандартное отклонение: 0.00267674 \n",
      "Time elapsed: 0:00:09.456681\n",
      "LogisticRegression(C=1.9000000000000001, class_weight=None, dual=False,\n",
      "          fit_intercept=True, intercept_scaling=1, max_iter=100,\n",
      "          multi_class='ovr', n_jobs=1, penalty='l2', random_state=42,\n",
      "          solver='liblinear', tol=0.0001, verbose=0, warm_start=False)\n",
      "[0.71374294 0.71603259 0.71567067 0.71660962 0.7178392 ]\n",
      "Среднее: 0.71598 \n",
      "Стандартное отклонение: 0.00267670 \n",
      "Time elapsed: 0:00:09.501275\n"
     ]
    }
   ],
   "source": [
    "for i in np.arange(0.1, 2.0, 0.1):\n",
    "    start_time = datetime.datetime.now()\n",
    "\n",
    "    model = LogisticRegression(random_state=42, C=i, penalty='l2')\n",
    "    print(model)\n",
    "    \n",
    "    scores = cross_val_score(model, X, y, cv=k_fold, scoring=\"roc_auc\")\n",
    "    print(scores)\n",
    "    print(\"Среднее: %0.5f \" % (scores.mean()))\n",
    "    print(\"Стандартное отклонение: %0.8f \" % (scores.std() * 2))  \n",
    "\n",
    "    print('Time elapsed:', end=' ')\n",
    "    print(datetime.datetime.now() - start_time)"
   ]
  },
  {
   "cell_type": "markdown",
   "metadata": {},
   "source": [
    "LogisticRegression(C=1.1, class_weight=None, dual=False, fit_intercept=True,\n",
    "          intercept_scaling=1, max_iter=100, multi_class='ovr', n_jobs=1,\n",
    "          penalty='l2', random_state=42, solver='liblinear', tol=0.0001,\n",
    "          verbose=0, warm_start=False)\n",
    "[0.71374345 0.71603291 0.71567084 0.71660965 0.71783923]\n",
    "Среднее: 0.71598 \n",
    "Стандартное отклонение: 0.00267638 \n",
    "Time elapsed: 0:00:09.405575"
   ]
  },
  {
   "cell_type": "markdown",
   "metadata": {},
   "source": [
    "3) На предыдущем шаге мы исключили из выборки признаки rM_hero и dM_hero, которые показывают, какие именно герои играли за каждую команду. Это важные признаки — герои имеют разные характеристики, и некоторые из них выигрывают чаще, чем другие. Выясните из данных, сколько различных идентификаторов героев существует в данной игре (вам может пригодиться фукнция unique или value_counts)."
   ]
  },
  {
   "cell_type": "code",
   "execution_count": 41,
   "metadata": {},
   "outputs": [],
   "source": [
    "df = features"
   ]
  },
  {
   "cell_type": "code",
   "execution_count": 42,
   "metadata": {},
   "outputs": [
    {
     "data": {
      "text/plain": [
       "108"
      ]
     },
     "execution_count": 42,
     "metadata": {},
     "output_type": "execute_result"
    }
   ],
   "source": [
    "d = df['d1_hero'].append([df['d2_hero'], df['d3_hero'], df['d4_hero'], df['d5_hero'], df['r1_hero'], df['r2_hero'], df['r3_hero'], df['r4_hero'], df['r5_hero']] , ignore_index=True)\n",
    "#Вообще соединять не нужно было ,но вдруг... \n",
    "N = d.unique().size \n",
    "N"
   ]
  },
  {
   "cell_type": "code",
   "execution_count": 43,
   "metadata": {},
   "outputs": [
    {
     "data": {
      "text/plain": [
       "112"
      ]
     },
     "execution_count": 43,
     "metadata": {},
     "output_type": "execute_result"
    }
   ],
   "source": [
    "N = d.unique().max()\n",
    "N"
   ]
  },
  {
   "cell_type": "code",
   "execution_count": 44,
   "metadata": {},
   "outputs": [
    {
     "data": {
      "text/plain": [
       "array([  1,   2,   3,   4,   5,   6,   7,   8,   9,  10,  11,  12,  13,\n",
       "        14,  15,  16,  17,  18,  19,  20,  21,  22,  23,  25,  26,  27,\n",
       "        28,  29,  30,  31,  32,  33,  34,  35,  36,  37,  38,  39,  40,\n",
       "        41,  42,  43,  44,  45,  46,  47,  48,  49,  50,  51,  52,  53,\n",
       "        54,  55,  56,  57,  58,  59,  60,  61,  62,  63,  64,  65,  66,\n",
       "        67,  68,  69,  70,  71,  72,  73,  74,  75,  76,  77,  78,  79,\n",
       "        80,  81,  82,  83,  84,  85,  86,  87,  88,  89,  90,  91,  92,\n",
       "        93,  94,  95,  96,  97,  98,  99, 100, 101, 102, 103, 104, 105,\n",
       "       106, 109, 110, 112], dtype=int64)"
      ]
     },
     "execution_count": 44,
     "metadata": {},
     "output_type": "execute_result"
    }
   ],
   "source": [
    "np.sort(d.unique())\n",
    "#Тут пропущенный id"
   ]
  },
  {
   "cell_type": "code",
   "execution_count": 45,
   "metadata": {},
   "outputs": [],
   "source": [
    "X_pick = np.zeros((features.shape[0], N))\n",
    "\n",
    "for i, match_id in enumerate(features.index):\n",
    "    for p in range(5):\n",
    "        X_pick[i, features.loc[match_id, 'r%d_hero' % (p+1)]-1] = 1\n",
    "        X_pick[i, features.loc[match_id, 'd%d_hero' % (p+1)]-1] = -1\n"
   ]
  },
  {
   "cell_type": "code",
   "execution_count": 46,
   "metadata": {},
   "outputs": [
    {
     "data": {
      "text/html": [
       "<div>\n",
       "<style scoped>\n",
       "    .dataframe tbody tr th:only-of-type {\n",
       "        vertical-align: middle;\n",
       "    }\n",
       "\n",
       "    .dataframe tbody tr th {\n",
       "        vertical-align: top;\n",
       "    }\n",
       "\n",
       "    .dataframe thead th {\n",
       "        text-align: right;\n",
       "    }\n",
       "</style>\n",
       "<table border=\"1\" class=\"dataframe\">\n",
       "  <thead>\n",
       "    <tr style=\"text-align: right;\">\n",
       "      <th></th>\n",
       "      <th>0</th>\n",
       "      <th>1</th>\n",
       "      <th>2</th>\n",
       "      <th>3</th>\n",
       "      <th>4</th>\n",
       "      <th>5</th>\n",
       "      <th>6</th>\n",
       "      <th>7</th>\n",
       "      <th>8</th>\n",
       "      <th>9</th>\n",
       "      <th>...</th>\n",
       "      <th>102</th>\n",
       "      <th>103</th>\n",
       "      <th>104</th>\n",
       "      <th>105</th>\n",
       "      <th>106</th>\n",
       "      <th>107</th>\n",
       "      <th>108</th>\n",
       "      <th>109</th>\n",
       "      <th>110</th>\n",
       "      <th>111</th>\n",
       "    </tr>\n",
       "    <tr>\n",
       "      <th>match_id</th>\n",
       "      <th></th>\n",
       "      <th></th>\n",
       "      <th></th>\n",
       "      <th></th>\n",
       "      <th></th>\n",
       "      <th></th>\n",
       "      <th></th>\n",
       "      <th></th>\n",
       "      <th></th>\n",
       "      <th></th>\n",
       "      <th></th>\n",
       "      <th></th>\n",
       "      <th></th>\n",
       "      <th></th>\n",
       "      <th></th>\n",
       "      <th></th>\n",
       "      <th></th>\n",
       "      <th></th>\n",
       "      <th></th>\n",
       "      <th></th>\n",
       "      <th></th>\n",
       "    </tr>\n",
       "  </thead>\n",
       "  <tbody>\n",
       "    <tr>\n",
       "      <th>0</th>\n",
       "      <td>0.0</td>\n",
       "      <td>0.0</td>\n",
       "      <td>0.0</td>\n",
       "      <td>-1053768.0</td>\n",
       "      <td>0.0</td>\n",
       "      <td>0.0</td>\n",
       "      <td>0.0</td>\n",
       "      <td>0.0</td>\n",
       "      <td>0.0</td>\n",
       "      <td>0.0</td>\n",
       "      <td>...</td>\n",
       "      <td>0.0</td>\n",
       "      <td>0.0</td>\n",
       "      <td>481656.0</td>\n",
       "      <td>0.0</td>\n",
       "      <td>0.0</td>\n",
       "      <td>0.0</td>\n",
       "      <td>0.0</td>\n",
       "      <td>0.0</td>\n",
       "      <td>0.0</td>\n",
       "      <td>0.0</td>\n",
       "    </tr>\n",
       "    <tr>\n",
       "      <th>1</th>\n",
       "      <td>0.0</td>\n",
       "      <td>0.0</td>\n",
       "      <td>0.0</td>\n",
       "      <td>0.0</td>\n",
       "      <td>0.0</td>\n",
       "      <td>0.0</td>\n",
       "      <td>-256520.0</td>\n",
       "      <td>0.0</td>\n",
       "      <td>0.0</td>\n",
       "      <td>0.0</td>\n",
       "      <td>...</td>\n",
       "      <td>0.0</td>\n",
       "      <td>0.0</td>\n",
       "      <td>0.0</td>\n",
       "      <td>0.0</td>\n",
       "      <td>0.0</td>\n",
       "      <td>0.0</td>\n",
       "      <td>0.0</td>\n",
       "      <td>0.0</td>\n",
       "      <td>0.0</td>\n",
       "      <td>0.0</td>\n",
       "    </tr>\n",
       "    <tr>\n",
       "      <th>2</th>\n",
       "      <td>0.0</td>\n",
       "      <td>0.0</td>\n",
       "      <td>0.0</td>\n",
       "      <td>2269665.0</td>\n",
       "      <td>0.0</td>\n",
       "      <td>0.0</td>\n",
       "      <td>0.0</td>\n",
       "      <td>0.0</td>\n",
       "      <td>0.0</td>\n",
       "      <td>0.0</td>\n",
       "      <td>...</td>\n",
       "      <td>0.0</td>\n",
       "      <td>0.0</td>\n",
       "      <td>0.0</td>\n",
       "      <td>0.0</td>\n",
       "      <td>0.0</td>\n",
       "      <td>0.0</td>\n",
       "      <td>0.0</td>\n",
       "      <td>0.0</td>\n",
       "      <td>0.0</td>\n",
       "      <td>0.0</td>\n",
       "    </tr>\n",
       "    <tr>\n",
       "      <th>3</th>\n",
       "      <td>0.0</td>\n",
       "      <td>0.0</td>\n",
       "      <td>0.0</td>\n",
       "      <td>0.0</td>\n",
       "      <td>0.0</td>\n",
       "      <td>0.0</td>\n",
       "      <td>0.0</td>\n",
       "      <td>0.0</td>\n",
       "      <td>0.0</td>\n",
       "      <td>0.0</td>\n",
       "      <td>...</td>\n",
       "      <td>0.0</td>\n",
       "      <td>0.0</td>\n",
       "      <td>0.0</td>\n",
       "      <td>0.0</td>\n",
       "      <td>0.0</td>\n",
       "      <td>0.0</td>\n",
       "      <td>0.0</td>\n",
       "      <td>0.0</td>\n",
       "      <td>0.0</td>\n",
       "      <td>0.0</td>\n",
       "    </tr>\n",
       "    <tr>\n",
       "      <th>4</th>\n",
       "      <td>0.0</td>\n",
       "      <td>0.0</td>\n",
       "      <td>0.0</td>\n",
       "      <td>0.0</td>\n",
       "      <td>0.0</td>\n",
       "      <td>0.0</td>\n",
       "      <td>0.0</td>\n",
       "      <td>-1011576.0</td>\n",
       "      <td>0.0</td>\n",
       "      <td>0.0</td>\n",
       "      <td>...</td>\n",
       "      <td>0.0</td>\n",
       "      <td>0.0</td>\n",
       "      <td>0.0</td>\n",
       "      <td>0.0</td>\n",
       "      <td>0.0</td>\n",
       "      <td>0.0</td>\n",
       "      <td>0.0</td>\n",
       "      <td>0.0</td>\n",
       "      <td>0.0</td>\n",
       "      <td>0.0</td>\n",
       "    </tr>\n",
       "  </tbody>\n",
       "</table>\n",
       "<p>5 rows × 112 columns</p>\n",
       "</div>"
      ],
      "text/plain": [
       "          0    1    2          3    4    5         6          7    8    9    \\\n",
       "match_id                                                                      \n",
       "0         0.0  0.0  0.0 -1053768.0  0.0  0.0       0.0        0.0  0.0  0.0   \n",
       "1         0.0  0.0  0.0        0.0  0.0  0.0 -256520.0        0.0  0.0  0.0   \n",
       "2         0.0  0.0  0.0  2269665.0  0.0  0.0       0.0        0.0  0.0  0.0   \n",
       "3         0.0  0.0  0.0        0.0  0.0  0.0       0.0        0.0  0.0  0.0   \n",
       "4         0.0  0.0  0.0        0.0  0.0  0.0       0.0 -1011576.0  0.0  0.0   \n",
       "\n",
       "         ...   102  103       104  105  106  107  108  109  110  111  \n",
       "match_id ...                                                          \n",
       "0        ...   0.0  0.0  481656.0  0.0  0.0  0.0  0.0  0.0  0.0  0.0  \n",
       "1        ...   0.0  0.0       0.0  0.0  0.0  0.0  0.0  0.0  0.0  0.0  \n",
       "2        ...   0.0  0.0       0.0  0.0  0.0  0.0  0.0  0.0  0.0  0.0  \n",
       "3        ...   0.0  0.0       0.0  0.0  0.0  0.0  0.0  0.0  0.0  0.0  \n",
       "4        ...   0.0  0.0       0.0  0.0  0.0  0.0  0.0  0.0  0.0  0.0  \n",
       "\n",
       "[5 rows x 112 columns]"
      ]
     },
     "execution_count": 46,
     "metadata": {},
     "output_type": "execute_result"
    }
   ],
   "source": [
    "df_pick = pd.DataFrame(data=X_pick, index=df.index)\n",
    "df_pick.head()"
   ]
  },
  {
   "cell_type": "code",
   "execution_count": 47,
   "metadata": {
    "scrolled": true
   },
   "outputs": [],
   "source": [
    "drop_columns = ['duration',\n",
    "                'radiant_win',\n",
    "                'tower_status_radiant',\n",
    "                'tower_status_dire',\n",
    "                'barracks_status_radiant',\n",
    "                'barracks_status_dire',\n",
    "                'lobby_type',\n",
    "                'r1_hero',\n",
    "                'r2_hero',\n",
    "                'r3_hero',\n",
    "                'r4_hero',\n",
    "                'r5_hero',\n",
    "                'd1_hero',\n",
    "                'd2_hero',\n",
    "                'd3_hero',\n",
    "                'd4_hero',\n",
    "                'd5_hero',\n",
    "               ]\n",
    "\n",
    "y = df['radiant_win']\n",
    "X = df.drop(columns=drop_columns)\n",
    "\n",
    "values = {'first_blood_time': 300, #Оказывается если их уменьшать то становится лучше TODO:проверить какие как влияют\n",
    "          'first_blood_team': -1, \n",
    "          'first_blood_player1': -1,  \n",
    "          'first_blood_player2': -1,\n",
    "          'radiant_bottle_time': 300,\n",
    "          'radiant_courier_time': 300, \n",
    "          'radiant_flying_courier_time': 300, \n",
    "          'radiant_first_ward_time': 300, \n",
    "          'dire_bottle_time': 300,\n",
    "          'dire_courier_time': 300,\n",
    "          'dire_flying_courier_time': 300,\n",
    "          'dire_first_ward_time': 300,} \n",
    "X = X.fillna(value=values)\n"
   ]
  },
  {
   "cell_type": "code",
   "execution_count": 48,
   "metadata": {},
   "outputs": [
    {
     "name": "stdout",
     "output_type": "stream",
     "text": [
      "<class 'pandas.core.frame.DataFrame'>\n",
      "Int64Index: 97230 entries, 0 to 114406\n",
      "Columns: 203 entries, start_time to 111\n",
      "dtypes: float64(124), int64(79)\n",
      "memory usage: 153.8 MB\n"
     ]
    }
   ],
   "source": [
    "X = pd.merge(X, df_pick, left_index=True, right_index=True, how='outer')\n",
    "X.info()"
   ]
  },
  {
   "cell_type": "code",
   "execution_count": 49,
   "metadata": {},
   "outputs": [],
   "source": [
    "scaler = StandardScaler()\n",
    "X = scaler.fit_transform(X)"
   ]
  },
  {
   "cell_type": "code",
   "execution_count": 117,
   "metadata": {
    "scrolled": true
   },
   "outputs": [
    {
     "name": "stdout",
     "output_type": "stream",
     "text": [
      "LogisticRegression(C=0.1, class_weight=None, dual=False, fit_intercept=True,\n",
      "          intercept_scaling=1, max_iter=100, multi_class='ovr', n_jobs=1,\n",
      "          penalty='l2', random_state=42, solver='liblinear', tol=0.0001,\n",
      "          verbose=0, warm_start=False)\n",
      "[0.74887603 0.75319956 0.74938933 0.75582093 0.75135239]\n",
      "Среднее: 0.75173 \n",
      "Стандартное отклонение: 0.00511169 \n",
      "Time elapsed: 0:00:19.196522\n",
      "LogisticRegression(C=0.2, class_weight=None, dual=False, fit_intercept=True,\n",
      "          intercept_scaling=1, max_iter=100, multi_class='ovr', n_jobs=1,\n",
      "          penalty='l2', random_state=42, solver='liblinear', tol=0.0001,\n",
      "          verbose=0, warm_start=False)\n",
      "[0.74887592 0.75319961 0.7493889  0.75581668 0.75134786]\n",
      "Среднее: 0.75173 \n",
      "Стандартное отклонение: 0.00510946 \n",
      "Time elapsed: 0:00:19.508623\n",
      "LogisticRegression(C=0.30000000000000004, class_weight=None, dual=False,\n",
      "          fit_intercept=True, intercept_scaling=1, max_iter=100,\n",
      "          multi_class='ovr', n_jobs=1, penalty='l2', random_state=42,\n",
      "          solver='liblinear', tol=0.0001, verbose=0, warm_start=False)\n",
      "[0.74887546 0.75319789 0.74938803 0.75581608 0.75134627]\n",
      "Среднее: 0.75172 \n",
      "Стандартное отклонение: 0.00510929 \n",
      "Time elapsed: 0:00:19.362161\n",
      "LogisticRegression(C=0.4, class_weight=None, dual=False, fit_intercept=True,\n",
      "          intercept_scaling=1, max_iter=100, multi_class='ovr', n_jobs=1,\n",
      "          penalty='l2', random_state=42, solver='liblinear', tol=0.0001,\n",
      "          verbose=0, warm_start=False)\n",
      "[0.74887667 0.7531972  0.7493868  0.75581577 0.75134474]\n",
      "Среднее: 0.75172 \n",
      "Стандартное отклонение: 0.00510894 \n",
      "Time elapsed: 0:00:19.429432\n",
      "LogisticRegression(C=0.5, class_weight=None, dual=False, fit_intercept=True,\n",
      "          intercept_scaling=1, max_iter=100, multi_class='ovr', n_jobs=1,\n",
      "          penalty='l2', random_state=42, solver='liblinear', tol=0.0001,\n",
      "          verbose=0, warm_start=False)\n",
      "[0.7488771  0.7531966  0.74938655 0.75581449 0.75134379]\n",
      "Среднее: 0.75172 \n",
      "Стандартное отклонение: 0.00510794 \n",
      "Time elapsed: 0:00:19.446046\n",
      "LogisticRegression(C=0.6, class_weight=None, dual=False, fit_intercept=True,\n",
      "          intercept_scaling=1, max_iter=100, multi_class='ovr', n_jobs=1,\n",
      "          penalty='l2', random_state=42, solver='liblinear', tol=0.0001,\n",
      "          verbose=0, warm_start=False)\n",
      "[0.74887766 0.75319617 0.74938589 0.7558143  0.75134347]\n",
      "Среднее: 0.75172 \n",
      "Стандартное отклонение: 0.00510772 \n",
      "Time elapsed: 0:00:19.226680\n",
      "LogisticRegression(C=0.7000000000000001, class_weight=None, dual=False,\n",
      "          fit_intercept=True, intercept_scaling=1, max_iter=100,\n",
      "          multi_class='ovr', n_jobs=1, penalty='l2', random_state=42,\n",
      "          solver='liblinear', tol=0.0001, verbose=0, warm_start=False)\n",
      "[0.74887776 0.75319636 0.74938557 0.75581377 0.75134337]\n",
      "Среднее: 0.75172 \n",
      "Стандартное отклонение: 0.00510751 \n",
      "Time elapsed: 0:00:18.579028\n",
      "LogisticRegression(C=0.8, class_weight=None, dual=False, fit_intercept=True,\n",
      "          intercept_scaling=1, max_iter=100, multi_class='ovr', n_jobs=1,\n",
      "          penalty='l2', random_state=42, solver='liblinear', tol=0.0001,\n",
      "          verbose=0, warm_start=False)\n",
      "[0.74887784 0.75319545 0.74938531 0.75581357 0.75134292]\n",
      "Среднее: 0.75172 \n",
      "Стандартное отклонение: 0.00510726 \n",
      "Time elapsed: 0:00:18.430277\n",
      "LogisticRegression(C=0.9, class_weight=None, dual=False, fit_intercept=True,\n",
      "          intercept_scaling=1, max_iter=100, multi_class='ovr', n_jobs=1,\n",
      "          penalty='l2', random_state=42, solver='liblinear', tol=0.0001,\n",
      "          verbose=0, warm_start=False)\n",
      "[0.74887819 0.75319542 0.74938483 0.75581391 0.75134249]\n",
      "Среднее: 0.75172 \n",
      "Стандартное отклонение: 0.00510751 \n",
      "Time elapsed: 0:00:18.530962\n",
      "LogisticRegression(C=1.0, class_weight=None, dual=False, fit_intercept=True,\n",
      "          intercept_scaling=1, max_iter=100, multi_class='ovr', n_jobs=1,\n",
      "          penalty='l2', random_state=42, solver='liblinear', tol=0.0001,\n",
      "          verbose=0, warm_start=False)\n",
      "[0.74887774 0.75319515 0.74938467 0.75581409 0.75134238]\n",
      "Среднее: 0.75172 \n",
      "Стандартное отклонение: 0.00510783 \n",
      "Time elapsed: 0:00:18.669067\n",
      "LogisticRegression(C=1.1, class_weight=None, dual=False, fit_intercept=True,\n",
      "          intercept_scaling=1, max_iter=100, multi_class='ovr', n_jobs=1,\n",
      "          penalty='l2', random_state=42, solver='liblinear', tol=0.0001,\n",
      "          verbose=0, warm_start=False)\n",
      "[0.74887772 0.75319498 0.74938448 0.75581423 0.75134195]\n",
      "Среднее: 0.75172 \n",
      "Стандартное отклонение: 0.00510799 \n",
      "Time elapsed: 0:00:19.540023\n",
      "LogisticRegression(C=1.2000000000000002, class_weight=None, dual=False,\n",
      "          fit_intercept=True, intercept_scaling=1, max_iter=100,\n",
      "          multi_class='ovr', n_jobs=1, penalty='l2', random_state=42,\n",
      "          solver='liblinear', tol=0.0001, verbose=0, warm_start=False)\n",
      "[0.74887774 0.75319492 0.74938459 0.75581418 0.75134219]\n",
      "Среднее: 0.75172 \n",
      "Стандартное отклонение: 0.00510788 \n",
      "Time elapsed: 0:00:19.074050\n",
      "LogisticRegression(C=1.3000000000000003, class_weight=None, dual=False,\n",
      "          fit_intercept=True, intercept_scaling=1, max_iter=100,\n",
      "          multi_class='ovr', n_jobs=1, penalty='l2', random_state=42,\n",
      "          solver='liblinear', tol=0.0001, verbose=0, warm_start=False)\n",
      "[0.74887805 0.75319487 0.7493843  0.75581438 0.75134223]\n",
      "Среднее: 0.75172 \n",
      "Стандартное отклонение: 0.00510795 \n",
      "Time elapsed: 0:00:18.508862\n",
      "LogisticRegression(C=1.4000000000000001, class_weight=None, dual=False,\n",
      "          fit_intercept=True, intercept_scaling=1, max_iter=100,\n",
      "          multi_class='ovr', n_jobs=1, penalty='l2', random_state=42,\n",
      "          solver='liblinear', tol=0.0001, verbose=0, warm_start=False)\n",
      "[0.74887813 0.75319474 0.74938415 0.75581434 0.75134215]\n",
      "Среднее: 0.75172 \n",
      "Стандартное отклонение: 0.00510793 \n",
      "Time elapsed: 0:00:19.023303\n",
      "LogisticRegression(C=1.5000000000000002, class_weight=None, dual=False,\n",
      "          fit_intercept=True, intercept_scaling=1, max_iter=100,\n",
      "          multi_class='ovr', n_jobs=1, penalty='l2', random_state=42,\n",
      "          solver='liblinear', tol=0.0001, verbose=0, warm_start=False)\n",
      "[0.74887805 0.75319476 0.74938406 0.75581431 0.75134226]\n",
      "Среднее: 0.75172 \n",
      "Стандартное отклонение: 0.00510797 \n",
      "Time elapsed: 0:00:18.816768\n",
      "LogisticRegression(C=1.6, class_weight=None, dual=False, fit_intercept=True,\n",
      "          intercept_scaling=1, max_iter=100, multi_class='ovr', n_jobs=1,\n",
      "          penalty='l2', random_state=42, solver='liblinear', tol=0.0001,\n",
      "          verbose=0, warm_start=False)\n",
      "[0.74887786 0.75319495 0.74938397 0.75581433 0.75134205]\n",
      "Среднее: 0.75172 \n",
      "Стандартное отклонение: 0.00510816 \n",
      "Time elapsed: 0:00:18.693378\n",
      "LogisticRegression(C=1.7000000000000002, class_weight=None, dual=False,\n",
      "          fit_intercept=True, intercept_scaling=1, max_iter=100,\n",
      "          multi_class='ovr', n_jobs=1, penalty='l2', random_state=42,\n",
      "          solver='liblinear', tol=0.0001, verbose=0, warm_start=False)\n",
      "[0.7488779  0.75319497 0.74938389 0.75581421 0.75134193]\n",
      "Среднее: 0.75172 \n",
      "Стандартное отклонение: 0.00510811 \n",
      "Time elapsed: 0:00:18.735899\n",
      "LogisticRegression(C=1.8000000000000003, class_weight=None, dual=False,\n",
      "          fit_intercept=True, intercept_scaling=1, max_iter=100,\n",
      "          multi_class='ovr', n_jobs=1, penalty='l2', random_state=42,\n",
      "          solver='liblinear', tol=0.0001, verbose=0, warm_start=False)\n",
      "[0.74887792 0.75319486 0.74938369 0.75581406 0.75134179]\n",
      "Среднее: 0.75172 \n",
      "Стандартное отклонение: 0.00510806 \n",
      "Time elapsed: 0:00:18.447771\n",
      "LogisticRegression(C=1.9000000000000001, class_weight=None, dual=False,\n",
      "          fit_intercept=True, intercept_scaling=1, max_iter=100,\n",
      "          multi_class='ovr', n_jobs=1, penalty='l2', random_state=42,\n",
      "          solver='liblinear', tol=0.0001, verbose=0, warm_start=False)\n",
      "[0.74887802 0.75319481 0.74938364 0.75581399 0.75134179]\n",
      "Среднее: 0.75172 \n",
      "Стандартное отклонение: 0.00510798 \n",
      "Time elapsed: 0:00:18.949846\n"
     ]
    }
   ],
   "source": [
    "for i in np.arange(0.1, 2.0, 0.1):\n",
    "    start_time = datetime.datetime.now()\n",
    "\n",
    "    model = LogisticRegression(random_state=42, C=i, penalty='l2')\n",
    "    print(model)\n",
    "    \n",
    "    scores = cross_val_score(model, X, y, cv=k_fold, scoring=\"roc_auc\")\n",
    "    print(scores)\n",
    "    print(\"Среднее: %0.5f \" % (scores.mean()))\n",
    "    print(\"Стандартное отклонение: %0.8f \" % (scores.std() * 2))  \n",
    "\n",
    "    print('Time elapsed:', end=' ')\n",
    "    print(datetime.datetime.now() - start_time)"
   ]
  },
  {
   "cell_type": "markdown",
   "metadata": {},
   "source": [
    "LogisticRegression(C=0.2, class_weight=None, dual=False, fit_intercept=True,\n",
    "          intercept_scaling=1, max_iter=100, multi_class='ovr', n_jobs=1,\n",
    "          penalty='l2', random_state=42, solver='liblinear', tol=0.0001,\n",
    "          verbose=0, warm_start=False)\n",
    "[0.74887592 0.75319961 0.7493889  0.75581668 0.75134786]\n",
    "Среднее: 0.75173 \n",
    "Стандартное отклонение: 0.00510946 \n",
    "Time elapsed: 0:00:19.508623"
   ]
  },
  {
   "cell_type": "markdown",
   "metadata": {},
   "source": [
    "# Попробую добавить мешок слов из геров к основному датасету"
   ]
  },
  {
   "cell_type": "code",
   "execution_count": 19,
   "metadata": {},
   "outputs": [],
   "source": [
    "df = features\n",
    "\n",
    "drop_columns = ['duration',\n",
    "                'radiant_win',\n",
    "                'tower_status_radiant',\n",
    "                'tower_status_dire',\n",
    "                'barracks_status_radiant',\n",
    "                'barracks_status_dire',\n",
    "                'lobby_type',\n",
    "                'r1_hero',\n",
    "                'r2_hero',\n",
    "                'r3_hero',\n",
    "                'r4_hero',\n",
    "                'r5_hero',\n",
    "                'd1_hero',\n",
    "                'd2_hero',\n",
    "                'd3_hero',\n",
    "                'd4_hero',\n",
    "                'd5_hero',\n",
    "                ]\n",
    "\n",
    "y = df['radiant_win']\n",
    "X = df.drop(columns=drop_columns)\n",
    "\n",
    "values = {'first_blood_time': 900, \n",
    "          'first_blood_team': -1, \n",
    "          'first_blood_player1': -1,  \n",
    "          'first_blood_player2': -1,\n",
    "          'radiant_bottle_time': 900,\n",
    "          'radiant_courier_time': 900, \n",
    "          'radiant_flying_courier_time': 900, \n",
    "          'radiant_first_ward_time': 900, \n",
    "          'dire_bottle_time': 900,\n",
    "          'dire_courier_time': 900,\n",
    "          'dire_flying_courier_time': 900,\n",
    "          'dire_first_ward_time': 900,} \n",
    "X = X.fillna(value=values)"
   ]
  },
  {
   "cell_type": "code",
   "execution_count": 20,
   "metadata": {},
   "outputs": [],
   "source": [
    "X_pick = np.zeros((features.shape[0], 112))\n",
    "\n",
    "for i, match_id in enumerate(features.index):\n",
    "    for p in range(5):\n",
    "        X_pick[i, features.loc[match_id, 'r%d_hero' % (p+1)]-1] = features.loc[match_id, 'r%d_level' % (p+1)] \n",
    "        X_pick[i, features.loc[match_id, 'd%d_hero' % (p+1)]-1] = -1 * features.loc[match_id, 'd%d_level' % (p+1)]\n",
    "    "
   ]
  },
  {
   "cell_type": "code",
   "execution_count": 21,
   "metadata": {},
   "outputs": [
    {
     "data": {
      "text/html": [
       "<div>\n",
       "<style scoped>\n",
       "    .dataframe tbody tr th:only-of-type {\n",
       "        vertical-align: middle;\n",
       "    }\n",
       "\n",
       "    .dataframe tbody tr th {\n",
       "        vertical-align: top;\n",
       "    }\n",
       "\n",
       "    .dataframe thead th {\n",
       "        text-align: right;\n",
       "    }\n",
       "</style>\n",
       "<table border=\"1\" class=\"dataframe\">\n",
       "  <thead>\n",
       "    <tr style=\"text-align: right;\">\n",
       "      <th></th>\n",
       "      <th>0</th>\n",
       "      <th>1</th>\n",
       "      <th>2</th>\n",
       "      <th>3</th>\n",
       "      <th>4</th>\n",
       "      <th>5</th>\n",
       "      <th>6</th>\n",
       "      <th>7</th>\n",
       "      <th>8</th>\n",
       "      <th>9</th>\n",
       "      <th>...</th>\n",
       "      <th>102</th>\n",
       "      <th>103</th>\n",
       "      <th>104</th>\n",
       "      <th>105</th>\n",
       "      <th>106</th>\n",
       "      <th>107</th>\n",
       "      <th>108</th>\n",
       "      <th>109</th>\n",
       "      <th>110</th>\n",
       "      <th>111</th>\n",
       "    </tr>\n",
       "    <tr>\n",
       "      <th>match_id</th>\n",
       "      <th></th>\n",
       "      <th></th>\n",
       "      <th></th>\n",
       "      <th></th>\n",
       "      <th></th>\n",
       "      <th></th>\n",
       "      <th></th>\n",
       "      <th></th>\n",
       "      <th></th>\n",
       "      <th></th>\n",
       "      <th></th>\n",
       "      <th></th>\n",
       "      <th></th>\n",
       "      <th></th>\n",
       "      <th></th>\n",
       "      <th></th>\n",
       "      <th></th>\n",
       "      <th></th>\n",
       "      <th></th>\n",
       "      <th></th>\n",
       "      <th></th>\n",
       "    </tr>\n",
       "  </thead>\n",
       "  <tbody>\n",
       "    <tr>\n",
       "      <th>0</th>\n",
       "      <td>0.0</td>\n",
       "      <td>0.0</td>\n",
       "      <td>0.0</td>\n",
       "      <td>-3.0</td>\n",
       "      <td>0.0</td>\n",
       "      <td>0.0</td>\n",
       "      <td>0.0</td>\n",
       "      <td>0.0</td>\n",
       "      <td>0.0</td>\n",
       "      <td>0.0</td>\n",
       "      <td>...</td>\n",
       "      <td>0.0</td>\n",
       "      <td>0.0</td>\n",
       "      <td>3.0</td>\n",
       "      <td>0.0</td>\n",
       "      <td>0.0</td>\n",
       "      <td>0.0</td>\n",
       "      <td>0.0</td>\n",
       "      <td>0.0</td>\n",
       "      <td>0.0</td>\n",
       "      <td>0.0</td>\n",
       "    </tr>\n",
       "    <tr>\n",
       "      <th>1</th>\n",
       "      <td>0.0</td>\n",
       "      <td>0.0</td>\n",
       "      <td>0.0</td>\n",
       "      <td>0.0</td>\n",
       "      <td>0.0</td>\n",
       "      <td>0.0</td>\n",
       "      <td>-2.0</td>\n",
       "      <td>0.0</td>\n",
       "      <td>0.0</td>\n",
       "      <td>0.0</td>\n",
       "      <td>...</td>\n",
       "      <td>0.0</td>\n",
       "      <td>0.0</td>\n",
       "      <td>0.0</td>\n",
       "      <td>0.0</td>\n",
       "      <td>0.0</td>\n",
       "      <td>0.0</td>\n",
       "      <td>0.0</td>\n",
       "      <td>0.0</td>\n",
       "      <td>0.0</td>\n",
       "      <td>0.0</td>\n",
       "    </tr>\n",
       "    <tr>\n",
       "      <th>2</th>\n",
       "      <td>0.0</td>\n",
       "      <td>0.0</td>\n",
       "      <td>0.0</td>\n",
       "      <td>3.0</td>\n",
       "      <td>0.0</td>\n",
       "      <td>0.0</td>\n",
       "      <td>0.0</td>\n",
       "      <td>0.0</td>\n",
       "      <td>0.0</td>\n",
       "      <td>0.0</td>\n",
       "      <td>...</td>\n",
       "      <td>0.0</td>\n",
       "      <td>0.0</td>\n",
       "      <td>0.0</td>\n",
       "      <td>0.0</td>\n",
       "      <td>0.0</td>\n",
       "      <td>0.0</td>\n",
       "      <td>0.0</td>\n",
       "      <td>0.0</td>\n",
       "      <td>0.0</td>\n",
       "      <td>0.0</td>\n",
       "    </tr>\n",
       "    <tr>\n",
       "      <th>3</th>\n",
       "      <td>0.0</td>\n",
       "      <td>0.0</td>\n",
       "      <td>0.0</td>\n",
       "      <td>0.0</td>\n",
       "      <td>0.0</td>\n",
       "      <td>0.0</td>\n",
       "      <td>0.0</td>\n",
       "      <td>0.0</td>\n",
       "      <td>0.0</td>\n",
       "      <td>0.0</td>\n",
       "      <td>...</td>\n",
       "      <td>0.0</td>\n",
       "      <td>0.0</td>\n",
       "      <td>0.0</td>\n",
       "      <td>0.0</td>\n",
       "      <td>0.0</td>\n",
       "      <td>0.0</td>\n",
       "      <td>0.0</td>\n",
       "      <td>0.0</td>\n",
       "      <td>0.0</td>\n",
       "      <td>0.0</td>\n",
       "    </tr>\n",
       "    <tr>\n",
       "      <th>4</th>\n",
       "      <td>0.0</td>\n",
       "      <td>0.0</td>\n",
       "      <td>0.0</td>\n",
       "      <td>0.0</td>\n",
       "      <td>0.0</td>\n",
       "      <td>0.0</td>\n",
       "      <td>0.0</td>\n",
       "      <td>-4.0</td>\n",
       "      <td>0.0</td>\n",
       "      <td>0.0</td>\n",
       "      <td>...</td>\n",
       "      <td>0.0</td>\n",
       "      <td>0.0</td>\n",
       "      <td>0.0</td>\n",
       "      <td>0.0</td>\n",
       "      <td>0.0</td>\n",
       "      <td>0.0</td>\n",
       "      <td>0.0</td>\n",
       "      <td>0.0</td>\n",
       "      <td>0.0</td>\n",
       "      <td>0.0</td>\n",
       "    </tr>\n",
       "    <tr>\n",
       "      <th>5</th>\n",
       "      <td>0.0</td>\n",
       "      <td>0.0</td>\n",
       "      <td>-2.0</td>\n",
       "      <td>0.0</td>\n",
       "      <td>0.0</td>\n",
       "      <td>0.0</td>\n",
       "      <td>0.0</td>\n",
       "      <td>0.0</td>\n",
       "      <td>0.0</td>\n",
       "      <td>0.0</td>\n",
       "      <td>...</td>\n",
       "      <td>0.0</td>\n",
       "      <td>0.0</td>\n",
       "      <td>0.0</td>\n",
       "      <td>0.0</td>\n",
       "      <td>0.0</td>\n",
       "      <td>0.0</td>\n",
       "      <td>0.0</td>\n",
       "      <td>0.0</td>\n",
       "      <td>0.0</td>\n",
       "      <td>0.0</td>\n",
       "    </tr>\n",
       "    <tr>\n",
       "      <th>8</th>\n",
       "      <td>0.0</td>\n",
       "      <td>0.0</td>\n",
       "      <td>0.0</td>\n",
       "      <td>0.0</td>\n",
       "      <td>0.0</td>\n",
       "      <td>0.0</td>\n",
       "      <td>3.0</td>\n",
       "      <td>3.0</td>\n",
       "      <td>0.0</td>\n",
       "      <td>0.0</td>\n",
       "      <td>...</td>\n",
       "      <td>0.0</td>\n",
       "      <td>0.0</td>\n",
       "      <td>0.0</td>\n",
       "      <td>0.0</td>\n",
       "      <td>0.0</td>\n",
       "      <td>0.0</td>\n",
       "      <td>0.0</td>\n",
       "      <td>0.0</td>\n",
       "      <td>0.0</td>\n",
       "      <td>0.0</td>\n",
       "    </tr>\n",
       "    <tr>\n",
       "      <th>9</th>\n",
       "      <td>0.0</td>\n",
       "      <td>0.0</td>\n",
       "      <td>0.0</td>\n",
       "      <td>0.0</td>\n",
       "      <td>0.0</td>\n",
       "      <td>0.0</td>\n",
       "      <td>0.0</td>\n",
       "      <td>0.0</td>\n",
       "      <td>0.0</td>\n",
       "      <td>0.0</td>\n",
       "      <td>...</td>\n",
       "      <td>0.0</td>\n",
       "      <td>0.0</td>\n",
       "      <td>0.0</td>\n",
       "      <td>0.0</td>\n",
       "      <td>0.0</td>\n",
       "      <td>0.0</td>\n",
       "      <td>0.0</td>\n",
       "      <td>0.0</td>\n",
       "      <td>0.0</td>\n",
       "      <td>0.0</td>\n",
       "    </tr>\n",
       "    <tr>\n",
       "      <th>11</th>\n",
       "      <td>0.0</td>\n",
       "      <td>0.0</td>\n",
       "      <td>0.0</td>\n",
       "      <td>0.0</td>\n",
       "      <td>0.0</td>\n",
       "      <td>0.0</td>\n",
       "      <td>-3.0</td>\n",
       "      <td>0.0</td>\n",
       "      <td>0.0</td>\n",
       "      <td>0.0</td>\n",
       "      <td>...</td>\n",
       "      <td>0.0</td>\n",
       "      <td>0.0</td>\n",
       "      <td>0.0</td>\n",
       "      <td>0.0</td>\n",
       "      <td>0.0</td>\n",
       "      <td>0.0</td>\n",
       "      <td>0.0</td>\n",
       "      <td>0.0</td>\n",
       "      <td>0.0</td>\n",
       "      <td>0.0</td>\n",
       "    </tr>\n",
       "    <tr>\n",
       "      <th>12</th>\n",
       "      <td>0.0</td>\n",
       "      <td>0.0</td>\n",
       "      <td>0.0</td>\n",
       "      <td>0.0</td>\n",
       "      <td>0.0</td>\n",
       "      <td>0.0</td>\n",
       "      <td>0.0</td>\n",
       "      <td>0.0</td>\n",
       "      <td>0.0</td>\n",
       "      <td>0.0</td>\n",
       "      <td>...</td>\n",
       "      <td>0.0</td>\n",
       "      <td>0.0</td>\n",
       "      <td>0.0</td>\n",
       "      <td>0.0</td>\n",
       "      <td>0.0</td>\n",
       "      <td>0.0</td>\n",
       "      <td>0.0</td>\n",
       "      <td>0.0</td>\n",
       "      <td>0.0</td>\n",
       "      <td>0.0</td>\n",
       "    </tr>\n",
       "  </tbody>\n",
       "</table>\n",
       "<p>10 rows × 112 columns</p>\n",
       "</div>"
      ],
      "text/plain": [
       "          0    1    2    3    4    5    6    7    8    9   ...   102  103  \\\n",
       "match_id                                                   ...              \n",
       "0         0.0  0.0  0.0 -3.0  0.0  0.0  0.0  0.0  0.0  0.0 ...   0.0  0.0   \n",
       "1         0.0  0.0  0.0  0.0  0.0  0.0 -2.0  0.0  0.0  0.0 ...   0.0  0.0   \n",
       "2         0.0  0.0  0.0  3.0  0.0  0.0  0.0  0.0  0.0  0.0 ...   0.0  0.0   \n",
       "3         0.0  0.0  0.0  0.0  0.0  0.0  0.0  0.0  0.0  0.0 ...   0.0  0.0   \n",
       "4         0.0  0.0  0.0  0.0  0.0  0.0  0.0 -4.0  0.0  0.0 ...   0.0  0.0   \n",
       "5         0.0  0.0 -2.0  0.0  0.0  0.0  0.0  0.0  0.0  0.0 ...   0.0  0.0   \n",
       "8         0.0  0.0  0.0  0.0  0.0  0.0  3.0  3.0  0.0  0.0 ...   0.0  0.0   \n",
       "9         0.0  0.0  0.0  0.0  0.0  0.0  0.0  0.0  0.0  0.0 ...   0.0  0.0   \n",
       "11        0.0  0.0  0.0  0.0  0.0  0.0 -3.0  0.0  0.0  0.0 ...   0.0  0.0   \n",
       "12        0.0  0.0  0.0  0.0  0.0  0.0  0.0  0.0  0.0  0.0 ...   0.0  0.0   \n",
       "\n",
       "          104  105  106  107  108  109  110  111  \n",
       "match_id                                          \n",
       "0         3.0  0.0  0.0  0.0  0.0  0.0  0.0  0.0  \n",
       "1         0.0  0.0  0.0  0.0  0.0  0.0  0.0  0.0  \n",
       "2         0.0  0.0  0.0  0.0  0.0  0.0  0.0  0.0  \n",
       "3         0.0  0.0  0.0  0.0  0.0  0.0  0.0  0.0  \n",
       "4         0.0  0.0  0.0  0.0  0.0  0.0  0.0  0.0  \n",
       "5         0.0  0.0  0.0  0.0  0.0  0.0  0.0  0.0  \n",
       "8         0.0  0.0  0.0  0.0  0.0  0.0  0.0  0.0  \n",
       "9         0.0  0.0  0.0  0.0  0.0  0.0  0.0  0.0  \n",
       "11        0.0  0.0  0.0  0.0  0.0  0.0  0.0  0.0  \n",
       "12        0.0  0.0  0.0  0.0  0.0  0.0  0.0  0.0  \n",
       "\n",
       "[10 rows x 112 columns]"
      ]
     },
     "execution_count": 21,
     "metadata": {},
     "output_type": "execute_result"
    }
   ],
   "source": [
    "\n",
    "df_pick = pd.DataFrame(data=X_pick, index=df.index)\n",
    "#df_pick = df_pick.drop(columns=[107,106,110]) #Ненужны так как таких героев нет\n",
    "\n",
    "X = pd.merge(X, df_pick, left_index=True, right_index=True, how='outer')\n",
    "\n",
    "scaler = StandardScaler()   \n",
    "X = scaler.fit_transform(X)\n",
    "df_pick.head(10)"
   ]
  },
  {
   "cell_type": "code",
   "execution_count": 22,
   "metadata": {},
   "outputs": [
    {
     "name": "stdout",
     "output_type": "stream",
     "text": [
      "LogisticRegression(C=0.1, class_weight=None, dual=False, fit_intercept=True,\n",
      "          intercept_scaling=1, max_iter=100, multi_class='ovr', n_jobs=1,\n",
      "          penalty='l2', random_state=42, solver='liblinear', tol=0.0001,\n",
      "          verbose=0, warm_start=False)\n",
      "[0.7484524  0.75321642 0.74882657 0.75549802 0.75107828]\n",
      "Среднее: 0.75141 \n",
      "Стандартное отклонение: 0.00532966 \n",
      "Time elapsed: 0:00:18.713108\n"
     ]
    }
   ],
   "source": [
    "k_fold = KFold(n_splits=5, random_state=42, shuffle=True) \n",
    "\n",
    "start_time = datetime.datetime.now()\n",
    "\n",
    "model = LogisticRegression(random_state=42, C=0.1, penalty='l2')\n",
    "print(model)\n",
    "    \n",
    "scores = cross_val_score(model, X, y, cv=k_fold, scoring=\"roc_auc\")\n",
    "print(scores)\n",
    "print(\"Среднее: %0.5f \" % (scores.mean()))\n",
    "print(\"Стандартное отклонение: %0.8f \" % (scores.std() * 2))  \n",
    "\n",
    "print('Time elapsed:', end=' ')\n",
    "print(datetime.datetime.now() - start_time)"
   ]
  },
  {
   "cell_type": "markdown",
   "metadata": {},
   "source": [
    "С левел <br>\n",
    "Среднее: 0.75141 "
   ]
  },
  {
   "cell_type": "markdown",
   "metadata": {},
   "source": [
    "С голд <br>\n",
    "Среднее: 0.75028 "
   ]
  },
  {
   "cell_type": "markdown",
   "metadata": {},
   "source": [
    "С уровнем и голдой<br>\n",
    "Среднее: 0.74959 "
   ]
  },
  {
   "cell_type": "markdown",
   "metadata": {},
   "source": [
    "C уровнем и итемы<br>\n",
    "Среднее: 0.74906 "
   ]
  },
  {
   "cell_type": "markdown",
   "metadata": {},
   "source": [
    "С опытом и голдой<br>\n",
    "Среднее: 0.74839 "
   ]
  },
  {
   "cell_type": "markdown",
   "metadata": {},
   "source": [
    "C ластхитами и левел<br>\n",
    "Среднее: 0.74404 "
   ]
  },
  {
   "cell_type": "markdown",
   "metadata": {},
   "source": [
    "\n",
    "=>  Ну как тут не получается соединить чтобы лучше стало(\n",
    "Так как чем ближе число в X_pick к 1 тем лучше"
   ]
  },
  {
   "cell_type": "markdown",
   "metadata": {},
   "source": [
    "# Только мешок слов"
   ]
  },
  {
   "cell_type": "code",
   "execution_count": 9,
   "metadata": {
    "scrolled": true
   },
   "outputs": [
    {
     "name": "stdout",
     "output_type": "stream",
     "text": [
      "LogisticRegression(C=1.0, class_weight=None, dual=False, fit_intercept=True,\n",
      "          intercept_scaling=1, max_iter=100, multi_class='ovr', n_jobs=1,\n",
      "          penalty='l2', random_state=42, solver='liblinear', tol=0.0001,\n",
      "          verbose=0, warm_start=False)\n",
      "[0.60373653 0.6074361  0.60408668 0.61413855 0.60944996]\n",
      "Среднее: 0.60776956 \n",
      "Стандартное отклонение: 0.00765913 \n",
      "Time elapsed: 0:00:03.713074\n"
     ]
    }
   ],
   "source": [
    "X_pick = np.zeros((features.shape[0], 112))\n",
    "\n",
    "for i, match_id in enumerate(features.index):\n",
    "    for p in range(5):\n",
    "        X_pick[i, features.loc[match_id, 'r%d_hero' % (p+1)]-1] = 1\n",
    "        X_pick[i, features.loc[match_id, 'd%d_hero' % (p+1)]-1] = -1\n",
    "        \n",
    "#scaler = StandardScaler()\n",
    "#X = scaler.fit_transform(pd.DataFrame(data=X_pick, index=df.index))\n",
    "\n",
    "test_model(LogisticRegression(random_state=42, C=1.0, penalty='l2'),X,y)"
   ]
  },
  {
   "cell_type": "markdown",
   "metadata": {},
   "source": [
    "Только голда<br>\n",
    "Среднее: 0.74140 "
   ]
  },
  {
   "cell_type": "markdown",
   "metadata": {},
   "source": [
    "Только опыт и голда<br>\n",
    "Среднее: 0.74127 "
   ]
  },
  {
   "cell_type": "markdown",
   "metadata": {},
   "source": [
    "Только левел и голда<br>\n",
    "Среднее: 0.73921 "
   ]
  },
  {
   "cell_type": "markdown",
   "metadata": {},
   "source": [
    "Только голда и предметы<br>\n",
    "Среднее: 0.71600 "
   ]
  },
  {
   "cell_type": "markdown",
   "metadata": {},
   "source": [
    "Только левел и итем<br>\n",
    "Среднее: 0.67857 "
   ]
  },
  {
   "cell_type": "markdown",
   "metadata": {},
   "source": [
    "Только голда, опыт и смерти<br>\n",
    "Среднее: 0.65695 "
   ]
  },
  {
   "cell_type": "markdown",
   "metadata": {},
   "source": [
    "Только голда и смерти<br>\n",
    "Среднее: 0.63206 "
   ]
  },
  {
   "cell_type": "markdown",
   "metadata": {},
   "source": [
    "Только смерти / убийства<br>\n",
    "Среднее: 0.52548 <br>\n",
    " Очень интересно что один из основных признаков для человеков по мнению машины самый бесполезный "
   ]
  },
  {
   "cell_type": "markdown",
   "metadata": {},
   "source": [
    "# Лучшее решение пока\n"
   ]
  },
  {
   "cell_type": "markdown",
   "metadata": {},
   "source": [
    "Это просто датасет с мешком герове без оценки"
   ]
  },
  {
   "cell_type": "code",
   "execution_count": 37,
   "metadata": {},
   "outputs": [
    {
     "name": "stdout",
     "output_type": "stream",
     "text": [
      "LogisticRegression(C=0.1, class_weight=None, dual=False, fit_intercept=True,\n",
      "          intercept_scaling=1, max_iter=100, multi_class='ovr', n_jobs=1,\n",
      "          penalty='l2', random_state=42, solver='liblinear', tol=0.0001,\n",
      "          verbose=0, warm_start=False)\n",
      "[0.74910063 0.75340792 0.74962288 0.7560517  0.75150683]\n",
      "Среднее: 0.75193799 \n",
      "Стандартное отклонение: 0.00511309 \n",
      "Time elapsed: 0:00:18.935748\n"
     ]
    }
   ],
   "source": [
    "test_model(LogisticRegression(random_state=42, C=0.1, penalty='l2'), pre_data_for_lr(features), y)"
   ]
  },
  {
   "cell_type": "markdown",
   "metadata": {},
   "source": [
    "## Среднее: 0.75193799 \n",
    "## Стандартное отклонение: 0.00511309 \n"
   ]
  },
  {
   "cell_type": "markdown",
   "metadata": {},
   "source": [
    "TODO: Надо сделать такую функцию чтобы число было наименьшем(от 0 до 1) и но сравнивало наилучшим образом\n",
    "НАПРИМЕР, писать не gold ,а позицию в по золоту в этом матче."
   ]
  },
  {
   "cell_type": "markdown",
   "metadata": {},
   "source": [
    "# Отчет"
   ]
  },
  {
   "cell_type": "markdown",
   "metadata": {},
   "source": [
    "- Какое качество получилось у логистической регрессии над всеми исходными признаками?Как оно соотносится с качеством градиентного бустинга? Чем вы можете объяснить эту разницу? Быстрее ли работает логистическая регрессия по сравнению с градиентным бустингом?<br>\n",
    "Среднее: 0.71596<br> Стандартное отклонение: 0.00250052<br> Time elapsed: 0:00:11.117423<br> хуже чем градиентный бустинг на 1000. Но логистическая регрессия намного быстрее. \n",
    "- Как влияет на качество логистической регрессии удаление категориальных признаков (укажите новое значение метрики качества)? Чем вы можете объяснить это изменение?<br> \n",
    "Среднее: 0.75173<br> Стандартное отклонение: 0.00510946<br> Time elapsed: 0:00:19.508623<br> ну так как это линейная модель ,а категориальные призниаки не измеримы(нет метрики) ,то после удаления они перестали мешать.\n",
    "- Сколько различных идентификаторов героев существует в данной игре?<br> \n",
    "108\n",
    "- Какое получилось качество при добавлении \"мешка слов\" по героям? Улучшилось ли оно по сравнению с предыдущим вариантом? Чем вы можете это объяснить?<br> \n",
    "Только мешок героев Среднее: 0.60776956<br>\n",
    "Мешок геров и прошлый данные Среднее: 0.75193799<br>\n",
    "Ну мы убрали героев теперь вернули. "
   ]
  },
  {
   "cell_type": "markdown",
   "metadata": {},
   "source": [
    "# Улучшения\n"
   ]
  },
  {
   "cell_type": "markdown",
   "metadata": {},
   "source": [
    "TODO: http://cs229.stanford.edu/proj2013/PerryConley-HowDoesHeSawMeARecommendationEngineForPickingHeroesInDota2.pdf тут про то как сделать синергию героев."
   ]
  },
  {
   "cell_type": "markdown",
   "metadata": {},
   "source": [
    "# Взвешаный мешок герое от 0 до 1"
   ]
  },
  {
   "cell_type": "code",
   "execution_count": 26,
   "metadata": {},
   "outputs": [],
   "source": [
    "df = features \n",
    "\n",
    "df['r_gold'] = df['r1_gold'] + df['r2_gold'] + df['r3_gold'] + df['r4_gold'] + df['r5_gold']\n",
    "df['d_gold'] = df['d1_gold'] + df['d2_gold'] + df['d3_gold'] + df['d4_gold'] + df['d5_gold'] \n",
    "\n",
    "df['gold'] = df['r_gold'] + df['d_gold']\n",
    "\n",
    "df['r_xp'] = df['r1_xp'] + df['r2_xp'] + df['r3_xp'] + df['r4_xp'] + df['r5_xp']\n",
    "df['d_xp'] = df['d1_xp'] + df['d2_xp'] + df['d3_xp'] + df['d4_xp'] + df['d5_xp'] \n",
    "\n",
    "df['xp'] = df['r_xp'] + df['d_xp']\n",
    "\n",
    "df['r_level'] = df['r1_level'] + df['r2_level'] + df['r3_level'] + df['r4_level'] + df['r5_level']\n",
    "df['d_level'] = df['d1_level'] + df['d2_level'] + df['d3_level'] + df['d4_level'] + df['d5_level'] \n",
    "\n"
   ]
  },
  {
   "cell_type": "markdown",
   "metadata": {},
   "source": [
    "Там есть игры в которых 0 золота каждый игрок заработал. Это как? Матчи же длинее 15 минут. Если все выйдут авто-пробеда. Все просто стояли? В проф.матче то? "
   ]
  },
  {
   "cell_type": "code",
   "execution_count": 27,
   "metadata": {},
   "outputs": [],
   "source": [
    "df = drop_fillna(df)\n"
   ]
  },
  {
   "cell_type": "code",
   "execution_count": 28,
   "metadata": {},
   "outputs": [
    {
     "data": {
      "text/plain": [
       "Series([], dtype: int64)"
      ]
     },
     "execution_count": 28,
     "metadata": {},
     "output_type": "execute_result"
    }
   ],
   "source": [
    "X_notna = df.isna().sum()\n",
    "X_notna[X_notna != 0]"
   ]
  },
  {
   "cell_type": "code",
   "execution_count": 29,
   "metadata": {},
   "outputs": [],
   "source": [
    "X_pick = np.zeros((features.shape[0], 112))\n",
    "for i, match_id in enumerate(features.index): #Мешок геров\n",
    "    for p in range(5):\n",
    "        X_pick[i, features.loc[match_id, 'r%d_hero' % (p+1)]-1] = (features.loc[match_id, 'r%d_gold' % (p+1)] / max(features.loc[match_id, 'gold'],1) ) * (features.loc[match_id, 'r%d_xp' % (p+1)] / max(features.loc[match_id, 'xp'],1))\n",
    "        X_pick[i, features.loc[match_id, 'd%d_hero' % (p+1)]-1] = -1 * (features.loc[match_id, 'd%d_gold' % (p+1)] / max(features.loc[match_id, 'gold'],1) ) * (features.loc[match_id, 'd%d_xp' % (p+1)] / max(features.loc[match_id, 'xp'],1))\n"
   ]
  },
  {
   "cell_type": "code",
   "execution_count": 35,
   "metadata": {},
   "outputs": [],
   "source": [
    "X = df\n",
    "df_pick = pd.DataFrame(data=X_pick, index=df.index)\n",
    "#df_pick = df_pick.drop(columns=[107,106,110]) #Ненужны так как таких героев нет\n",
    "X = pd.merge(X, df_pick, left_index=True, right_index=True, how='outer')\n",
    "\n",
    "scaler = StandardScaler()\n",
    "X = scaler.fit_transform(X)\n",
    "    "
   ]
  },
  {
   "cell_type": "code",
   "execution_count": 31,
   "metadata": {},
   "outputs": [
    {
     "name": "stdout",
     "output_type": "stream",
     "text": [
      "LogisticRegression(C=0.006, class_weight=None, dual=False, fit_intercept=True,\n",
      "          intercept_scaling=1, max_iter=100, multi_class='ovr', n_jobs=1,\n",
      "          penalty='l2', random_state=42, solver='liblinear', tol=0.0001,\n",
      "          verbose=0, warm_start=False)\n",
      "[0.74599367 0.75052293 0.74593432 0.7517187  0.74843158]\n",
      "Среднее: 0.74852024 \n",
      "Стандартное отклонение: 0.00467498 \n",
      "Time elapsed: 0:00:19.293911\n"
     ]
    }
   ],
   "source": [
    "test_model(LogisticRegression(random_state=42, C=0.006, penalty='l2'), X, y)"
   ]
  },
  {
   "cell_type": "markdown",
   "metadata": {},
   "source": [
    "LogisticRegression(C=0.006, class_weight=None, dual=False, fit_intercept=True,\n",
    "          intercept_scaling=1, max_iter=100, multi_class='ovr', n_jobs=1,\n",
    "          penalty='l2', random_state=42, solver='liblinear', tol=0.0001,\n",
    "          verbose=0, warm_start=False)\n",
    "[0.7459407  0.75085722 0.74592984 0.75240675 0.7487135 ]\n",
    "Среднее: 0.74876960 \n",
    "Стандартное отклонение: 0.00518900 \n",
    "Time elapsed: 0:00:19.047507\n"
   ]
  },
  {
   "cell_type": "markdown",
   "metadata": {},
   "source": [
    "Все также становится хуже. TODO:Возмножно нужна сложная формула ,а не просто перемножать."
   ]
  },
  {
   "cell_type": "markdown",
   "metadata": {},
   "source": [
    "# Новые признаки"
   ]
  },
  {
   "cell_type": "markdown",
   "metadata": {},
   "source": [
    "#### Вот из json можно было вытащить и рошан и кто башни сломал и куда варды ставят и на каких линиях кто стоит..."
   ]
  },
  {
   "cell_type": "markdown",
   "metadata": {},
   "source": [
    "TODO: Сделать признак частота выбора персонажа. Типо чем чаще беру тем проще контрить или имба."
   ]
  },
  {
   "cell_type": "markdown",
   "metadata": {},
   "source": [
    "## Признак частоты выбора персонажа"
   ]
  },
  {
   "cell_type": "code",
   "execution_count": 13,
   "metadata": {
    "scrolled": true
   },
   "outputs": [
    {
     "data": {
      "text/html": [
       "<div>\n",
       "<style scoped>\n",
       "    .dataframe tbody tr th:only-of-type {\n",
       "        vertical-align: middle;\n",
       "    }\n",
       "\n",
       "    .dataframe tbody tr th {\n",
       "        vertical-align: top;\n",
       "    }\n",
       "\n",
       "    .dataframe thead th {\n",
       "        text-align: right;\n",
       "    }\n",
       "</style>\n",
       "<table border=\"1\" class=\"dataframe\">\n",
       "  <thead>\n",
       "    <tr style=\"text-align: right;\">\n",
       "      <th></th>\n",
       "      <th>count</th>\n",
       "    </tr>\n",
       "    <tr>\n",
       "      <th>hero_id</th>\n",
       "      <th></th>\n",
       "    </tr>\n",
       "  </thead>\n",
       "  <tbody>\n",
       "    <tr>\n",
       "      <th>7</th>\n",
       "      <td>0.435596</td>\n",
       "    </tr>\n",
       "    <tr>\n",
       "      <th>11</th>\n",
       "      <td>0.380027</td>\n",
       "    </tr>\n",
       "    <tr>\n",
       "      <th>112</th>\n",
       "      <td>0.369433</td>\n",
       "    </tr>\n",
       "    <tr>\n",
       "      <th>50</th>\n",
       "      <td>0.355878</td>\n",
       "    </tr>\n",
       "    <tr>\n",
       "      <th>72</th>\n",
       "      <td>0.354438</td>\n",
       "    </tr>\n",
       "  </tbody>\n",
       "</table>\n",
       "</div>"
      ],
      "text/plain": [
       "            count\n",
       "hero_id          \n",
       "7        0.435596\n",
       "11       0.380027\n",
       "112      0.369433\n",
       "50       0.355878\n",
       "72       0.354438"
      ]
     },
     "execution_count": 13,
     "metadata": {},
     "output_type": "execute_result"
    }
   ],
   "source": [
    "df = features\n",
    "d = df['d1_hero'].append([df['d2_hero'], df['d3_hero'], df['d4_hero'], df['d5_hero'], df['r1_hero'], df['r2_hero'], df['r3_hero'], df['r4_hero'], df['r5_hero']])\n",
    "df_hero = pd.DataFrame(d.value_counts(),columns=['count'])\n",
    "df_hero.index.names = ['hero_id']\n",
    "df_hero['count'] = df_hero['count'] / X.shape[0]\n",
    "df_hero.head()"
   ]
  },
  {
   "cell_type": "code",
   "execution_count": 25,
   "metadata": {},
   "outputs": [
    {
     "data": {
      "text/html": [
       "<div>\n",
       "<style scoped>\n",
       "    .dataframe tbody tr th:only-of-type {\n",
       "        vertical-align: middle;\n",
       "    }\n",
       "\n",
       "    .dataframe tbody tr th {\n",
       "        vertical-align: top;\n",
       "    }\n",
       "\n",
       "    .dataframe thead th {\n",
       "        text-align: right;\n",
       "    }\n",
       "</style>\n",
       "<table border=\"1\" class=\"dataframe\">\n",
       "  <thead>\n",
       "    <tr style=\"text-align: right;\">\n",
       "      <th></th>\n",
       "      <th>start_time</th>\n",
       "      <th>lobby_type</th>\n",
       "      <th>r1_hero</th>\n",
       "      <th>r1_level</th>\n",
       "      <th>r1_xp</th>\n",
       "      <th>r1_gold</th>\n",
       "      <th>r1_lh</th>\n",
       "      <th>r1_kills</th>\n",
       "      <th>r1_deaths</th>\n",
       "      <th>r1_items</th>\n",
       "      <th>...</th>\n",
       "      <th>r1_pick</th>\n",
       "      <th>d1_pick</th>\n",
       "      <th>r2_pick</th>\n",
       "      <th>d2_pick</th>\n",
       "      <th>r3_pick</th>\n",
       "      <th>d3_pick</th>\n",
       "      <th>r4_pick</th>\n",
       "      <th>d4_pick</th>\n",
       "      <th>r5_pick</th>\n",
       "      <th>d5_pick</th>\n",
       "    </tr>\n",
       "    <tr>\n",
       "      <th>match_id</th>\n",
       "      <th></th>\n",
       "      <th></th>\n",
       "      <th></th>\n",
       "      <th></th>\n",
       "      <th></th>\n",
       "      <th></th>\n",
       "      <th></th>\n",
       "      <th></th>\n",
       "      <th></th>\n",
       "      <th></th>\n",
       "      <th></th>\n",
       "      <th></th>\n",
       "      <th></th>\n",
       "      <th></th>\n",
       "      <th></th>\n",
       "      <th></th>\n",
       "      <th></th>\n",
       "      <th></th>\n",
       "      <th></th>\n",
       "      <th></th>\n",
       "      <th></th>\n",
       "    </tr>\n",
       "  </thead>\n",
       "  <tbody>\n",
       "    <tr>\n",
       "      <th>0</th>\n",
       "      <td>1430198770</td>\n",
       "      <td>7</td>\n",
       "      <td>11</td>\n",
       "      <td>5</td>\n",
       "      <td>2098</td>\n",
       "      <td>1489</td>\n",
       "      <td>20</td>\n",
       "      <td>0</td>\n",
       "      <td>0</td>\n",
       "      <td>7</td>\n",
       "      <td>...</td>\n",
       "      <td>0.380027</td>\n",
       "      <td>0.053142</td>\n",
       "      <td>0.074761</td>\n",
       "      <td>0.110573</td>\n",
       "      <td>0.077939</td>\n",
       "      <td>0.246632</td>\n",
       "      <td>0.096267</td>\n",
       "      <td>0.035874</td>\n",
       "      <td>0.015252</td>\n",
       "      <td>0.072138</td>\n",
       "    </tr>\n",
       "    <tr>\n",
       "      <th>1</th>\n",
       "      <td>1430220345</td>\n",
       "      <td>0</td>\n",
       "      <td>42</td>\n",
       "      <td>4</td>\n",
       "      <td>1188</td>\n",
       "      <td>1033</td>\n",
       "      <td>9</td>\n",
       "      <td>0</td>\n",
       "      <td>1</td>\n",
       "      <td>12</td>\n",
       "      <td>...</td>\n",
       "      <td>0.110573</td>\n",
       "      <td>0.314841</td>\n",
       "      <td>0.045408</td>\n",
       "      <td>0.038188</td>\n",
       "      <td>0.074761</td>\n",
       "      <td>0.029939</td>\n",
       "      <td>0.035874</td>\n",
       "      <td>0.435596</td>\n",
       "      <td>0.197994</td>\n",
       "      <td>0.101831</td>\n",
       "    </tr>\n",
       "    <tr>\n",
       "      <th>2</th>\n",
       "      <td>1430227081</td>\n",
       "      <td>7</td>\n",
       "      <td>33</td>\n",
       "      <td>4</td>\n",
       "      <td>1319</td>\n",
       "      <td>1270</td>\n",
       "      <td>22</td>\n",
       "      <td>0</td>\n",
       "      <td>0</td>\n",
       "      <td>12</td>\n",
       "      <td>...</td>\n",
       "      <td>0.030289</td>\n",
       "      <td>0.079111</td>\n",
       "      <td>0.034321</td>\n",
       "      <td>0.008413</td>\n",
       "      <td>0.096267</td>\n",
       "      <td>0.174473</td>\n",
       "      <td>0.057688</td>\n",
       "      <td>0.077939</td>\n",
       "      <td>0.053142</td>\n",
       "      <td>0.007889</td>\n",
       "    </tr>\n",
       "    <tr>\n",
       "      <th>3</th>\n",
       "      <td>1430263531</td>\n",
       "      <td>1</td>\n",
       "      <td>29</td>\n",
       "      <td>4</td>\n",
       "      <td>1779</td>\n",
       "      <td>1056</td>\n",
       "      <td>14</td>\n",
       "      <td>0</td>\n",
       "      <td>0</td>\n",
       "      <td>5</td>\n",
       "      <td>...</td>\n",
       "      <td>0.077939</td>\n",
       "      <td>0.053595</td>\n",
       "      <td>0.230330</td>\n",
       "      <td>0.040738</td>\n",
       "      <td>0.129189</td>\n",
       "      <td>0.062306</td>\n",
       "      <td>0.035874</td>\n",
       "      <td>0.033878</td>\n",
       "      <td>0.037560</td>\n",
       "      <td>0.096267</td>\n",
       "    </tr>\n",
       "    <tr>\n",
       "      <th>4</th>\n",
       "      <td>1430282290</td>\n",
       "      <td>7</td>\n",
       "      <td>13</td>\n",
       "      <td>4</td>\n",
       "      <td>1431</td>\n",
       "      <td>1090</td>\n",
       "      <td>8</td>\n",
       "      <td>1</td>\n",
       "      <td>0</td>\n",
       "      <td>8</td>\n",
       "      <td>...</td>\n",
       "      <td>0.033950</td>\n",
       "      <td>0.197994</td>\n",
       "      <td>0.057688</td>\n",
       "      <td>0.085498</td>\n",
       "      <td>0.230330</td>\n",
       "      <td>0.079111</td>\n",
       "      <td>0.354438</td>\n",
       "      <td>0.231071</td>\n",
       "      <td>0.082444</td>\n",
       "      <td>0.170565</td>\n",
       "    </tr>\n",
       "  </tbody>\n",
       "</table>\n",
       "<p>5 rows × 118 columns</p>\n",
       "</div>"
      ],
      "text/plain": [
       "          start_time  lobby_type  r1_hero  r1_level  r1_xp  r1_gold  r1_lh  \\\n",
       "match_id                                                                     \n",
       "0         1430198770           7       11         5   2098     1489     20   \n",
       "1         1430220345           0       42         4   1188     1033      9   \n",
       "2         1430227081           7       33         4   1319     1270     22   \n",
       "3         1430263531           1       29         4   1779     1056     14   \n",
       "4         1430282290           7       13         4   1431     1090      8   \n",
       "\n",
       "          r1_kills  r1_deaths  r1_items    ...      r1_pick   d1_pick  \\\n",
       "match_id                                   ...                          \n",
       "0                0          0         7    ...     0.380027  0.053142   \n",
       "1                0          1        12    ...     0.110573  0.314841   \n",
       "2                0          0        12    ...     0.030289  0.079111   \n",
       "3                0          0         5    ...     0.077939  0.053595   \n",
       "4                1          0         8    ...     0.033950  0.197994   \n",
       "\n",
       "           r2_pick   d2_pick   r3_pick   d3_pick   r4_pick   d4_pick  \\\n",
       "match_id                                                               \n",
       "0         0.074761  0.110573  0.077939  0.246632  0.096267  0.035874   \n",
       "1         0.045408  0.038188  0.074761  0.029939  0.035874  0.435596   \n",
       "2         0.034321  0.008413  0.096267  0.174473  0.057688  0.077939   \n",
       "3         0.230330  0.040738  0.129189  0.062306  0.035874  0.033878   \n",
       "4         0.057688  0.085498  0.230330  0.079111  0.354438  0.231071   \n",
       "\n",
       "           r5_pick   d5_pick  \n",
       "match_id                      \n",
       "0         0.015252  0.072138  \n",
       "1         0.197994  0.101831  \n",
       "2         0.053142  0.007889  \n",
       "3         0.037560  0.096267  \n",
       "4         0.082444  0.170565  \n",
       "\n",
       "[5 rows x 118 columns]"
      ]
     },
     "execution_count": 25,
     "metadata": {},
     "output_type": "execute_result"
    }
   ],
   "source": [
    "X = features \n",
    "\n",
    "for p in range(5):\n",
    "    X['r%d_pick' % (p+1)]=df_hero.loc[X['r%d_hero' % (p+1)]].values\n",
    "    X['d%d_pick' % (p+1)]=df_hero.loc[X['d%d_hero' % (p+1)]].values\n",
    "\n",
    "X.head()"
   ]
  },
  {
   "cell_type": "code",
   "execution_count": 26,
   "metadata": {},
   "outputs": [],
   "source": [
    "\n",
    "X = drop_fillna(X)\n",
    "\n",
    "X_pick = np.zeros((features.shape[0], 112))\n",
    "for i, match_id in enumerate(features.index): #Мешок геров\n",
    "    for p in range(5):\n",
    "        X_pick[i, features.loc[match_id, 'r%d_hero' % (p+1)]-1] = 1\n",
    "        X_pick[i, features.loc[match_id, 'd%d_hero' % (p+1)]-1] = -1 \n",
    "\n",
    "df_pick = pd.DataFrame(data=X_pick, index=df.index)\n",
    "#df_pick = df_pick.drop(columns=[107,106,110]) #Ненужны так как таких героев нет\n",
    "X = pd.merge(X, df_pick, left_index=True, right_index=True, how='outer')\n",
    "\n",
    "scaler = StandardScaler()\n",
    "X = scaler.fit_transform(X)\n",
    "    "
   ]
  },
  {
   "cell_type": "code",
   "execution_count": 27,
   "metadata": {},
   "outputs": [
    {
     "name": "stdout",
     "output_type": "stream",
     "text": [
      "LogisticRegression(C=0.006, class_weight=None, dual=False, fit_intercept=True,\n",
      "          intercept_scaling=1, max_iter=100, multi_class='ovr', n_jobs=1,\n",
      "          penalty='l2', random_state=42, solver='liblinear', tol=0.0001,\n",
      "          verbose=0, warm_start=False)\n",
      "[0.74907095 0.75335809 0.74966692 0.75603883 0.75141151]\n",
      "Среднее: 0.75190926 \n",
      "Стандартное отклонение: 0.00509779 \n",
      "Time elapsed: 0:00:17.783547\n"
     ]
    }
   ],
   "source": [
    "test_model(LogisticRegression(random_state=42, C=0.006, penalty='l2'), X, y)"
   ]
  },
  {
   "cell_type": "markdown",
   "metadata": {},
   "source": [
    "TODO: Признка винрейта"
   ]
  },
  {
   "cell_type": "code",
   "execution_count": null,
   "metadata": {},
   "outputs": [],
   "source": [
    "X = features \n",
    "\n",
    "i = 7\n",
    "X[X['radiant_win'] == 1 & X['r1_hero'] == i]\n",
    "#(X['r1_hero'] == i or X['r2_hero'] == i or X['r3_hero'] == i or X['r4_hero'] == i or X['r5_hero'] == i or ['d1_hero'] == i or X['d2_hero'] == i or X['d3_hero'] == i or X['d4_hero'] == i or X['d5_hero'] == i)]"
   ]
  },
  {
   "cell_type": "markdown",
   "metadata": {},
   "source": [
    "## Поперемножать все признаки"
   ]
  },
  {
   "cell_type": "code",
   "execution_count": 29,
   "metadata": {},
   "outputs": [
    {
     "name": "stdout",
     "output_type": "stream",
     "text": [
      "LogisticRegression(C=0.006, class_weight=None, dual=False, fit_intercept=True,\n",
      "          intercept_scaling=1, max_iter=100, multi_class='ovr', n_jobs=1,\n",
      "          penalty='l2', random_state=42, solver='liblinear', tol=0.0001,\n",
      "          verbose=0, warm_start=False)\n",
      "[0.74909211 0.75337629 0.74968956 0.7561288  0.75161866]\n",
      "Среднее: 0.75198109 \n",
      "Стандартное отклонение: 0.00512865 \n",
      "Time elapsed: 0:00:16.033626\n"
     ]
    }
   ],
   "source": [
    "test_model(LogisticRegression(random_state=42, C=0.006, penalty='l2'), pre_data_for_lr(features), y)"
   ]
  },
  {
   "cell_type": "code",
   "execution_count": 27,
   "metadata": {},
   "outputs": [
    {
     "name": "stdout",
     "output_type": "stream",
     "text": [
      "LogisticRegression(C=0.006, class_weight=None, dual=False, fit_intercept=True,\n",
      "          intercept_scaling=1, max_iter=100, multi_class='ovr', n_jobs=1,\n",
      "          penalty='l2', random_state=42, solver='liblinear', tol=0.0001,\n",
      "          verbose=0, warm_start=False)\n",
      "[0.74898771 0.75343698 0.74978918 0.75609404 0.75164008]\n",
      "Среднее: 0.75198960 \n",
      "Стандартное отклонение: 0.00513161 \n",
      "Time elapsed: 0:00:16.477363\n"
     ]
    }
   ],
   "source": [
    "df = features.copy()\n",
    "df['r1_gold_level'] = df['r1_gold'] * df['r1_level']\n",
    "test_model(LogisticRegression(random_state=42, C=0.006, penalty='l2'), pre_data_for_lr(df), y)\n"
   ]
  },
  {
   "cell_type": "markdown",
   "metadata": {},
   "source": [
    "O_O Перемножение gold и level чуть чуть дало прирост на маленьком С"
   ]
  },
  {
   "cell_type": "code",
   "execution_count": 30,
   "metadata": {},
   "outputs": [
    {
     "name": "stdout",
     "output_type": "stream",
     "text": [
      "LogisticRegression(C=0.006, class_weight=None, dual=False, fit_intercept=True,\n",
      "          intercept_scaling=1, max_iter=100, multi_class='ovr', n_jobs=1,\n",
      "          penalty='l2', random_state=42, solver='liblinear', tol=0.0001,\n",
      "          verbose=0, warm_start=False)\n",
      "[0.7498909  0.75440483 0.75005827 0.75687977 0.75239112]\n",
      "Среднее: 0.75272498 \n",
      "Стандартное отклонение: 0.00531707 \n",
      "Time elapsed: 0:00:19.768359\n"
     ]
    }
   ],
   "source": [
    "X = features.copy()\n",
    "\n",
    "for p in range(5):\n",
    "    X['r%d_gold_level' % (p+1)] = X['r%d_gold' % (p+1)] * X['r%d_level' % (p+1)]\n",
    "    X['d%d_gold_level' % (p+1)] = -1 * X['d%d_gold' % (p+1)] * X['d%d_level' % (p+1)]\n",
    "\n",
    "test_model(LogisticRegression(random_state=42, C=0.006, penalty='l2'), pre_data_for_lr(X), y)\n"
   ]
  },
  {
   "cell_type": "markdown",
   "metadata": {},
   "source": [
    "Это просто нечто. Оно улчшилось"
   ]
  },
  {
   "cell_type": "code",
   "execution_count": 34,
   "metadata": {},
   "outputs": [
    {
     "name": "stdout",
     "output_type": "stream",
     "text": [
      "LogisticRegression(C=0.006, class_weight=None, dual=False, fit_intercept=True,\n",
      "          intercept_scaling=1, max_iter=100, multi_class='ovr', n_jobs=1,\n",
      "          penalty='l2', random_state=42, solver='liblinear', tol=0.0001,\n",
      "          verbose=0, warm_start=False)\n",
      "[0.75005957 0.75433922 0.75019049 0.75677342 0.7520525 ]\n",
      "Среднее: 0.75268304 \n",
      "Стандартное отклонение: 0.00513553 \n",
      "Time elapsed: 0:00:18.135725\n"
     ]
    }
   ],
   "source": [
    "X = features.copy()\n",
    "\n",
    "for p in range(5):\n",
    "    X['r%d_gold_xp' % (p+1)] = X['r%d_gold' % (p+1)] * X['r%d_xp' % (p+1)]\n",
    "    X['d%d_gold_xp' % (p+1)] = -1 * X['d%d_gold' % (p+1)] * X['d%d_xp' % (p+1)]\n",
    "    \n",
    "test_model(LogisticRegression(random_state=42, C=0.006, penalty='l2'), pre_data_for_lr(X), y)\n"
   ]
  },
  {
   "cell_type": "markdown",
   "metadata": {},
   "source": [
    "Похуже "
   ]
  },
  {
   "cell_type": "code",
   "execution_count": 36,
   "metadata": {},
   "outputs": [
    {
     "name": "stdout",
     "output_type": "stream",
     "text": [
      "LogisticRegression(C=0.006, class_weight=None, dual=False, fit_intercept=True,\n",
      "          intercept_scaling=1, max_iter=100, multi_class='ovr', n_jobs=1,\n",
      "          penalty='l2', random_state=42, solver='liblinear', tol=0.0001,\n",
      "          verbose=0, warm_start=False)\n",
      "[0.74977681 0.75449093 0.74995295 0.75680562 0.75225558]\n",
      "Среднее: 0.75265638 \n",
      "Стандартное отклонение: 0.00539206 \n",
      "Time elapsed: 0:00:21.189687\n"
     ]
    }
   ],
   "source": [
    "X = features.copy()\n",
    "\n",
    "X = X.drop\n",
    "\n",
    "for p in range(5):\n",
    "    X['r%d_gold_level' % (p+1)] = X['r%d_gold' % (p+1)] * X['r%d_level' % (p+1)]\n",
    "    X['d%d_gold_level' % (p+1)] = -1 * X['d%d_gold' % (p+1)] * X['d%d_level' % (p+1)]\n",
    "    X['r%d_level_items' % (p+1)] = X['r%d_items' % (p+1)] * X['r%d_level' % (p+1)]\n",
    "    X['d%d_level_items' % (p+1)] = -1 * X['d%d_items' % (p+1)] * X['d%d_level' % (p+1)]\n",
    "    X['r%d_kills_deaths' % (p+1)] = X['r%d_kills' % (p+1)] * X['r%d_deaths' % (p+1)]\n",
    "    X['d%d_kills_deaths' % (p+1)] = -1 * X['d%d_kills' % (p+1)] * X['d%d_deaths' % (p+1)]\n",
    "    \n",
    "test_model(LogisticRegression(random_state=42, C=0.006, penalty='l2'), pre_data_for_lr(X), y)\n"
   ]
  },
  {
   "cell_type": "code",
   "execution_count": 11,
   "metadata": {},
   "outputs": [
    {
     "data": {
      "text/plain": [
       "array(['r1_level', 'r1_xp', 'r1_gold', 'r1_lh', 'r1_kills', 'r1_deaths',\n",
       "       'r1_items', 'r2_level', 'r2_xp', 'r2_gold', 'r2_lh', 'r2_kills',\n",
       "       'r2_deaths', 'r2_items', 'r3_level', 'r3_xp', 'r3_gold', 'r3_lh',\n",
       "       'r3_kills', 'r3_deaths', 'r3_items', 'r4_level', 'r4_xp',\n",
       "       'r4_gold', 'r4_lh', 'r4_kills', 'r4_deaths', 'r4_items',\n",
       "       'r5_level', 'r5_xp', 'r5_gold', 'r5_lh', 'r5_kills', 'r5_deaths',\n",
       "       'r5_items', 'd1_level', 'd1_xp', 'd1_gold', 'd1_lh', 'd1_kills',\n",
       "       'd1_deaths', 'd1_items', 'd2_level', 'd2_xp', 'd2_gold', 'd2_lh',\n",
       "       'd2_kills', 'd2_deaths', 'd2_items', 'd3_level', 'd3_xp',\n",
       "       'd3_gold', 'd3_lh', 'd3_kills', 'd3_deaths', 'd3_items',\n",
       "       'd4_level', 'd4_xp', 'd4_gold', 'd4_lh', 'd4_kills', 'd4_deaths',\n",
       "       'd4_items', 'd5_level', 'd5_xp', 'd5_gold', 'd5_lh', 'd5_kills',\n",
       "       'd5_deaths', 'd5_items', 'first_blood_time', 'first_blood_team',\n",
       "       'first_blood_player1', 'first_blood_player2',\n",
       "       'radiant_bottle_time', 'radiant_courier_time',\n",
       "       'radiant_flying_courier_time', 'radiant_tpscroll_count',\n",
       "       'radiant_boots_count', 'radiant_ward_observer_count',\n",
       "       'radiant_ward_sentry_count', 'radiant_first_ward_time',\n",
       "       'dire_bottle_time', 'dire_courier_time',\n",
       "       'dire_flying_courier_time', 'dire_tpscroll_count',\n",
       "       'dire_boots_count', 'dire_ward_observer_count',\n",
       "       'dire_ward_sentry_count', 'dire_first_ward_time'], dtype=object)"
      ]
     },
     "execution_count": 11,
     "metadata": {},
     "output_type": "execute_result"
    }
   ],
   "source": [
    "df = features\n",
    "df = drop_fillna(df)\n",
    "df = df.drop(columns=['start_time'])\n",
    "col = df.columns.values\n",
    "col"
   ]
  },
  {
   "cell_type": "code",
   "execution_count": 12,
   "metadata": {
    "scrolled": true
   },
   "outputs": [],
   "source": [
    "X = pd.DataFrame(index=features.index)\n",
    "df = drop_fillna(features)\n",
    "for i in range(0, 34):\n",
    "    for j in range(0, np.size(col)):\n",
    "        if i != j:\n",
    "            X[col[i] + '_' + col[j]] = df[col[i]] * df[col[j]]\n",
    "            #print(\"============\")\n",
    "            #print(col[i])\n",
    "            #print(col[j])\n"
   ]
  },
  {
   "cell_type": "code",
   "execution_count": 13,
   "metadata": {},
   "outputs": [],
   "source": [
    "X = pd.merge(pd.DataFrame(data=pre_data_for_lr(features),index=features.index), X, left_index=True, right_index=True, how='outer')"
   ]
  },
  {
   "cell_type": "markdown",
   "metadata": {},
   "source": [
    "# Лишнее столбцы?"
   ]
  },
  {
   "cell_type": "code",
   "execution_count": 43,
   "metadata": {},
   "outputs": [
    {
     "name": "stdout",
     "output_type": "stream",
     "text": [
      "LogisticRegression(C=0.006, class_weight=None, dual=False, fit_intercept=True,\n",
      "          intercept_scaling=1, max_iter=100, multi_class='ovr', n_jobs=1,\n",
      "          penalty='l2', random_state=42, solver='liblinear', tol=0.0001,\n",
      "          verbose=0, warm_start=False)\n",
      "[0.74909211 0.75337629 0.74968956 0.7561288  0.75161866]\n",
      "Среднее: 0.75198109 \n",
      "Стандартное отклонение: 0.00512865 \n",
      "Time elapsed: 0:00:16.063951\n"
     ]
    }
   ],
   "source": [
    "\n",
    "\n",
    "test_model(LogisticRegression(random_state=42, C=0.006, penalty='l2'),pre_data_for_lr(features), y)"
   ]
  },
  {
   "cell_type": "code",
   "execution_count": 11,
   "metadata": {
    "scrolled": true
   },
   "outputs": [
    {
     "name": "stdout",
     "output_type": "stream",
     "text": [
      "DROP\n",
      "first_blood_time\n",
      "LogisticRegression(C=0.006, class_weight=None, dual=False, fit_intercept=True,\n",
      "          intercept_scaling=1, max_iter=100, multi_class='ovr', n_jobs=1,\n",
      "          penalty='l2', random_state=42, solver='liblinear', tol=0.0001,\n",
      "          verbose=0, warm_start=False)\n",
      "[0.74904369 0.75335782 0.74967924 0.75609105 0.75158811]\n",
      "Среднее: 0.75195198 \n",
      "Стандартное отклонение: 0.00512751 \n",
      "Time elapsed: 0:00:16.390907\n",
      "DROP\n",
      "first_blood_player1\n",
      "LogisticRegression(C=0.006, class_weight=None, dual=False, fit_intercept=True,\n",
      "          intercept_scaling=1, max_iter=100, multi_class='ovr', n_jobs=1,\n",
      "          penalty='l2', random_state=42, solver='liblinear', tol=0.0001,\n",
      "          verbose=0, warm_start=False)\n",
      "[0.74908673 0.75337496 0.74969479 0.75612982 0.75163269]\n",
      "Среднее: 0.75198380 \n",
      "Стандартное отклонение: 0.00512879 \n",
      "Time elapsed: 0:00:16.206955\n",
      "DROP\n",
      "first_blood_player2\n",
      "LogisticRegression(C=0.006, class_weight=None, dual=False, fit_intercept=True,\n",
      "          intercept_scaling=1, max_iter=100, multi_class='ovr', n_jobs=1,\n",
      "          penalty='l2', random_state=42, solver='liblinear', tol=0.0001,\n",
      "          verbose=0, warm_start=False)\n",
      "[0.74917403 0.75334339 0.74963368 0.756091   0.7516506 ]\n",
      "Среднее: 0.75197854 \n",
      "Стандартное отклонение: 0.00507908 \n",
      "Time elapsed: 0:00:16.880583\n",
      "DROP\n",
      "radiant_bottle_time\n",
      "LogisticRegression(C=0.006, class_weight=None, dual=False, fit_intercept=True,\n",
      "          intercept_scaling=1, max_iter=100, multi_class='ovr', n_jobs=1,\n",
      "          penalty='l2', random_state=42, solver='liblinear', tol=0.0001,\n",
      "          verbose=0, warm_start=False)\n",
      "[0.74903507 0.75305865 0.74985966 0.75591876 0.75145535]\n",
      "Среднее: 0.75186550 \n",
      "Стандартное отклонение: 0.00490351 \n",
      "Time elapsed: 0:00:16.546712\n",
      "DROP\n",
      "radiant_courier_time\n",
      "LogisticRegression(C=0.006, class_weight=None, dual=False, fit_intercept=True,\n",
      "          intercept_scaling=1, max_iter=100, multi_class='ovr', n_jobs=1,\n",
      "          penalty='l2', random_state=42, solver='liblinear', tol=0.0001,\n",
      "          verbose=0, warm_start=False)\n",
      "[0.74903047 0.75336544 0.74964226 0.75616599 0.75164392]\n",
      "Среднее: 0.75196962 \n",
      "Стандартное отклонение: 0.00519378 \n",
      "Time elapsed: 0:00:16.637039\n",
      "DROP\n",
      "radiant_flying_courier_time\n",
      "LogisticRegression(C=0.006, class_weight=None, dual=False, fit_intercept=True,\n",
      "          intercept_scaling=1, max_iter=100, multi_class='ovr', n_jobs=1,\n",
      "          penalty='l2', random_state=42, solver='liblinear', tol=0.0001,\n",
      "          verbose=0, warm_start=False)\n",
      "[0.74899541 0.7528343  0.74931353 0.75637348 0.75142558]\n",
      "Среднее: 0.75178846 \n",
      "Стандартное отклонение: 0.00537954 \n",
      "Time elapsed: 0:00:16.936781\n",
      "DROP\n",
      "radiant_first_ward_time\n",
      "LogisticRegression(C=0.006, class_weight=None, dual=False, fit_intercept=True,\n",
      "          intercept_scaling=1, max_iter=100, multi_class='ovr', n_jobs=1,\n",
      "          penalty='l2', random_state=42, solver='liblinear', tol=0.0001,\n",
      "          verbose=0, warm_start=False)\n",
      "[0.74909236 0.7533657  0.74942132 0.75593674 0.75143508]\n",
      "Среднее: 0.75185024 \n",
      "Стандартное отклонение: 0.00511265 \n",
      "Time elapsed: 0:00:16.845086\n",
      "DROP\n",
      "dire_bottle_time\n",
      "LogisticRegression(C=0.006, class_weight=None, dual=False, fit_intercept=True,\n",
      "          intercept_scaling=1, max_iter=100, multi_class='ovr', n_jobs=1,\n",
      "          penalty='l2', random_state=42, solver='liblinear', tol=0.0001,\n",
      "          verbose=0, warm_start=False)\n",
      "[0.74881339 0.75317181 0.7497053  0.75608096 0.75176605]\n",
      "Среднее: 0.75190750 \n",
      "Стандартное отклонение: 0.00517374 \n",
      "Time elapsed: 0:00:16.819894\n",
      "DROP\n",
      "dire_courier_time\n",
      "LogisticRegression(C=0.006, class_weight=None, dual=False, fit_intercept=True,\n",
      "          intercept_scaling=1, max_iter=100, multi_class='ovr', n_jobs=1,\n",
      "          penalty='l2', random_state=42, solver='liblinear', tol=0.0001,\n",
      "          verbose=0, warm_start=False)\n",
      "[0.74915879 0.75335704 0.74967462 0.75614094 0.75162457]\n",
      "Среднее: 0.75199119 \n",
      "Стандартное отклонение: 0.00510759 \n",
      "Time elapsed: 0:00:16.799776\n",
      "DROP\n",
      "dire_flying_courier_time\n",
      "LogisticRegression(C=0.006, class_weight=None, dual=False, fit_intercept=True,\n",
      "          intercept_scaling=1, max_iter=100, multi_class='ovr', n_jobs=1,\n",
      "          penalty='l2', random_state=42, solver='liblinear', tol=0.0001,\n",
      "          verbose=0, warm_start=False)\n",
      "[0.74888014 0.7532456  0.74958781 0.75634723 0.75164754]\n",
      "Среднее: 0.75194166 \n",
      "Стандартное отклонение: 0.00537470 \n",
      "Time elapsed: 0:00:16.491894\n",
      "DROP\n",
      "dire_first_ward_time\n",
      "LogisticRegression(C=0.006, class_weight=None, dual=False, fit_intercept=True,\n",
      "          intercept_scaling=1, max_iter=100, multi_class='ovr', n_jobs=1,\n",
      "          penalty='l2', random_state=42, solver='liblinear', tol=0.0001,\n",
      "          verbose=0, warm_start=False)\n",
      "[0.74910303 0.7535196  0.74955276 0.75590977 0.75163075]\n",
      "Среднее: 0.75194318 \n",
      "Стандартное отклонение: 0.00506732 \n",
      "Time elapsed: 0:00:16.501147\n"
     ]
    }
   ],
   "source": [
    "test_drop_col = [\n",
    "                 'first_blood_time',\n",
    "                 'first_blood_player1',\n",
    "                 'first_blood_player2',\n",
    "                 'radiant_bottle_time',\n",
    "                 'radiant_courier_time', \n",
    "                 'radiant_flying_courier_time', \n",
    "                 'radiant_first_ward_time', \n",
    "                 'dire_bottle_time',\n",
    "                 'dire_courier_time',\n",
    "                 'dire_flying_courier_time',\n",
    "                 'dire_first_ward_time'\n",
    "                ]\n",
    "\n",
    "for c in test_drop_col:\n",
    "    df = features.copy()\n",
    "    drop_columns = ['duration',\n",
    "                    'lobby_type',\n",
    "                    'radiant_win',\n",
    "                    'tower_status_radiant',\n",
    "                    'tower_status_dire',\n",
    "                    'barracks_status_radiant',\n",
    "                    'barracks_status_dire',\n",
    "                    'r1_hero',\n",
    "                    'r2_hero',\n",
    "                    'r3_hero',\n",
    "                    'r4_hero',\n",
    "                    'r5_hero',\n",
    "                    'd1_hero',\n",
    "                    'd2_hero',\n",
    "                    'd3_hero',\n",
    "                    'd4_hero',\n",
    "                    'd5_hero',\n",
    "                    ]\n",
    "    df = df.drop(columns=drop_columns)\n",
    "    values = {'first_blood_time': 900, \n",
    "                'first_blood_team': -1, #Это же категориальный признакю для логистической регрессии норм?\n",
    "                'first_blood_player1': -1,#Это же категориальный признакю для логистической регрессии норм?\n",
    "                'first_blood_player2': -1, #Это же категориальный признакю для логистической регрессии норм?\n",
    "                'radiant_bottle_time': 900,\n",
    "                'radiant_courier_time': 900, \n",
    "                'radiant_flying_courier_time': 900, \n",
    "                'radiant_first_ward_time': 900, \n",
    "                'dire_bottle_time': 900,\n",
    "                'dire_courier_time': 900,\n",
    "                'dire_flying_courier_time': 900,\n",
    "                'dire_first_ward_time': 900,} \n",
    "    df= df.fillna(value=values)\n",
    "\n",
    "    df = df.drop(columns=[c])\n",
    "    X_pick = np.zeros((features.shape[0], 112))\n",
    "    for i, match_id in enumerate(features.index): #Мешок геров\n",
    "        for p in range(5):\n",
    "            X_pick[i, features.loc[match_id, 'r%d_hero' % (p+1)]-1] = 1\n",
    "            X_pick[i, features.loc[match_id, 'd%d_hero' % (p+1)]-1] = -1\n",
    "    df_pick = pd.DataFrame(data=X_pick, index=df.index)\n",
    "    #df_pick = df_pick.drop(columns=[107,106,110]) #Ненужны так как таких героев нет\n",
    "    df = pd.merge(df, df_pick, left_index=True, right_index=True, how='outer')\n",
    "    scaler = StandardScaler()\n",
    "    df = scaler.fit_transform(df)\n",
    "    \n",
    "    print(\"DROP\")\n",
    "    print(c)\n",
    "    test_model(LogisticRegression(random_state=42, C=0.006, penalty='l2'), df, y)"
   ]
  },
  {
   "cell_type": "code",
   "execution_count": 17,
   "metadata": {},
   "outputs": [
    {
     "name": "stdout",
     "output_type": "stream",
     "text": [
      "LogisticRegression(C=0.006, class_weight=None, dual=False, fit_intercept=True,\n",
      "          intercept_scaling=1, max_iter=100, multi_class='ovr', n_jobs=1,\n",
      "          penalty='l2', random_state=42, solver='liblinear', tol=0.0001,\n",
      "          verbose=0, warm_start=False)\n",
      "[0.74916307 0.75335548 0.7496803  0.75614298 0.75163856]\n",
      "Среднее: 0.75199608 \n",
      "Стандартное отклонение: 0.00510383 \n",
      "Time elapsed: 0:00:15.649782\n"
     ]
    }
   ],
   "source": [
    "df = features.copy()\n",
    "drop_columns = ['duration',\n",
    "                    'lobby_type',\n",
    "                    'radiant_win',\n",
    "                    'tower_status_radiant',\n",
    "                    'tower_status_dire',\n",
    "                    'barracks_status_radiant',\n",
    "                    'barracks_status_dire',\n",
    "                    'r1_hero',\n",
    "                    'r2_hero',\n",
    "                    'r3_hero',\n",
    "                    'r4_hero',\n",
    "                    'r5_hero',\n",
    "                    'd1_hero',\n",
    "                    'd2_hero',\n",
    "                    'd3_hero',\n",
    "                    'd4_hero',\n",
    "                    'd5_hero',\n",
    "                'dire_courier_time',\n",
    "                'first_blood_player1'\n",
    "                    ]\n",
    "values = {'first_blood_time': 900, \n",
    "                'first_blood_team': -1, #Это же категориальный признакю для логистической регрессии норм?\n",
    "                'first_blood_player1': -1,#Это же категориальный признакю для логистической регрессии норм?\n",
    "                'first_blood_player2': -1, #Это же категориальный признакю для логистической регрессии норм?\n",
    "                'radiant_bottle_time': 900,\n",
    "                'radiant_courier_time': 900, \n",
    "                'radiant_flying_courier_time': 900, \n",
    "                'radiant_first_ward_time': 900, \n",
    "                'dire_bottle_time': 900,\n",
    "                'dire_courier_time': 900,\n",
    "                'dire_flying_courier_time': 900,\n",
    "                'dire_first_ward_time': 900,} \n",
    "df= df.fillna(value=values)\n",
    "\n",
    "df = df.drop(columns=drop_columns)\n",
    "X_pick = np.zeros((features.shape[0], 112))\n",
    "for i, match_id in enumerate(features.index): #Мешок геров\n",
    "    for p in range(5):\n",
    "        X_pick[i, features.loc[match_id, 'r%d_hero' % (p+1)]-1] = 1\n",
    "        X_pick[i, features.loc[match_id, 'd%d_hero' % (p+1)]-1] = -1\n",
    "df_pick = pd.DataFrame(data=X_pick, index=df.index)\n",
    "#df_pick = df_pick.drop(columns=[107,106,110]) #Ненужны так как таких героев нет\n",
    "df = pd.merge(df, df_pick, left_index=True, right_index=True, how='outer')\n",
    "scaler = StandardScaler()\n",
    "df = scaler.fit_transform(df)\n",
    "    \n",
    "test_model(LogisticRegression(random_state=42, C=0.006, penalty='l2'),df, y)"
   ]
  },
  {
   "cell_type": "markdown",
   "metadata": {},
   "source": [
    "=> Почему то признаки 'dire_courier_time' 'first_blood_player1' мешают"
   ]
  },
  {
   "cell_type": "code",
   "execution_count": 23,
   "metadata": {},
   "outputs": [
    {
     "name": "stdout",
     "output_type": "stream",
     "text": [
      "LogisticRegression(C=0.006, class_weight=None, dual=False, fit_intercept=True,\n",
      "          intercept_scaling=1, max_iter=100, multi_class='ovr', n_jobs=1,\n",
      "          penalty='l2', random_state=42, solver='liblinear', tol=0.0001,\n",
      "          verbose=0, warm_start=False)\n",
      "[0.74996576 0.75438123 0.75005059 0.75688001 0.75239933]\n",
      "Среднее: 0.75273538 \n",
      "Стандартное отклонение: 0.00528232 \n",
      "Time elapsed: 0:00:19.040429\n"
     ]
    }
   ],
   "source": [
    "test_model(LogisticRegression(random_state=42, C=0.006, penalty='l2'),pre_data_for_lr_V2(features), y)"
   ]
  },
  {
   "cell_type": "markdown",
   "metadata": {},
   "source": [
    "# Другие"
   ]
  },
  {
   "cell_type": "code",
   "execution_count": 35,
   "metadata": {},
   "outputs": [
    {
     "name": "stdout",
     "output_type": "stream",
     "text": [
      "RandomForestClassifier(bootstrap=True, class_weight=None, criterion='gini',\n",
      "            max_depth=None, max_features='auto', max_leaf_nodes=None,\n",
      "            min_impurity_decrease=0.0, min_impurity_split=None,\n",
      "            min_samples_leaf=1, min_samples_split=2,\n",
      "            min_weight_fraction_leaf=0.0, n_estimators=100, n_jobs=1,\n",
      "            oob_score=False, random_state=42, verbose=0, warm_start=False)\n",
      "[0.69091639 0.69343677 0.69249739 0.68971782 0.69653128]\n",
      "Среднее: 0.69261993 \n",
      "Стандартное отклонение: 0.00467377 \n",
      "Time elapsed: 0:02:55.724006\n"
     ]
    }
   ],
   "source": [
    "test_model(model=RandomForestClassifier(n_estimators=100, random_state=42), X=pre_data_with_hero(features), y=y)"
   ]
  },
  {
   "cell_type": "code",
   "execution_count": null,
   "metadata": {},
   "outputs": [
    {
     "name": "stdout",
     "output_type": "stream",
     "text": [
      "KNeighborsClassifier(algorithm='auto', leaf_size=30, metric='minkowski',\n",
      "           metric_params=None, n_jobs=1, n_neighbors=5, p=2,\n",
      "           weights='uniform')\n"
     ]
    }
   ],
   "source": [
    "from sklearn.neighbors import KNeighborsClassifier\n",
    "test_model(KNeighborsClassifier(n_neighbors=5), pre_data_with_hero(features), y)"
   ]
  },
  {
   "cell_type": "code",
   "execution_count": 54,
   "metadata": {},
   "outputs": [
    {
     "name": "stderr",
     "output_type": "stream",
     "text": [
      "/home/byzilio/.local/lib/python3.6/site-packages/sklearn/preprocessing/data.py:625: DataConversionWarning: Data with input dtype int64, float64 were all converted to float64 by StandardScaler.\n",
      "  return self.partial_fit(X, y)\n",
      "/home/byzilio/.local/lib/python3.6/site-packages/sklearn/base.py:462: DataConversionWarning: Data with input dtype int64, float64 were all converted to float64 by StandardScaler.\n",
      "  return self.fit(X, **fit_params).transform(X)\n"
     ]
    },
    {
     "name": "stdout",
     "output_type": "stream",
     "text": [
      "SVC(C=1.0, cache_size=200, class_weight=None, coef0=0.0,\n",
      "  decision_function_shape='ovr', degree=3, gamma='auto', kernel='rbf',\n",
      "  max_iter=1000, probability=False, random_state=None, shrinking=True,\n",
      "  tol=0.001, verbose=False)\n"
     ]
    },
    {
     "name": "stderr",
     "output_type": "stream",
     "text": [
      "/home/byzilio/.local/lib/python3.6/site-packages/sklearn/svm/base.py:244: ConvergenceWarning: Solver terminated early (max_iter=1000).  Consider pre-processing your data with StandardScaler or MinMaxScaler.\n",
      "  % self.max_iter, ConvergenceWarning)\n",
      "/home/byzilio/.local/lib/python3.6/site-packages/sklearn/svm/base.py:244: ConvergenceWarning: Solver terminated early (max_iter=1000).  Consider pre-processing your data with StandardScaler or MinMaxScaler.\n",
      "  % self.max_iter, ConvergenceWarning)\n",
      "/home/byzilio/.local/lib/python3.6/site-packages/sklearn/svm/base.py:244: ConvergenceWarning: Solver terminated early (max_iter=1000).  Consider pre-processing your data with StandardScaler or MinMaxScaler.\n",
      "  % self.max_iter, ConvergenceWarning)\n",
      "/home/byzilio/.local/lib/python3.6/site-packages/sklearn/svm/base.py:244: ConvergenceWarning: Solver terminated early (max_iter=1000).  Consider pre-processing your data with StandardScaler or MinMaxScaler.\n",
      "  % self.max_iter, ConvergenceWarning)\n",
      "/home/byzilio/.local/lib/python3.6/site-packages/sklearn/svm/base.py:244: ConvergenceWarning: Solver terminated early (max_iter=1000).  Consider pre-processing your data with StandardScaler or MinMaxScaler.\n",
      "  % self.max_iter, ConvergenceWarning)\n"
     ]
    },
    {
     "name": "stdout",
     "output_type": "stream",
     "text": [
      "[0.55245992 0.54537613 0.53068236 0.54072111 0.53064602]\n",
      "Среднее: 0.53997711 \n",
      "Стандартное отклонение: 0.01694662 \n",
      "Time elapsed: 0:02:31.104315\n"
     ]
    }
   ],
   "source": [
    "from sklearn.svm import SVC\n",
    "test_model(model=SVC(gamma='auto',max_iter=1000), X=pre_data_with_hero(features), y=y)"
   ]
  },
  {
   "cell_type": "code",
   "execution_count": 56,
   "metadata": {},
   "outputs": [
    {
     "name": "stderr",
     "output_type": "stream",
     "text": [
      "/home/byzilio/.local/lib/python3.6/site-packages/sklearn/preprocessing/data.py:625: DataConversionWarning: Data with input dtype int64, float64 were all converted to float64 by StandardScaler.\n",
      "  return self.partial_fit(X, y)\n",
      "/home/byzilio/.local/lib/python3.6/site-packages/sklearn/base.py:462: DataConversionWarning: Data with input dtype int64, float64 were all converted to float64 by StandardScaler.\n",
      "  return self.fit(X, **fit_params).transform(X)\n"
     ]
    },
    {
     "name": "stdout",
     "output_type": "stream",
     "text": [
      "XGBClassifier(base_score=0.5, booster='gbtree', colsample_bylevel=1,\n",
      "       colsample_bytree=1, gamma=0, learning_rate=0.1, max_delta_step=0,\n",
      "       max_depth=3, min_child_weight=1, missing=None, n_estimators=100,\n",
      "       n_jobs=1, nthread=None, objective='binary:logistic', random_state=0,\n",
      "       reg_alpha=0, reg_lambda=1, scale_pos_weight=1, seed=42, silent=True,\n",
      "       subsample=1)\n",
      "[0.70506313 0.70610334 0.70477366 0.70742464 0.70900295]\n",
      "Среднее: 0.70647355 \n",
      "Стандартное отклонение: 0.00313922 \n",
      "Time elapsed: 0:01:05.534207\n"
     ]
    }
   ],
   "source": [
    "from xgboost import XGBClassifier\n",
    "test_model(XGBClassifier(seed=42), pre_data(features), y)"
   ]
  },
  {
   "cell_type": "code",
   "execution_count": 57,
   "metadata": {},
   "outputs": [
    {
     "name": "stderr",
     "output_type": "stream",
     "text": [
      "/home/byzilio/.local/lib/python3.6/site-packages/sklearn/preprocessing/data.py:625: DataConversionWarning: Data with input dtype int64, float64 were all converted to float64 by StandardScaler.\n",
      "  return self.partial_fit(X, y)\n",
      "/home/byzilio/.local/lib/python3.6/site-packages/sklearn/base.py:462: DataConversionWarning: Data with input dtype int64, float64 were all converted to float64 by StandardScaler.\n",
      "  return self.fit(X, **fit_params).transform(X)\n"
     ]
    },
    {
     "name": "stdout",
     "output_type": "stream",
     "text": [
      "XGBClassifier(base_score=0.5, booster='gbtree', colsample_bylevel=1,\n",
      "       colsample_bytree=1, gamma=0, learning_rate=0.1, max_delta_step=0,\n",
      "       max_depth=3, min_child_weight=1, missing=None, n_estimators=100,\n",
      "       n_jobs=1, nthread=None, objective='binary:logistic', random_state=0,\n",
      "       reg_alpha=0, reg_lambda=1, scale_pos_weight=1, seed=42, silent=True,\n",
      "       subsample=1)\n",
      "[0.71255931 0.7133536  0.711067   0.71625341 0.7169643 ]\n",
      "Среднее: 0.71403952 \n",
      "Стандартное отклонение: 0.00446793 \n",
      "Time elapsed: 0:02:13.417334\n"
     ]
    }
   ],
   "source": [
    "\n",
    "test_model(XGBClassifier(seed=42), pre_data_for_lr_V2(features), y)"
   ]
  },
  {
   "cell_type": "code",
   "execution_count": 11,
   "metadata": {},
   "outputs": [
    {
     "name": "stdout",
     "output_type": "stream",
     "text": [
      "RidgeClassifier(alpha=1.0, class_weight=None, copy_X=True, fit_intercept=True,\n",
      "        max_iter=None, normalize=False, random_state=None, solver='auto',\n",
      "        tol=0.001)\n",
      "[0.71403196 0.71627487 0.71581154 0.71676522 0.7179193 ]\n",
      "Среднее: 0.71616 \n",
      "Стандартное отклонение: 0.00254945 \n",
      "Time elapsed: 0:00:01.205618\n"
     ]
    }
   ],
   "source": [
    "from sklearn.linear_model import RidgeClassifier\n",
    "test_model(RidgeClassifier(), pre_data(features), y)"
   ]
  },
  {
   "cell_type": "code",
   "execution_count": 13,
   "metadata": {},
   "outputs": [
    {
     "name": "stdout",
     "output_type": "stream",
     "text": [
      "RidgeClassifier(alpha=1.0, class_weight=None, copy_X=True, fit_intercept=True,\n",
      "        max_iter=None, normalize=False, random_state=None, solver='auto',\n",
      "        tol=0.001)\n",
      "[0.74901289 0.75340027 0.74940324 0.75588303 0.75135882]\n",
      "Среднее: 0.75181 \n",
      "Стандартное отклонение: 0.00513330 \n",
      "Time elapsed: 0:00:02.658397\n"
     ]
    }
   ],
   "source": [
    "test_model(RidgeClassifier(), pre_data_for_lr(features), y)"
   ]
  },
  {
   "cell_type": "code",
   "execution_count": null,
   "metadata": {},
   "outputs": [],
   "source": [
    "test_model(LogisticRegression(random_state=1, C=0.006, penalty='l2', solver=\"lbfgs\",max_iter=100000), pre_data_for_lr(features), y)"
   ]
  },
  {
   "cell_type": "markdown",
   "metadata": {},
   "source": [
    "# По подбираем "
   ]
  },
  {
   "cell_type": "code",
   "execution_count": 32,
   "metadata": {},
   "outputs": [
    {
     "name": "stdout",
     "output_type": "stream",
     "text": [
      "LogisticRegression(C=0.1, class_weight=None, dual=True, fit_intercept=True,\n",
      "          intercept_scaling=1, max_iter=100, multi_class='ovr', n_jobs=1,\n",
      "          penalty='l2', random_state=42, solver='liblinear', tol=0.0001,\n",
      "          verbose=0, warm_start=False)\n",
      "[0.74910541 0.75340628 0.74962205 0.75605237 0.75150499]\n",
      "Среднее: 0.75193822 \n",
      "Стандартное отклонение: 0.00511145 \n",
      "Time elapsed: 0:00:26.129695\n"
     ]
    }
   ],
   "source": [
    "test_model(LogisticRegression(random_state=42, C=0.1, penalty='l2', dual=True), pre_data_for_lr(features), y)"
   ]
  },
  {
   "cell_type": "code",
   "execution_count": 33,
   "metadata": {
    "scrolled": true
   },
   "outputs": [
    {
     "name": "stdout",
     "output_type": "stream",
     "text": [
      "LogisticRegression(C=0.1, class_weight=None, dual=False, fit_intercept=True,\n",
      "          intercept_scaling=1, max_iter=10000, multi_class='ovr', n_jobs=1,\n",
      "          penalty='l2', random_state=42, solver='liblinear', tol=0.0001,\n",
      "          verbose=0, warm_start=False)\n",
      "[0.74910063 0.75340792 0.74962288 0.7560517  0.75150683]\n",
      "Среднее: 0.75193799 \n",
      "Стандартное отклонение: 0.00511309 \n",
      "Time elapsed: 0:00:19.374992\n"
     ]
    }
   ],
   "source": [
    "test_model(LogisticRegression(random_state=42, C=0.1, penalty='l2',max_iter=10000), pre_data_for_lr(features), y)"
   ]
  },
  {
   "cell_type": "code",
   "execution_count": 31,
   "metadata": {},
   "outputs": [
    {
     "name": "stdout",
     "output_type": "stream",
     "text": [
      "LogisticRegression(C=0.1, class_weight=None, dual=False, fit_intercept=True,\n",
      "          intercept_scaling=0.5, max_iter=100, multi_class='ovr', n_jobs=1,\n",
      "          penalty='l2', random_state=42, solver='liblinear', tol=0.0001,\n",
      "          verbose=0, warm_start=False)\n",
      "[0.7491009  0.75340814 0.74962282 0.75605186 0.75150655]\n",
      "Среднее: 0.75193805 \n",
      "Стандартное отклонение: 0.00511316 \n",
      "Time elapsed: 0:00:19.224988\n"
     ]
    }
   ],
   "source": [
    "test_model(LogisticRegression(random_state=42, C=0.1, penalty='l2',intercept_scaling=0.5), pre_data_for_lr(features), y)"
   ]
  },
  {
   "cell_type": "code",
   "execution_count": 34,
   "metadata": {},
   "outputs": [
    {
     "name": "stdout",
     "output_type": "stream",
     "text": [
      "LogisticRegression(C=0.1, class_weight=None, dual=False, fit_intercept=True,\n",
      "          intercept_scaling=1, max_iter=10000, multi_class='ovr', n_jobs=1,\n",
      "          penalty='l2', random_state=42, solver='newton-cg', tol=0.0001,\n",
      "          verbose=0, warm_start=False)\n",
      "[0.74910131 0.75340835 0.74962288 0.7560516  0.7515068 ]\n",
      "Среднее: 0.75193819 \n",
      "Стандартное отклонение: 0.00511282 \n",
      "Time elapsed: 0:00:21.393881\n"
     ]
    }
   ],
   "source": [
    "test_model(LogisticRegression(random_state=42, C=0.1, penalty='l2',max_iter=10000, solver=\"newton-cg\"), pre_data_for_lr(features), y)"
   ]
  },
  {
   "cell_type": "code",
   "execution_count": 35,
   "metadata": {
    "scrolled": true
   },
   "outputs": [
    {
     "name": "stdout",
     "output_type": "stream",
     "text": [
      "LogisticRegression(C=0.1, class_weight=None, dual=False, fit_intercept=True,\n",
      "          intercept_scaling=1, max_iter=10000, multi_class='ovr', n_jobs=1,\n",
      "          penalty='l2', random_state=42, solver='saga', tol=0.0001,\n",
      "          verbose=0, warm_start=False)\n",
      "[0.74910072 0.75340851 0.74962293 0.75605201 0.75150675]\n",
      "Среднее: 0.75193818 \n",
      "Стандартное отклонение: 0.00511337 \n",
      "Time elapsed: 0:00:29.481196\n"
     ]
    }
   ],
   "source": [
    "test_model(LogisticRegression(random_state=42, C=0.1, penalty='l2',max_iter=10000, solver=\"saga\"), pre_data_for_lr(features), y)"
   ]
  },
  {
   "cell_type": "code",
   "execution_count": 36,
   "metadata": {},
   "outputs": [
    {
     "name": "stdout",
     "output_type": "stream",
     "text": [
      "LogisticRegression(C=0.1, class_weight=None, dual=False, fit_intercept=True,\n",
      "          intercept_scaling=1, max_iter=10000, multi_class='ovr', n_jobs=1,\n",
      "          penalty='l2', random_state=42, solver='sag', tol=0.0001,\n",
      "          verbose=0, warm_start=False)\n",
      "[0.74910118 0.75340828 0.74962245 0.75605156 0.75150682]\n",
      "Среднее: 0.75193806 \n",
      "Стандартное отклонение: 0.00511299 \n",
      "Time elapsed: 0:00:18.346999\n"
     ]
    }
   ],
   "source": [
    "test_model(LogisticRegression(random_state=42, C=0.1, penalty='l2',max_iter=10000, solver=\"sag\"), pre_data_for_lr(features), y)"
   ]
  },
  {
   "cell_type": "code",
   "execution_count": 38,
   "metadata": {},
   "outputs": [
    {
     "name": "stdout",
     "output_type": "stream",
     "text": [
      "LogisticRegression(C=0.1, class_weight=None, dual=False, fit_intercept=True,\n",
      "          intercept_scaling=1, max_iter=10000, multi_class='ovr', n_jobs=1,\n",
      "          penalty='l2', random_state=42, solver='lbfgs', tol=0.0001,\n",
      "          verbose=0, warm_start=False)\n",
      "[0.7491005  0.75341039 0.74962428 0.75605199 0.75150571]\n",
      "Среднее: 0.75193857 \n",
      "Стандартное отклонение: 0.00511346 \n",
      "Time elapsed: 0:00:05.818927\n"
     ]
    }
   ],
   "source": [
    "test_model(LogisticRegression(random_state=42, C=0.1, penalty='l2',max_iter=10000, solver=\"lbfgs\"), pre_data_for_lr(features), y)"
   ]
  },
  {
   "cell_type": "code",
   "execution_count": 39,
   "metadata": {},
   "outputs": [
    {
     "name": "stdout",
     "output_type": "stream",
     "text": [
      "LogisticRegression(C=0.1, class_weight=None, dual=False, fit_intercept=True,\n",
      "          intercept_scaling=1, max_iter=10000, multi_class='ovr', n_jobs=1,\n",
      "          penalty='l2', random_state=42, solver='liblinear', tol=0.0001,\n",
      "          verbose=0, warm_start=False)\n",
      "[0.74910063 0.75340792 0.74962288 0.7560517  0.75150683]\n",
      "Среднее: 0.75193799 \n",
      "Стандартное отклонение: 0.00511309 \n",
      "Time elapsed: 0:00:18.429014\n"
     ]
    }
   ],
   "source": [
    "test_model(LogisticRegression(random_state=42, C=0.1, penalty='l2',max_iter=10000, solver=\"liblinear\"), pre_data_for_lr(features), y)"
   ]
  },
  {
   "cell_type": "markdown",
   "metadata": {},
   "source": [
    "# Результат\n"
   ]
  },
  {
   "cell_type": "markdown",
   "metadata": {},
   "source": [
    "Попробывал все подвигать лучше не стало. Кол-во итерации не влияет."
   ]
  },
  {
   "cell_type": "code",
   "execution_count": 47,
   "metadata": {
    "scrolled": false
   },
   "outputs": [
    {
     "name": "stdout",
     "output_type": "stream",
     "text": [
      "LogisticRegression(C=0.1, class_weight=None, dual=False, fit_intercept=True,\n",
      "          intercept_scaling=1, max_iter=99999999, multi_class='ovr',\n",
      "          n_jobs=1, penalty='l2', random_state=42, solver='lbfgs',\n",
      "          tol=0.0001, verbose=0, warm_start=False)\n",
      "[0.7491005  0.75341039 0.74962428 0.75605199 0.75150571]\n",
      "Среднее: 0.75193857 \n",
      "Стандартное отклонение: 0.00511346 \n",
      "Time elapsed: 0:00:05.823172\n"
     ]
    }
   ],
   "source": [
    "test_model(LogisticRegression(random_state=42, C=0.1, penalty='l2', solver=\"lbfgs\"), pre_data_for_lr(features), y)"
   ]
  },
  {
   "cell_type": "markdown",
   "metadata": {},
   "source": [
    "## Среднее: 0.75193857 \n",
    "## Стандартное отклонение: 0.00511346 "
   ]
  },
  {
   "cell_type": "markdown",
   "metadata": {},
   "source": [
    "# Попробуем улучшить с помощью VotingClassifier"
   ]
  },
  {
   "cell_type": "code",
   "execution_count": 28,
   "metadata": {},
   "outputs": [
    {
     "name": "stdout",
     "output_type": "stream",
     "text": [
      "VotingClassifier(estimators=[('lr0.1', LogisticRegression(C=0.1, class_weight=None, dual=False, fit_intercept=True,\n",
      "          intercept_scaling=1, max_iter=100, multi_class='ovr', n_jobs=1,\n",
      "          penalty='l2', random_state=42, solver='liblinear', tol=0.0001,\n",
      "          verbose=0, warm_start=False)), ('lr1.0', Log...alty='l2', random_state=42, solver='liblinear', tol=0.0001,\n",
      "          verbose=0, warm_start=False))],\n",
      "         flatten_transform=None, n_jobs=4, voting='soft', weights=None)\n",
      "[0.74910011 0.75340672 0.74962076 0.75604662 0.75150218]\n",
      "Среднее: 0.75193528 \n",
      "Стандартное отклонение: 0.00511085 \n",
      "Time elapsed: 0:00:27.003001\n"
     ]
    }
   ],
   "source": [
    "X = pre_data_for_lr(features)\n",
    "\n",
    "vc = VotingClassifier([('lr0.1', LogisticRegression(random_state=42, C=0.1, penalty='l2')),('lr1.0', LogisticRegression(random_state=42, C=1, penalty='l2'))],n_jobs=4 , voting='soft')\n",
    "\n",
    "test_model(model=vc, X=X, y=y) "
   ]
  },
  {
   "cell_type": "code",
   "execution_count": 30,
   "metadata": {},
   "outputs": [
    {
     "name": "stdout",
     "output_type": "stream",
     "text": [
      "VotingClassifier(estimators=[('lr0.006', LogisticRegression(C=0.006, class_weight=None, dual=False, fit_intercept=True,\n",
      "          intercept_scaling=1, max_iter=100, multi_class='ovr', n_jobs=1,\n",
      "          penalty='l2', random_state=42, solver='liblinear', tol=0.0001,\n",
      "          verbose=0, warm_start=False)), ('gdb', G...        presort='auto', random_state=42, subsample=1.0, verbose=0,\n",
      "              warm_start=False))],\n",
      "         flatten_transform=None, n_jobs=4, voting='soft', weights=None)\n",
      "[0.74594916 0.74867583 0.7450348  0.75126285 0.74930514]\n",
      "Среднее: 0.74804556 \n",
      "Стандартное отклонение: 0.00454262 \n",
      "Time elapsed: 0:03:42.097883\n"
     ]
    }
   ],
   "source": [
    "X = pre_data_for_lr_V2(features)\n",
    "\n",
    "vc = VotingClassifier([('lr0.006', LogisticRegression(random_state=42, C=0.006, penalty='l2')),('gdb', GradientBoostingClassifier(n_estimators=50, random_state=42))],n_jobs=4 , voting='soft')\n",
    "\n",
    "test_model(model=vc, X=X, y=y)"
   ]
  },
  {
   "cell_type": "code",
   "execution_count": 75,
   "metadata": {},
   "outputs": [],
   "source": [
    "from sklearn.pipeline import Pipeline, FeatureUnion\n",
    "from sklearn.base import BaseEstimator, TransformerMixin\n",
    "\n",
    "class DataTransformer(BaseEstimator, TransformerMixin):\n",
    "    def __init__(self, func):\n",
    "        self.func = func\n",
    "    \n",
    "    def fit(self, x, y=None):\n",
    "        return self\n",
    "    \n",
    "    def transform(self, X):\n",
    "        return self.func(X)"
   ]
  },
  {
   "cell_type": "code",
   "execution_count": 76,
   "metadata": {},
   "outputs": [],
   "source": [
    "def wordBag(x):\n",
    "    X_pick = np.zeros((features.shape[0], 113), dtype=np.float64)\n",
    "    for i, match_id in enumerate(features.index):\n",
    "        for p in range(5):\n",
    "            X_pick[i, x.loc[match_id, 'r%d_hero' % (p+1)]-1] = 1\n",
    "            X_pick[i, x.loc[match_id, 'd%d_hero' % (p+1)]-1] = -1\n",
    "    return StandardScaler().fit_transform(X_pick)"
   ]
  },
  {
   "cell_type": "code",
   "execution_count": 77,
   "metadata": {},
   "outputs": [],
   "source": [
    "def wordBagItems(x):\n",
    "    X_pick = np.zeros((x.shape[0], 113), dtype=np.float64)\n",
    "    for i, match_id in enumerate(x.index):\n",
    "        for p in range(5):\n",
    "            X_pick[i, x.loc[match_id, 'r%d_hero' % (p+1)]-1] = x.loc[match_id, 'r%d_items' % (p+1)] \n",
    "            X_pick[i, x.loc[match_id, 'd%d_hero' % (p+1)]-1] = -1 * x.loc[match_id, 'd%d_items' % (p+1)] \n",
    "    return StandardScaler().fit_transform(X_pick)"
   ]
  },
  {
   "cell_type": "code",
   "execution_count": 78,
   "metadata": {},
   "outputs": [],
   "source": [
    "def wordBagKD(x):\n",
    "    X_pick = np.zeros((x.shape[0], 113), dtype=np.float64)\n",
    "    for i, match_id in enumerate(x.index):\n",
    "        for p in range(5):\n",
    "            X_pick[i, x.loc[match_id, 'r%d_hero' % (p+1)]-1] = (x.loc[match_id, 'r%d_kills' % (p+1)] + 1) / (features.loc[match_id, 'r%d_deaths' % (p+1)] + 1)\n",
    "            X_pick[i, x.loc[match_id, 'd%d_hero' % (p+1)]-1] = -1 * (x.loc[match_id, 'd%d_kills' % (p+1)] + 1) / (features.loc[match_id, 'd%d_deaths' % (p+1)] + 1)\n",
    "    return StandardScaler().fit_transform(X_pick)"
   ]
  },
  {
   "cell_type": "code",
   "execution_count": 79,
   "metadata": {},
   "outputs": [],
   "source": [
    "def wordBagGoldXp(x):\n",
    "    X_pick = np.zeros((x.shape[0], 113), dtype=np.float64)\n",
    "    for i, match_id in enumerate(x.index):\n",
    "        for p in range(5):\n",
    "            X_pick[i, x.loc[match_id, 'r%d_hero' % (p+1)]-1] = x.loc[match_id, 'r%d_gold' % (p+1)] * features.loc[match_id, 'r%d_xp' % (p+1)]\n",
    "            X_pick[i, x.loc[match_id, 'd%d_hero' % (p+1)]-1] = -1 * x.loc[match_id, 'd%d_gold' % (p+1)] * features.loc[match_id, 'd%d_xp' % (p+1)]\n",
    "    return StandardScaler().fit_transform(X_pick)"
   ]
  },
  {
   "cell_type": "code",
   "execution_count": 80,
   "metadata": {},
   "outputs": [],
   "source": [
    "def wordBagGoldLevel(x):\n",
    "    X_pick = np.zeros((x.shape[0], 113), dtype=np.float64)\n",
    "    for i, match_id in enumerate(x.index):\n",
    "        for p in range(5):\n",
    "            X_pick[i, x.loc[match_id, 'r%d_hero' % (p+1)]-1] = x.loc[match_id, 'r%d_gold' % (p+1)] * features.loc[match_id, 'r%d_level' % (p+1)]\n",
    "            X_pick[i, x.loc[match_id, 'd%d_hero' % (p+1)]-1] = -1 * x.loc[match_id, 'd%d_gold' % (p+1)] * features.loc[match_id, 'd%d_level' % (p+1)]\n",
    "    return StandardScaler().fit_transform(X_pick)"
   ]
  },
  {
   "cell_type": "code",
   "execution_count": 81,
   "metadata": {},
   "outputs": [],
   "source": [
    "def wordBagLh(x):\n",
    "    X_pick = np.zeros((x.shape[0], 113), dtype=np.float64)\n",
    "    for i, match_id in enumerate(x.index):\n",
    "        for p in range(5):\n",
    "            X_pick[i, x.loc[match_id, 'r%d_hero' % (p+1)]-1] = x.loc[match_id, 'r%d_lh' % (p+1)]\n",
    "            X_pick[i, x.loc[match_id, 'd%d_hero' % (p+1)]-1] = -1 * x.loc[match_id, 'd%d_lh' % (p+1)]\n",
    "    return StandardScaler().fit_transform(X_pick)"
   ]
  },
  {
   "cell_type": "code",
   "execution_count": 82,
   "metadata": {},
   "outputs": [],
   "source": [
    "def wordBagEx(x):\n",
    "    X_pick = np.zeros((x.shape[0], 113), dtype=np.float64)\n",
    "    for i, match_id in enumerate(x.index):\n",
    "        for p in range(5):\n",
    "            X_pick[i, x.loc[match_id, 'r%d_hero' % (p+1)]-1] = x.loc[match_id, 'r%d_ex' % (p+1)]\n",
    "            X_pick[i, x.loc[match_id, 'd%d_hero' % (p+1)]-1] = -1 * x.loc[match_id, 'd%d_ex' % (p+1)]\n",
    "    return StandardScaler().fit_transform(X_pick)"
   ]
  },
  {
   "cell_type": "code",
   "execution_count": 83,
   "metadata": {},
   "outputs": [],
   "source": [
    "lr_clf = Pipeline([('pre_data_for_lr_data', DataTransformer(pre_data_for_lr_V2)), ('lr1', LogisticRegression(C=0.006, random_state=42, solver='lbfgs', max_iter=100000))])\n",
    "items_clf = Pipeline([('wordBagItems_data', DataTransformer(wordBagItems)), ('lr2', LogisticRegression(C=0.1, random_state=42, solver='lbfgs', max_iter=100000))])\n",
    "lh_clf = Pipeline([('wordBagLh_data', DataTransformer(wordBagLh)), ('lr3', LogisticRegression(C=0.1, random_state=42, solver='lbfgs', max_iter=100000))])\n",
    "gold_level_clf = Pipeline([('wordBagGoldLevel_data', DataTransformer(wordBagGoldLevel)), ('lr3', LogisticRegression(C=0.1, random_state=42, solver='lbfgs', max_iter=100000))])\n",
    "gold_xp_clf = Pipeline([('wordBagGoldXp_data', DataTransformer(wordBagGoldXp)), ('lr4', LogisticRegression(C=0.1, random_state=42, solver='lbfgs', max_iter=100000))])\n",
    "kills_deaths_clf = Pipeline([('wordBagKD_data', DataTransformer(wordBagKD)), ('lr5', LogisticRegression(C=0.1, random_state=42, solver='lbfgs', max_iter=100000))])\n",
    "gbc_clf = Pipeline([('pre_data', DataTransformer(pre_data)), ('gbc', GradientBoostingClassifier(n_estimators=100, random_state=42))])\n",
    "xp_clf = Pipeline([('wordBagXP_data', DataTransformer(pre_data)), ('gbc', GradientBoostingClassifier(n_estimators=100, random_state=42))])\n"
   ]
  },
  {
   "cell_type": "code",
   "execution_count": 84,
   "metadata": {},
   "outputs": [],
   "source": [
    "vc = VotingClassifier([  \n",
    "    ('lr_clf', lr_clf),\n",
    "    #('items_clf', items_clf),\n",
    "    #('lh_clf', lh_clf),\n",
    "    #('gold_level_clf', gold_level_clf),\n",
    "    #('gold_xp_clf', gold_xp_clf),\n",
    "    #('kills_deaths_clf', kills_deaths_clf)\n",
    "], voting='soft')"
   ]
  },
  {
   "cell_type": "code",
   "execution_count": 85,
   "metadata": {
    "scrolled": true
   },
   "outputs": [
    {
     "name": "stdout",
     "output_type": "stream",
     "text": [
      "VotingClassifier(estimators=[('lr_clf', Pipeline(memory=None,\n",
      "     steps=[('pre_data_for_lr_data', DataTransformer(func=<function pre_data_for_lr_V2 at 0x7fd050e9fe18>)), ('lr1', LogisticRegression(C=0.006, class_weight=None, dual=False, fit_intercept=True,\n",
      "          intercept_scaling=1, max_iter=100000, multi_class='warn',\n",
      "          n_jobs=None, penalty='l2', random_state=42, solver='lbfgs',\n",
      "          tol=0.0001, verbose=0, warm_start=False))]))],\n",
      "         flatten_transform=None, n_jobs=None, voting='soft', weights=None)\n"
     ]
    },
    {
     "name": "stderr",
     "output_type": "stream",
     "text": [
      "/home/byzilio/.local/lib/python3.6/site-packages/sklearn/preprocessing/data.py:625: DataConversionWarning: Data with input dtype int64, float64 were all converted to float64 by StandardScaler.\n",
      "  return self.partial_fit(X, y)\n",
      "/home/byzilio/.local/lib/python3.6/site-packages/sklearn/base.py:462: DataConversionWarning: Data with input dtype int64, float64 were all converted to float64 by StandardScaler.\n",
      "  return self.fit(X, **fit_params).transform(X)\n",
      "/home/byzilio/.local/lib/python3.6/site-packages/sklearn/preprocessing/data.py:625: DataConversionWarning: Data with input dtype int64, float64 were all converted to float64 by StandardScaler.\n",
      "  return self.partial_fit(X, y)\n",
      "/home/byzilio/.local/lib/python3.6/site-packages/sklearn/base.py:462: DataConversionWarning: Data with input dtype int64, float64 were all converted to float64 by StandardScaler.\n",
      "  return self.fit(X, **fit_params).transform(X)\n",
      "/home/byzilio/.local/lib/python3.6/site-packages/sklearn/preprocessing/data.py:625: DataConversionWarning: Data with input dtype int64, float64 were all converted to float64 by StandardScaler.\n",
      "  return self.partial_fit(X, y)\n",
      "/home/byzilio/.local/lib/python3.6/site-packages/sklearn/base.py:462: DataConversionWarning: Data with input dtype int64, float64 were all converted to float64 by StandardScaler.\n",
      "  return self.fit(X, **fit_params).transform(X)\n",
      "/home/byzilio/.local/lib/python3.6/site-packages/sklearn/preprocessing/data.py:625: DataConversionWarning: Data with input dtype int64, float64 were all converted to float64 by StandardScaler.\n",
      "  return self.partial_fit(X, y)\n",
      "/home/byzilio/.local/lib/python3.6/site-packages/sklearn/base.py:462: DataConversionWarning: Data with input dtype int64, float64 were all converted to float64 by StandardScaler.\n",
      "  return self.fit(X, **fit_params).transform(X)\n",
      "/home/byzilio/.local/lib/python3.6/site-packages/sklearn/preprocessing/data.py:625: DataConversionWarning: Data with input dtype int64, float64 were all converted to float64 by StandardScaler.\n",
      "  return self.partial_fit(X, y)\n",
      "/home/byzilio/.local/lib/python3.6/site-packages/sklearn/base.py:462: DataConversionWarning: Data with input dtype int64, float64 were all converted to float64 by StandardScaler.\n",
      "  return self.fit(X, **fit_params).transform(X)\n",
      "/home/byzilio/.local/lib/python3.6/site-packages/sklearn/preprocessing/data.py:625: DataConversionWarning: Data with input dtype int64, float64 were all converted to float64 by StandardScaler.\n",
      "  return self.partial_fit(X, y)\n",
      "/home/byzilio/.local/lib/python3.6/site-packages/sklearn/base.py:462: DataConversionWarning: Data with input dtype int64, float64 were all converted to float64 by StandardScaler.\n",
      "  return self.fit(X, **fit_params).transform(X)\n",
      "/home/byzilio/.local/lib/python3.6/site-packages/sklearn/preprocessing/data.py:625: DataConversionWarning: Data with input dtype int64, float64 were all converted to float64 by StandardScaler.\n",
      "  return self.partial_fit(X, y)\n",
      "/home/byzilio/.local/lib/python3.6/site-packages/sklearn/base.py:462: DataConversionWarning: Data with input dtype int64, float64 were all converted to float64 by StandardScaler.\n",
      "  return self.fit(X, **fit_params).transform(X)\n",
      "/home/byzilio/.local/lib/python3.6/site-packages/sklearn/preprocessing/data.py:625: DataConversionWarning: Data with input dtype int64, float64 were all converted to float64 by StandardScaler.\n",
      "  return self.partial_fit(X, y)\n",
      "/home/byzilio/.local/lib/python3.6/site-packages/sklearn/base.py:462: DataConversionWarning: Data with input dtype int64, float64 were all converted to float64 by StandardScaler.\n",
      "  return self.fit(X, **fit_params).transform(X)\n",
      "/home/byzilio/.local/lib/python3.6/site-packages/sklearn/preprocessing/data.py:625: DataConversionWarning: Data with input dtype int64, float64 were all converted to float64 by StandardScaler.\n",
      "  return self.partial_fit(X, y)\n",
      "/home/byzilio/.local/lib/python3.6/site-packages/sklearn/base.py:462: DataConversionWarning: Data with input dtype int64, float64 were all converted to float64 by StandardScaler.\n",
      "  return self.fit(X, **fit_params).transform(X)\n"
     ]
    },
    {
     "name": "stdout",
     "output_type": "stream",
     "text": [
      "[0.74994198 0.75429744 0.75003029 0.75681507 0.75234421]\n",
      "Среднее: 0.75269 \n",
      "Стандартное отклонение: 0.00524177 \n",
      "Time elapsed: 0:00:38.441367\n"
     ]
    },
    {
     "name": "stderr",
     "output_type": "stream",
     "text": [
      "/home/byzilio/.local/lib/python3.6/site-packages/sklearn/preprocessing/data.py:625: DataConversionWarning: Data with input dtype int64, float64 were all converted to float64 by StandardScaler.\n",
      "  return self.partial_fit(X, y)\n",
      "/home/byzilio/.local/lib/python3.6/site-packages/sklearn/base.py:462: DataConversionWarning: Data with input dtype int64, float64 were all converted to float64 by StandardScaler.\n",
      "  return self.fit(X, **fit_params).transform(X)\n"
     ]
    }
   ],
   "source": [
    "k_fold = KFold(n_splits=5, random_state=42, shuffle=True) \n",
    "start_time = datetime.datetime.now()\n",
    "print(vc)\n",
    "scores = cross_val_score(vc, features, y, cv=k_fold, scoring=\"roc_auc\")\n",
    "print(scores)\n",
    "print(\"Среднее: %0.5f \" % (scores.mean()))\n",
    "print(\"Стандартное отклонение: %0.8f \" % (scores.std() * 2))  \n",
    "print('Time elapsed:', end=' ')\n",
    "print(datetime.datetime.now() - start_time)"
   ]
  },
  {
   "cell_type": "code",
   "execution_count": 86,
   "metadata": {},
   "outputs": [
    {
     "name": "stdout",
     "output_type": "stream",
     "text": [
      "VotingClassifier(estimators=[('items_clf', Pipeline(memory=None,\n",
      "     steps=[('wordBagItems_data', DataTransformer(func=<function wordBagItems at 0x7fd03da85400>)), ('lr2', LogisticRegression(C=0.1, class_weight=None, dual=False, fit_intercept=True,\n",
      "          intercept_scaling=1, max_iter=100000, multi_class='warn',...nalty='l2', random_state=42, solver='lbfgs',\n",
      "          tol=0.0001, verbose=0, warm_start=False))]))],\n",
      "         flatten_transform=None, n_jobs=None, voting='soft', weights=None)\n",
      "[0.73694751 0.74122576 0.73627649 0.74484104 0.73978492]\n",
      "Среднее: 0.73982 \n",
      "Стандартное отклонение: 0.00619650 \n",
      "Time elapsed: 0:03:15.379830\n"
     ]
    }
   ],
   "source": [
    "vc = VotingClassifier([  \n",
    "    #('lr_clf', lr_clf),\n",
    "    ('items_clf', items_clf),\n",
    "    ('lh_clf', lh_clf),\n",
    "    ('gold_level_clf', gold_level_clf),\n",
    "    #('gold_xp_clf', gold_xp_clf),\n",
    "    #('kills_deaths_clf', kills_deaths_clf)\n",
    "], voting='soft')\n",
    "k_fold = KFold(n_splits=5, random_state=42, shuffle=True) \n",
    "start_time = datetime.datetime.now()\n",
    "print(vc)\n",
    "scores = cross_val_score(vc, features, y, cv=k_fold, scoring=\"roc_auc\")\n",
    "print(scores)\n",
    "print(\"Среднее: %0.5f \" % (scores.mean()))\n",
    "print(\"Стандартное отклонение: %0.8f \" % (scores.std() * 2))  \n",
    "print('Time elapsed:', end=' ')\n",
    "print(datetime.datetime.now() - start_time)"
   ]
  },
  {
   "cell_type": "code",
   "execution_count": 87,
   "metadata": {},
   "outputs": [
    {
     "name": "stdout",
     "output_type": "stream",
     "text": [
      "VotingClassifier(estimators=[('lr_clf', Pipeline(memory=None,\n",
      "     steps=[('pre_data_for_lr_data', DataTransformer(func=<function pre_data_for_lr_V2 at 0x7fd050e9fe18>)), ('lr1', LogisticRegression(C=0.006, class_weight=None, dual=False, fit_intercept=True,\n",
      "          intercept_scaling=1, max_iter=100000, multi_class...nalty='l2', random_state=42, solver='lbfgs',\n",
      "          tol=0.0001, verbose=0, warm_start=False))]))],\n",
      "         flatten_transform=None, n_jobs=None, voting='soft', weights=None)\n"
     ]
    },
    {
     "name": "stderr",
     "output_type": "stream",
     "text": [
      "/home/byzilio/.local/lib/python3.6/site-packages/sklearn/preprocessing/data.py:625: DataConversionWarning: Data with input dtype int64, float64 were all converted to float64 by StandardScaler.\n",
      "  return self.partial_fit(X, y)\n",
      "/home/byzilio/.local/lib/python3.6/site-packages/sklearn/base.py:462: DataConversionWarning: Data with input dtype int64, float64 were all converted to float64 by StandardScaler.\n",
      "  return self.fit(X, **fit_params).transform(X)\n",
      "/home/byzilio/.local/lib/python3.6/site-packages/sklearn/preprocessing/data.py:625: DataConversionWarning: Data with input dtype int64, float64 were all converted to float64 by StandardScaler.\n",
      "  return self.partial_fit(X, y)\n",
      "/home/byzilio/.local/lib/python3.6/site-packages/sklearn/base.py:462: DataConversionWarning: Data with input dtype int64, float64 were all converted to float64 by StandardScaler.\n",
      "  return self.fit(X, **fit_params).transform(X)\n",
      "/home/byzilio/.local/lib/python3.6/site-packages/sklearn/preprocessing/data.py:625: DataConversionWarning: Data with input dtype int64, float64 were all converted to float64 by StandardScaler.\n",
      "  return self.partial_fit(X, y)\n",
      "/home/byzilio/.local/lib/python3.6/site-packages/sklearn/base.py:462: DataConversionWarning: Data with input dtype int64, float64 were all converted to float64 by StandardScaler.\n",
      "  return self.fit(X, **fit_params).transform(X)\n",
      "/home/byzilio/.local/lib/python3.6/site-packages/sklearn/preprocessing/data.py:625: DataConversionWarning: Data with input dtype int64, float64 were all converted to float64 by StandardScaler.\n",
      "  return self.partial_fit(X, y)\n",
      "/home/byzilio/.local/lib/python3.6/site-packages/sklearn/base.py:462: DataConversionWarning: Data with input dtype int64, float64 were all converted to float64 by StandardScaler.\n",
      "  return self.fit(X, **fit_params).transform(X)\n",
      "/home/byzilio/.local/lib/python3.6/site-packages/sklearn/preprocessing/data.py:625: DataConversionWarning: Data with input dtype int64, float64 were all converted to float64 by StandardScaler.\n",
      "  return self.partial_fit(X, y)\n",
      "/home/byzilio/.local/lib/python3.6/site-packages/sklearn/base.py:462: DataConversionWarning: Data with input dtype int64, float64 were all converted to float64 by StandardScaler.\n",
      "  return self.fit(X, **fit_params).transform(X)\n",
      "/home/byzilio/.local/lib/python3.6/site-packages/sklearn/preprocessing/data.py:625: DataConversionWarning: Data with input dtype int64, float64 were all converted to float64 by StandardScaler.\n",
      "  return self.partial_fit(X, y)\n",
      "/home/byzilio/.local/lib/python3.6/site-packages/sklearn/base.py:462: DataConversionWarning: Data with input dtype int64, float64 were all converted to float64 by StandardScaler.\n",
      "  return self.fit(X, **fit_params).transform(X)\n",
      "/home/byzilio/.local/lib/python3.6/site-packages/sklearn/preprocessing/data.py:625: DataConversionWarning: Data with input dtype int64, float64 were all converted to float64 by StandardScaler.\n",
      "  return self.partial_fit(X, y)\n",
      "/home/byzilio/.local/lib/python3.6/site-packages/sklearn/base.py:462: DataConversionWarning: Data with input dtype int64, float64 were all converted to float64 by StandardScaler.\n",
      "  return self.fit(X, **fit_params).transform(X)\n",
      "/home/byzilio/.local/lib/python3.6/site-packages/sklearn/preprocessing/data.py:625: DataConversionWarning: Data with input dtype int64, float64 were all converted to float64 by StandardScaler.\n",
      "  return self.partial_fit(X, y)\n",
      "/home/byzilio/.local/lib/python3.6/site-packages/sklearn/base.py:462: DataConversionWarning: Data with input dtype int64, float64 were all converted to float64 by StandardScaler.\n",
      "  return self.fit(X, **fit_params).transform(X)\n",
      "/home/byzilio/.local/lib/python3.6/site-packages/sklearn/preprocessing/data.py:625: DataConversionWarning: Data with input dtype int64, float64 were all converted to float64 by StandardScaler.\n",
      "  return self.partial_fit(X, y)\n",
      "/home/byzilio/.local/lib/python3.6/site-packages/sklearn/base.py:462: DataConversionWarning: Data with input dtype int64, float64 were all converted to float64 by StandardScaler.\n",
      "  return self.fit(X, **fit_params).transform(X)\n",
      "/home/byzilio/.local/lib/python3.6/site-packages/sklearn/preprocessing/data.py:625: DataConversionWarning: Data with input dtype int64, float64 were all converted to float64 by StandardScaler.\n",
      "  return self.partial_fit(X, y)\n",
      "/home/byzilio/.local/lib/python3.6/site-packages/sklearn/base.py:462: DataConversionWarning: Data with input dtype int64, float64 were all converted to float64 by StandardScaler.\n",
      "  return self.fit(X, **fit_params).transform(X)\n"
     ]
    },
    {
     "name": "stdout",
     "output_type": "stream",
     "text": [
      "[0.74386443 0.74731734 0.74425043 0.75184405 0.74711712]\n",
      "Среднее: 0.74687867 \n",
      "Стандартное отклонение: 0.00571997 \n",
      "Time elapsed: 0:02:59.995980\n"
     ]
    }
   ],
   "source": [
    "vc = VotingClassifier([  \n",
    "    ('lr_clf', lr_clf),\n",
    "    #('items_clf', items_clf),\n",
    "    ('gbc_clf', items_clf),\n",
    "    #('lh_clf', lh_clf),\n",
    "    ('gold_level_clf', gold_level_clf),\n",
    "    #('gold_xp_clf', gold_xp_clf),\n",
    "    #('kills_deaths_clf', kills_deaths_clf)\n",
    "], voting='soft')\n",
    "test_model(vc, features, y)"
   ]
  },
  {
   "cell_type": "code",
   "execution_count": 88,
   "metadata": {},
   "outputs": [
    {
     "name": "stdout",
     "output_type": "stream",
     "text": [
      "VotingClassifier(estimators=[('lr_clf', Pipeline(memory=None,\n",
      "     steps=[('pre_data_for_lr_data', DataTransformer(func=<function pre_data_for_lr_V2 at 0x7fd050e9fe18>)), ('lr1', LogisticRegression(C=0.006, class_weight=None, dual=False, fit_intercept=True,\n",
      "          intercept_scaling=1, max_iter=100000, multi_class...nalty='l2', random_state=42, solver='lbfgs',\n",
      "          tol=0.0001, verbose=0, warm_start=False))]))],\n",
      "         flatten_transform=None, n_jobs=None, voting='soft', weights=None)\n"
     ]
    },
    {
     "name": "stderr",
     "output_type": "stream",
     "text": [
      "/home/byzilio/.local/lib/python3.6/site-packages/sklearn/preprocessing/data.py:625: DataConversionWarning: Data with input dtype int64, float64 were all converted to float64 by StandardScaler.\n",
      "  return self.partial_fit(X, y)\n",
      "/home/byzilio/.local/lib/python3.6/site-packages/sklearn/base.py:462: DataConversionWarning: Data with input dtype int64, float64 were all converted to float64 by StandardScaler.\n",
      "  return self.fit(X, **fit_params).transform(X)\n",
      "/home/byzilio/.local/lib/python3.6/site-packages/sklearn/preprocessing/data.py:625: DataConversionWarning: Data with input dtype int64, float64 were all converted to float64 by StandardScaler.\n",
      "  return self.partial_fit(X, y)\n",
      "/home/byzilio/.local/lib/python3.6/site-packages/sklearn/base.py:462: DataConversionWarning: Data with input dtype int64, float64 were all converted to float64 by StandardScaler.\n",
      "  return self.fit(X, **fit_params).transform(X)\n",
      "/home/byzilio/.local/lib/python3.6/site-packages/sklearn/preprocessing/data.py:625: DataConversionWarning: Data with input dtype int64, float64 were all converted to float64 by StandardScaler.\n",
      "  return self.partial_fit(X, y)\n",
      "/home/byzilio/.local/lib/python3.6/site-packages/sklearn/base.py:462: DataConversionWarning: Data with input dtype int64, float64 were all converted to float64 by StandardScaler.\n",
      "  return self.fit(X, **fit_params).transform(X)\n",
      "/home/byzilio/.local/lib/python3.6/site-packages/sklearn/preprocessing/data.py:625: DataConversionWarning: Data with input dtype int64, float64 were all converted to float64 by StandardScaler.\n",
      "  return self.partial_fit(X, y)\n",
      "/home/byzilio/.local/lib/python3.6/site-packages/sklearn/base.py:462: DataConversionWarning: Data with input dtype int64, float64 were all converted to float64 by StandardScaler.\n",
      "  return self.fit(X, **fit_params).transform(X)\n",
      "/home/byzilio/.local/lib/python3.6/site-packages/sklearn/preprocessing/data.py:625: DataConversionWarning: Data with input dtype int64, float64 were all converted to float64 by StandardScaler.\n",
      "  return self.partial_fit(X, y)\n",
      "/home/byzilio/.local/lib/python3.6/site-packages/sklearn/base.py:462: DataConversionWarning: Data with input dtype int64, float64 were all converted to float64 by StandardScaler.\n",
      "  return self.fit(X, **fit_params).transform(X)\n",
      "/home/byzilio/.local/lib/python3.6/site-packages/sklearn/preprocessing/data.py:625: DataConversionWarning: Data with input dtype int64, float64 were all converted to float64 by StandardScaler.\n",
      "  return self.partial_fit(X, y)\n",
      "/home/byzilio/.local/lib/python3.6/site-packages/sklearn/base.py:462: DataConversionWarning: Data with input dtype int64, float64 were all converted to float64 by StandardScaler.\n",
      "  return self.fit(X, **fit_params).transform(X)\n",
      "/home/byzilio/.local/lib/python3.6/site-packages/sklearn/preprocessing/data.py:625: DataConversionWarning: Data with input dtype int64, float64 were all converted to float64 by StandardScaler.\n",
      "  return self.partial_fit(X, y)\n",
      "/home/byzilio/.local/lib/python3.6/site-packages/sklearn/base.py:462: DataConversionWarning: Data with input dtype int64, float64 were all converted to float64 by StandardScaler.\n",
      "  return self.fit(X, **fit_params).transform(X)\n",
      "/home/byzilio/.local/lib/python3.6/site-packages/sklearn/preprocessing/data.py:625: DataConversionWarning: Data with input dtype int64, float64 were all converted to float64 by StandardScaler.\n",
      "  return self.partial_fit(X, y)\n",
      "/home/byzilio/.local/lib/python3.6/site-packages/sklearn/base.py:462: DataConversionWarning: Data with input dtype int64, float64 were all converted to float64 by StandardScaler.\n",
      "  return self.fit(X, **fit_params).transform(X)\n",
      "/home/byzilio/.local/lib/python3.6/site-packages/sklearn/preprocessing/data.py:625: DataConversionWarning: Data with input dtype int64, float64 were all converted to float64 by StandardScaler.\n",
      "  return self.partial_fit(X, y)\n",
      "/home/byzilio/.local/lib/python3.6/site-packages/sklearn/base.py:462: DataConversionWarning: Data with input dtype int64, float64 were all converted to float64 by StandardScaler.\n",
      "  return self.fit(X, **fit_params).transform(X)\n",
      "/home/byzilio/.local/lib/python3.6/site-packages/sklearn/preprocessing/data.py:625: DataConversionWarning: Data with input dtype int64, float64 were all converted to float64 by StandardScaler.\n",
      "  return self.partial_fit(X, y)\n",
      "/home/byzilio/.local/lib/python3.6/site-packages/sklearn/base.py:462: DataConversionWarning: Data with input dtype int64, float64 were all converted to float64 by StandardScaler.\n",
      "  return self.fit(X, **fit_params).transform(X)\n"
     ]
    },
    {
     "name": "stdout",
     "output_type": "stream",
     "text": [
      "[0.73577629 0.73832343 0.73626395 0.74368091 0.73864667]\n",
      "Среднее: 0.73853825 \n",
      "Стандартное отклонение: 0.00560755 \n",
      "Time elapsed: 0:01:40.453474\n"
     ]
    }
   ],
   "source": [
    "vc = VotingClassifier([  \n",
    "    ('lr_clf', lr_clf),\n",
    "    #('items_clf', items_clf),\n",
    "    ('gbc_clf', items_clf),\n",
    "    #('lh_clf', lh_clf),\n",
    "    #('gold_level_clf', gold_level_clf),\n",
    "    #('gold_xp_clf', gold_xp_clf),\n",
    "    #('kills_deaths_clf', kills_deaths_clf)\n",
    "], voting='soft')\n",
    "test_model(vc, features, y)"
   ]
  },
  {
   "cell_type": "code",
   "execution_count": 89,
   "metadata": {},
   "outputs": [
    {
     "name": "stdout",
     "output_type": "stream",
     "text": [
      "VotingClassifier(estimators=[('lh_clf', Pipeline(memory=None,\n",
      "     steps=[('wordBagLh_data', DataTransformer(func=<function wordBagLh at 0x7fd03da85ae8>)), ('lr3', LogisticRegression(C=0.1, class_weight=None, dual=False, fit_intercept=True,\n",
      "          intercept_scaling=1, max_iter=100000, multi_class='warn',\n",
      "        ...nalty='l2', random_state=42, solver='lbfgs',\n",
      "          tol=0.0001, verbose=0, warm_start=False))]))],\n",
      "         flatten_transform=None, n_jobs=None, voting='soft', weights=None)\n"
     ]
    },
    {
     "name": "stderr",
     "output_type": "stream",
     "text": [
      "/home/byzilio/.local/lib/python3.6/site-packages/sklearn/preprocessing/data.py:625: DataConversionWarning: Data with input dtype int64, float64 were all converted to float64 by StandardScaler.\n",
      "  return self.partial_fit(X, y)\n",
      "/home/byzilio/.local/lib/python3.6/site-packages/sklearn/base.py:462: DataConversionWarning: Data with input dtype int64, float64 were all converted to float64 by StandardScaler.\n",
      "  return self.fit(X, **fit_params).transform(X)\n",
      "/home/byzilio/.local/lib/python3.6/site-packages/sklearn/preprocessing/data.py:625: DataConversionWarning: Data with input dtype int64, float64 were all converted to float64 by StandardScaler.\n",
      "  return self.partial_fit(X, y)\n",
      "/home/byzilio/.local/lib/python3.6/site-packages/sklearn/base.py:462: DataConversionWarning: Data with input dtype int64, float64 were all converted to float64 by StandardScaler.\n",
      "  return self.fit(X, **fit_params).transform(X)\n",
      "/home/byzilio/.local/lib/python3.6/site-packages/sklearn/preprocessing/data.py:625: DataConversionWarning: Data with input dtype int64, float64 were all converted to float64 by StandardScaler.\n",
      "  return self.partial_fit(X, y)\n",
      "/home/byzilio/.local/lib/python3.6/site-packages/sklearn/base.py:462: DataConversionWarning: Data with input dtype int64, float64 were all converted to float64 by StandardScaler.\n",
      "  return self.fit(X, **fit_params).transform(X)\n",
      "/home/byzilio/.local/lib/python3.6/site-packages/sklearn/preprocessing/data.py:625: DataConversionWarning: Data with input dtype int64, float64 were all converted to float64 by StandardScaler.\n",
      "  return self.partial_fit(X, y)\n",
      "/home/byzilio/.local/lib/python3.6/site-packages/sklearn/base.py:462: DataConversionWarning: Data with input dtype int64, float64 were all converted to float64 by StandardScaler.\n",
      "  return self.fit(X, **fit_params).transform(X)\n",
      "/home/byzilio/.local/lib/python3.6/site-packages/sklearn/preprocessing/data.py:625: DataConversionWarning: Data with input dtype int64, float64 were all converted to float64 by StandardScaler.\n",
      "  return self.partial_fit(X, y)\n",
      "/home/byzilio/.local/lib/python3.6/site-packages/sklearn/base.py:462: DataConversionWarning: Data with input dtype int64, float64 were all converted to float64 by StandardScaler.\n",
      "  return self.fit(X, **fit_params).transform(X)\n",
      "/home/byzilio/.local/lib/python3.6/site-packages/sklearn/preprocessing/data.py:625: DataConversionWarning: Data with input dtype int64, float64 were all converted to float64 by StandardScaler.\n",
      "  return self.partial_fit(X, y)\n",
      "/home/byzilio/.local/lib/python3.6/site-packages/sklearn/base.py:462: DataConversionWarning: Data with input dtype int64, float64 were all converted to float64 by StandardScaler.\n",
      "  return self.fit(X, **fit_params).transform(X)\n",
      "/home/byzilio/.local/lib/python3.6/site-packages/sklearn/preprocessing/data.py:625: DataConversionWarning: Data with input dtype int64, float64 were all converted to float64 by StandardScaler.\n",
      "  return self.partial_fit(X, y)\n",
      "/home/byzilio/.local/lib/python3.6/site-packages/sklearn/base.py:462: DataConversionWarning: Data with input dtype int64, float64 were all converted to float64 by StandardScaler.\n",
      "  return self.fit(X, **fit_params).transform(X)\n",
      "/home/byzilio/.local/lib/python3.6/site-packages/sklearn/preprocessing/data.py:625: DataConversionWarning: Data with input dtype int64, float64 were all converted to float64 by StandardScaler.\n",
      "  return self.partial_fit(X, y)\n",
      "/home/byzilio/.local/lib/python3.6/site-packages/sklearn/base.py:462: DataConversionWarning: Data with input dtype int64, float64 were all converted to float64 by StandardScaler.\n",
      "  return self.fit(X, **fit_params).transform(X)\n",
      "/home/byzilio/.local/lib/python3.6/site-packages/sklearn/preprocessing/data.py:625: DataConversionWarning: Data with input dtype int64, float64 were all converted to float64 by StandardScaler.\n",
      "  return self.partial_fit(X, y)\n",
      "/home/byzilio/.local/lib/python3.6/site-packages/sklearn/base.py:462: DataConversionWarning: Data with input dtype int64, float64 were all converted to float64 by StandardScaler.\n",
      "  return self.fit(X, **fit_params).transform(X)\n",
      "/home/byzilio/.local/lib/python3.6/site-packages/sklearn/preprocessing/data.py:625: DataConversionWarning: Data with input dtype int64, float64 were all converted to float64 by StandardScaler.\n",
      "  return self.partial_fit(X, y)\n",
      "/home/byzilio/.local/lib/python3.6/site-packages/sklearn/base.py:462: DataConversionWarning: Data with input dtype int64, float64 were all converted to float64 by StandardScaler.\n",
      "  return self.fit(X, **fit_params).transform(X)\n"
     ]
    },
    {
     "name": "stdout",
     "output_type": "stream",
     "text": [
      "[0.73756931 0.74174199 0.73752801 0.74386109 0.74110522]\n",
      "Среднее: 0.74036113 \n",
      "Стандартное отклонение: 0.00494214 \n",
      "Time elapsed: 0:04:40.564907\n"
     ]
    }
   ],
   "source": [
    "vc = VotingClassifier([  \n",
    "    #('lr_clf', lr_clf),\n",
    "    #('items_clf', items_clf),\n",
    "    #('gbc_clf', items_clf),\n",
    "    ('lh_clf', lh_clf),\n",
    "    ('xp_clf', xp_clf),\n",
    "    #('gold_xp_clf', gold_xp_clf),\n",
    "    ('kills_deaths_clf', kills_deaths_clf)\n",
    "], voting='soft')\n",
    "test_model(vc, features, y)"
   ]
  },
  {
   "cell_type": "code",
   "execution_count": 90,
   "metadata": {},
   "outputs": [
    {
     "name": "stdout",
     "output_type": "stream",
     "text": [
      "VotingClassifier(estimators=[('lr_clf', Pipeline(memory=None,\n",
      "     steps=[('pre_data_for_lr_data', DataTransformer(func=<function pre_data_for_lr_V2 at 0x7fd050e9fe18>)), ('lr1', LogisticRegression(C=0.006, class_weight=None, dual=False, fit_intercept=True,\n",
      "          intercept_scaling=1, max_iter=100000, multi_class...nalty='l2', random_state=42, solver='lbfgs',\n",
      "          tol=0.0001, verbose=0, warm_start=False))]))],\n",
      "         flatten_transform=None, n_jobs=None, voting='soft', weights=None)\n"
     ]
    },
    {
     "name": "stderr",
     "output_type": "stream",
     "text": [
      "/home/byzilio/.local/lib/python3.6/site-packages/sklearn/preprocessing/data.py:625: DataConversionWarning: Data with input dtype int64, float64 were all converted to float64 by StandardScaler.\n",
      "  return self.partial_fit(X, y)\n",
      "/home/byzilio/.local/lib/python3.6/site-packages/sklearn/base.py:462: DataConversionWarning: Data with input dtype int64, float64 were all converted to float64 by StandardScaler.\n",
      "  return self.fit(X, **fit_params).transform(X)\n",
      "/home/byzilio/.local/lib/python3.6/site-packages/sklearn/preprocessing/data.py:625: DataConversionWarning: Data with input dtype int64, float64 were all converted to float64 by StandardScaler.\n",
      "  return self.partial_fit(X, y)\n",
      "/home/byzilio/.local/lib/python3.6/site-packages/sklearn/base.py:462: DataConversionWarning: Data with input dtype int64, float64 were all converted to float64 by StandardScaler.\n",
      "  return self.fit(X, **fit_params).transform(X)\n",
      "/home/byzilio/.local/lib/python3.6/site-packages/sklearn/preprocessing/data.py:625: DataConversionWarning: Data with input dtype int64, float64 were all converted to float64 by StandardScaler.\n",
      "  return self.partial_fit(X, y)\n",
      "/home/byzilio/.local/lib/python3.6/site-packages/sklearn/base.py:462: DataConversionWarning: Data with input dtype int64, float64 were all converted to float64 by StandardScaler.\n",
      "  return self.fit(X, **fit_params).transform(X)\n",
      "/home/byzilio/.local/lib/python3.6/site-packages/sklearn/preprocessing/data.py:625: DataConversionWarning: Data with input dtype int64, float64 were all converted to float64 by StandardScaler.\n",
      "  return self.partial_fit(X, y)\n",
      "/home/byzilio/.local/lib/python3.6/site-packages/sklearn/base.py:462: DataConversionWarning: Data with input dtype int64, float64 were all converted to float64 by StandardScaler.\n",
      "  return self.fit(X, **fit_params).transform(X)\n",
      "/home/byzilio/.local/lib/python3.6/site-packages/sklearn/preprocessing/data.py:625: DataConversionWarning: Data with input dtype int64, float64 were all converted to float64 by StandardScaler.\n",
      "  return self.partial_fit(X, y)\n",
      "/home/byzilio/.local/lib/python3.6/site-packages/sklearn/base.py:462: DataConversionWarning: Data with input dtype int64, float64 were all converted to float64 by StandardScaler.\n",
      "  return self.fit(X, **fit_params).transform(X)\n",
      "/home/byzilio/.local/lib/python3.6/site-packages/sklearn/preprocessing/data.py:625: DataConversionWarning: Data with input dtype int64, float64 were all converted to float64 by StandardScaler.\n",
      "  return self.partial_fit(X, y)\n",
      "/home/byzilio/.local/lib/python3.6/site-packages/sklearn/base.py:462: DataConversionWarning: Data with input dtype int64, float64 were all converted to float64 by StandardScaler.\n",
      "  return self.fit(X, **fit_params).transform(X)\n",
      "/home/byzilio/.local/lib/python3.6/site-packages/sklearn/preprocessing/data.py:625: DataConversionWarning: Data with input dtype int64, float64 were all converted to float64 by StandardScaler.\n",
      "  return self.partial_fit(X, y)\n",
      "/home/byzilio/.local/lib/python3.6/site-packages/sklearn/base.py:462: DataConversionWarning: Data with input dtype int64, float64 were all converted to float64 by StandardScaler.\n",
      "  return self.fit(X, **fit_params).transform(X)\n",
      "/home/byzilio/.local/lib/python3.6/site-packages/sklearn/preprocessing/data.py:625: DataConversionWarning: Data with input dtype int64, float64 were all converted to float64 by StandardScaler.\n",
      "  return self.partial_fit(X, y)\n",
      "/home/byzilio/.local/lib/python3.6/site-packages/sklearn/base.py:462: DataConversionWarning: Data with input dtype int64, float64 were all converted to float64 by StandardScaler.\n",
      "  return self.fit(X, **fit_params).transform(X)\n",
      "/home/byzilio/.local/lib/python3.6/site-packages/sklearn/preprocessing/data.py:625: DataConversionWarning: Data with input dtype int64, float64 were all converted to float64 by StandardScaler.\n",
      "  return self.partial_fit(X, y)\n",
      "/home/byzilio/.local/lib/python3.6/site-packages/sklearn/base.py:462: DataConversionWarning: Data with input dtype int64, float64 were all converted to float64 by StandardScaler.\n",
      "  return self.fit(X, **fit_params).transform(X)\n",
      "/home/byzilio/.local/lib/python3.6/site-packages/sklearn/preprocessing/data.py:625: DataConversionWarning: Data with input dtype int64, float64 were all converted to float64 by StandardScaler.\n",
      "  return self.partial_fit(X, y)\n",
      "/home/byzilio/.local/lib/python3.6/site-packages/sklearn/base.py:462: DataConversionWarning: Data with input dtype int64, float64 were all converted to float64 by StandardScaler.\n",
      "  return self.fit(X, **fit_params).transform(X)\n"
     ]
    },
    {
     "name": "stdout",
     "output_type": "stream",
     "text": [
      "[0.74386443 0.74731734 0.74425043 0.75184405 0.74711712]\n",
      "Среднее: 0.74687867 \n",
      "Стандартное отклонение: 0.00571997 \n",
      "Time elapsed: 0:03:06.401737\n"
     ]
    }
   ],
   "source": [
    "vc = VotingClassifier([  \n",
    "    ('lr_clf', lr_clf),\n",
    "    #('items_clf', items_clf),\n",
    "    ('gbc_clf', items_clf),\n",
    "    #('lh_clf', lh_clf),\n",
    "    ('gold_level_clf', gold_level_clf),\n",
    "    #('gold_xp_clf', gold_xp_clf),\n",
    "    #('kills_deaths_clf', kills_deaths_clf)\n",
    "], voting='soft')\n",
    "test_model(vc, features, y)"
   ]
  },
  {
   "cell_type": "markdown",
   "metadata": {},
   "source": [
    "Помоему это ничего не дает"
   ]
  },
  {
   "cell_type": "code",
   "execution_count": null,
   "metadata": {},
   "outputs": [],
   "source": []
  }
 ],
 "metadata": {
  "kernelspec": {
   "display_name": "Python 3",
   "language": "python",
   "name": "python3"
  },
  "language_info": {
   "codemirror_mode": {
    "name": "ipython",
    "version": 3
   },
   "file_extension": ".py",
   "mimetype": "text/x-python",
   "name": "python",
   "nbconvert_exporter": "python",
   "pygments_lexer": "ipython3",
   "version": "3.6.7"
  }
 },
 "nbformat": 4,
 "nbformat_minor": 2
}
