{
 "cells": [
  {
   "cell_type": "markdown",
   "metadata": {},
   "source": [
    "# Homework Python 3\n",
    "\n",
    "С базовыми фичами языка можно ознакомиться в теории https://gitlab.7bits.it/isiganov/ml-course/blob/master/week1/theory/03_python.md.\n",
    "\n",
    "Предполагается, что вы смогли сделать задания из `Workshop Python 3`.\n",
    "\n",
    "Для закрепления знаний, решите одну из следующих задач."
   ]
  },
  {
   "cell_type": "markdown",
   "metadata": {},
   "source": [
    "# Домашняя работа 1 (Унылая). Матрицы\n",
    "\n",
    "Реализуйте класс матрица и набор важных функций:\n",
    "\n",
    "- сложение матриц\n",
    "- умножение матрицы на число\n",
    "- матричное произведение\n",
    "- поиск определителя\n",
    "- вычисление обратной матрицы\n",
    "- транспонирование матрицы"
   ]
  },
  {
   "cell_type": "code",
   "execution_count": 1,
   "metadata": {},
   "outputs": [],
   "source": [
    "# тут ваш код и примеры его работы"
   ]
  },
  {
   "cell_type": "markdown",
   "metadata": {},
   "source": [
    "# Домашняя работа 1 (Хардкорная). Список.\n",
    "\n",
    "## Теория\n",
    "\n",
    "Мы пойдем весьма необычным путём. В этом задании вы будете реализовывать последовательность(связный список) с помощью рекурсии и базового элемента `tuple`. Это отличается от классического связного списка, основанного на структуре и указателе `next`, когда обход бы делался с помощью `for`, пока не встретился бы _null pointer_.\n",
    "\n",
    "Немного теории. Допустим у нас есть связная последовательность чисел ![](https://senior-sigan.ml/fcs-programming-technology/assets/linked_list.png)\n",
    "\n",
    "Её можно представить в виде последовательности вложенных друг в друга пар: `seq=(1, (2, (3, 4)))`. Тогда чтобы взять последний элемент списка нужно сделать `seq[1][1][1]`. Или если создать специальную вспомогательную функцию `tail`: `tail(tail(tail(seq)))`, что немного математичнее.\n",
    "\n",
    "> Использовать цикл `for`, `while` **запрещено**. Только рекурсия, только хардкор.\n",
    "\n",
    "Можно использовать классы и переопределять операторы, но не обязательно. Как делать классы можно прочитать [тут](https://learnxinyminutes.com/docs/ru-ru/python3-ru/) или в официальной [документации](https://docs.python.org/3/tutorial/classes.html).\n",
    "\n",
    "_Комментарий:_ ваш список должен уметь быть пустым, чтобы его длина была 0. Это потребуется в следующем задании.\n",
    "\n",
    "Далее список задач и примеры функций. Если вы делаете в ООП стиле, то придумайте методы самостоятельно, главное чтобы идея была такая же.\n",
    "\n",
    "### Рекурсивно связная последовательность. Easy.\n",
    "\n",
    "- взятие элемента по индексу `at(seq(1,2,3), 1) == 2`\n",
    "- вычисление длины последовательности `size(seq(1,2)) == 2`\n",
    "- сравнение массивов `eq(seq(1,2), seq(1,2)) == Treu`, `eq(seq(1,2,3), seq(1,2)) == False`\n",
    "\n",
    "### Функции над рекурсивно связаной последовательностью. Moderate.\n",
    "\n",
    "- взятие хвоста последовательности, пропустив N значений, `eq(tail(seq(1,2,3,4), 2), seq(3,4)) == True`\n",
    "- соединение двух списков `eq(concat(seq(1,2), seq(3,4)), seq(1,2,3,4)) == True`\n",
    "- функция `for_each` для обхода списка `for_each(seq(1,2,3,4), lambda x: print(x))`\n",
    "- функция `for_each_indexed` для обхода списка с индексом `for_each(seq(1,2,3,4), lambda i, x: print(i, x))`\n",
    "\n",
    "### Трансформаторы, фильтры, свёртки рекурсивных списков. Hard.\n",
    "\n",
    "- функция преобразования `map`: `map(seq(1,2,3,4), lambda x: x**2) == seq(1,4,9,16)`\n",
    "- функция фильтрации `filter`: `filter(seq(1,2,3,4),lambda x: x%2==1) == seq(1,3)`\n",
    "- функция редуцирования `reduce`: `reduce(s=seq(1,2,3,4), init_value=0, func=lambda acc, cur: acc+cur) == 0+1+2+3+4==10`\n",
    "- на основе функции редуцирования сделать функцию конвертации последовательности в python list `list(seq(1,2,3,4)) == [1,2,3,4]`\n",
    "\n",
    "### Дополнительное задание, если интересно:\n",
    "\n",
    "- на основе функции редуцирования сделать функцию flat_map, которая превращает последовательность последовательностей в последовательность. `flat_map(seq(1,2,3), lambda x: seq(x, x + 10)) == seq(1, 11, 2, 12, 3, 13)`"
   ]
  },
  {
   "cell_type": "code",
   "execution_count": 10,
   "metadata": {},
   "outputs": [
    {
     "data": {
      "text/plain": [
       "True"
      ]
     },
     "execution_count": 10,
     "metadata": {},
     "output_type": "execute_result"
    }
   ],
   "source": [
    "# Воспользуйтесь этим начальным кодом, чтобы реализовать нужный процедуры\n",
    "\n",
    "def head(pair):\n",
    "    if pair is None:\n",
    "        return None\n",
    "    return pair[0]\n",
    "\n",
    "def tail(pair):\n",
    "    if pair is None:\n",
    "        return None\n",
    "    if len(pair) < 2:\n",
    "        return None\n",
    "    return pair[1]\n",
    "\n",
    "def Seq(*elements):\n",
    "    def first(x):\n",
    "        return x[0]\n",
    "    def other(x):\n",
    "        return x[1:]\n",
    "\n",
    "    if len(elements) == 0:\n",
    "        return None\n",
    "\n",
    "    if len(elements) == 1:\n",
    "        return first(elements), None\n",
    "\n",
    "    if len(elements) == 2:\n",
    "        return first(elements), other(elements)\n",
    "\n",
    "    return first(elements), Seq(*other(elements))\n",
    "\n",
    "s = Seq(1,2,3,4,5)\n",
    "s == (1, (2, (3, (4, (5,)))))\n",
    "head(s) == 1\n",
    "tail(s) == (2, (3, (4, (5,))))"
   ]
  },
  {
   "cell_type": "code",
   "execution_count": 11,
   "metadata": {},
   "outputs": [
    {
     "name": "stdout",
     "output_type": "stream",
     "text": [
      "41\n",
      "7\n",
      "True\n",
      "False\n",
      "False\n",
      "True\n",
      "False\n",
      "False\n"
     ]
    }
   ],
   "source": [
    "# тут ваш код и примеры его работы\n",
    "\n",
    "def at(pair, index):\n",
    "    if index == 0:\n",
    "        return pair[0]\n",
    "    else: \n",
    "        return at(pair[1], index - 1)\n",
    "    \n",
    "\n",
    "s = Seq(1,2,33,41,5)\n",
    "print(at(s,3))\n",
    "\n",
    "def size(pair):\n",
    "    if len(pair) == 1:\n",
    "        return 1\n",
    "    else:\n",
    "        return 1 + size(pair[1])\n",
    "\n",
    "\n",
    "s = Seq(1,2,3,4,5,910,123)\n",
    "print(size(s))\n",
    "\n",
    "def eq(pair, other):\n",
    "    if pair == None or other == None:\n",
    "        return False\n",
    "    if len(pair) != len(other):\n",
    "        return False\n",
    "    if len(pair) == 1:\n",
    "        return pair == other\n",
    "    else:\n",
    "        if pair[0] == other[0]:\n",
    "            return eq(pair[1], other[1])\n",
    "        else:\n",
    "            return False\n",
    "\n",
    "\n",
    "s1 = Seq(1,2,3,4)\n",
    "s2 = Seq(1,2,3,4)\n",
    "s3 = Seq(1)\n",
    "s4 = Seq(1,2,3,4,5)\n",
    "s5 = Seq(3)\n",
    "s6 = Seq(2,2,2,2)\n",
    "print(eq(s1,s2))\n",
    "print(eq(s1,s3))\n",
    "print(eq(s1,s4))\n",
    "print(eq(s1,s1))\n",
    "print(eq(s3,s5))\n",
    "print(eq(s1,s6))\n",
    "\n"
   ]
  },
  {
   "cell_type": "code",
   "execution_count": null,
   "metadata": {},
   "outputs": [],
   "source": []
  }
 ],
 "metadata": {
  "kernelspec": {
   "display_name": "Python 3",
   "language": "python",
   "name": "python3"
  },
  "language_info": {
   "codemirror_mode": {
    "name": "ipython",
    "version": 3
   },
   "file_extension": ".py",
   "mimetype": "text/x-python",
   "name": "python",
   "nbconvert_exporter": "python",
   "pygments_lexer": "ipython3",
   "version": "3.7.0"
  }
 },
 "nbformat": 4,
 "nbformat_minor": 2
}
