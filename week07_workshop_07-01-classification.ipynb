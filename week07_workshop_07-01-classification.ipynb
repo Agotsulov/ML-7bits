{
 "cells": [
  {
   "cell_type": "markdown",
   "metadata": {},
   "source": [
    "# Workshop 7. Классификация.\n",
    "\n",
    "1. Скачайте этот ноутбук к себе.\n",
    "2. Заполните пропущенные ячейки, отвечая на заданные вопросы. Там должен быть код! (если не сказано обратное)\n",
    "3. Сохраните результат в своём гитхаб репозитории.\n",
    "\n",
    "### Полезная литература\n",
    "\n",
    "- [ODS - классификация](https://habrahabr.ru/company/ods/blog/322534/)\n",
    "- [Коллаборативная фильтрация - рекомендательная система](https://ru.wikipedia.org/wiki/%D0%9A%D0%BE%D0%BB%D0%BB%D0%B0%D0%B1%D0%BE%D1%80%D0%B0%D1%82%D0%B8%D0%B2%D0%BD%D0%B0%D1%8F_%D1%84%D0%B8%D0%BB%D1%8C%D1%82%D1%80%D0%B0%D1%86%D0%B8%D1%8F)\n",
    "- [Метрики расстояний - косинусная, минковского, проклятье размерности ](http://www.machinelearning.ru/wiki/images/9/9a/Sem1_knn.pdf)\n",
    "- [Offtop: метрики качества рекомендаьельных систем](https://habrahabr.ru/company/dca/blog/281066/)"
   ]
  },
  {
   "cell_type": "markdown",
   "metadata": {},
   "source": [
    "## kNN - ближайшие соседи\n",
    "\n",
    "Рассмотрим задачу из соревнования [Amazon Employee Access Challenge](https://www.kaggle.com/c/amazon-employee-access-challenge).\n",
    "\n",
    "В данной задаче предлагается предсказать, будет ли одобрен запрос сотрудника на получение доступа к тому или иному ресурсу. Все признаки являются категориальными."
   ]
  },
  {
   "cell_type": "code",
   "execution_count": 1,
   "metadata": {},
   "outputs": [],
   "source": [
    "%matplotlib inline\n",
    "import pandas as pd\n",
    "import numpy as np\n",
    "from matplotlib import pyplot as plt\n",
    "import seaborn as sns\n",
    "from sklearn.model_selection import train_test_split, KFold, cross_val_score\n",
    "from sklearn.neighbors import KNeighborsClassifier\n",
    "from sklearn.metrics import classification_report, confusion_matrix\n",
    "from sklearn.preprocessing import scale"
   ]
  },
  {
   "cell_type": "code",
   "execution_count": 2,
   "metadata": {},
   "outputs": [
    {
     "data": {
      "text/html": [
       "<div>\n",
       "<style scoped>\n",
       "    .dataframe tbody tr th:only-of-type {\n",
       "        vertical-align: middle;\n",
       "    }\n",
       "\n",
       "    .dataframe tbody tr th {\n",
       "        vertical-align: top;\n",
       "    }\n",
       "\n",
       "    .dataframe thead th {\n",
       "        text-align: right;\n",
       "    }\n",
       "</style>\n",
       "<table border=\"1\" class=\"dataframe\">\n",
       "  <thead>\n",
       "    <tr style=\"text-align: right;\">\n",
       "      <th></th>\n",
       "      <th>ACTION</th>\n",
       "      <th>RESOURCE</th>\n",
       "      <th>MGR_ID</th>\n",
       "      <th>ROLE_ROLLUP_1</th>\n",
       "      <th>ROLE_ROLLUP_2</th>\n",
       "      <th>ROLE_DEPTNAME</th>\n",
       "      <th>ROLE_TITLE</th>\n",
       "      <th>ROLE_FAMILY_DESC</th>\n",
       "      <th>ROLE_FAMILY</th>\n",
       "      <th>ROLE_CODE</th>\n",
       "    </tr>\n",
       "  </thead>\n",
       "  <tbody>\n",
       "    <tr>\n",
       "      <th>0</th>\n",
       "      <td>1</td>\n",
       "      <td>39353</td>\n",
       "      <td>85475</td>\n",
       "      <td>117961</td>\n",
       "      <td>118300</td>\n",
       "      <td>123472</td>\n",
       "      <td>117905</td>\n",
       "      <td>117906</td>\n",
       "      <td>290919</td>\n",
       "      <td>117908</td>\n",
       "    </tr>\n",
       "    <tr>\n",
       "      <th>1</th>\n",
       "      <td>1</td>\n",
       "      <td>17183</td>\n",
       "      <td>1540</td>\n",
       "      <td>117961</td>\n",
       "      <td>118343</td>\n",
       "      <td>123125</td>\n",
       "      <td>118536</td>\n",
       "      <td>118536</td>\n",
       "      <td>308574</td>\n",
       "      <td>118539</td>\n",
       "    </tr>\n",
       "    <tr>\n",
       "      <th>2</th>\n",
       "      <td>1</td>\n",
       "      <td>36724</td>\n",
       "      <td>14457</td>\n",
       "      <td>118219</td>\n",
       "      <td>118220</td>\n",
       "      <td>117884</td>\n",
       "      <td>117879</td>\n",
       "      <td>267952</td>\n",
       "      <td>19721</td>\n",
       "      <td>117880</td>\n",
       "    </tr>\n",
       "    <tr>\n",
       "      <th>3</th>\n",
       "      <td>1</td>\n",
       "      <td>36135</td>\n",
       "      <td>5396</td>\n",
       "      <td>117961</td>\n",
       "      <td>118343</td>\n",
       "      <td>119993</td>\n",
       "      <td>118321</td>\n",
       "      <td>240983</td>\n",
       "      <td>290919</td>\n",
       "      <td>118322</td>\n",
       "    </tr>\n",
       "    <tr>\n",
       "      <th>4</th>\n",
       "      <td>1</td>\n",
       "      <td>42680</td>\n",
       "      <td>5905</td>\n",
       "      <td>117929</td>\n",
       "      <td>117930</td>\n",
       "      <td>119569</td>\n",
       "      <td>119323</td>\n",
       "      <td>123932</td>\n",
       "      <td>19793</td>\n",
       "      <td>119325</td>\n",
       "    </tr>\n",
       "  </tbody>\n",
       "</table>\n",
       "</div>"
      ],
      "text/plain": [
       "   ACTION  RESOURCE  MGR_ID  ROLE_ROLLUP_1  ROLE_ROLLUP_2  ROLE_DEPTNAME  \\\n",
       "0       1     39353   85475         117961         118300         123472   \n",
       "1       1     17183    1540         117961         118343         123125   \n",
       "2       1     36724   14457         118219         118220         117884   \n",
       "3       1     36135    5396         117961         118343         119993   \n",
       "4       1     42680    5905         117929         117930         119569   \n",
       "\n",
       "   ROLE_TITLE  ROLE_FAMILY_DESC  ROLE_FAMILY  ROLE_CODE  \n",
       "0      117905            117906       290919     117908  \n",
       "1      118536            118536       308574     118539  \n",
       "2      117879            267952        19721     117880  \n",
       "3      118321            240983       290919     118322  \n",
       "4      119323            123932        19793     119325  "
      ]
     },
     "execution_count": 2,
     "metadata": {},
     "output_type": "execute_result"
    }
   ],
   "source": [
    "df = pd.read_csv('amazon.csv.gz')\n",
    "df.head()\n",
    "# ACTION - это целевой признак"
   ]
  },
  {
   "cell_type": "markdown",
   "metadata": {},
   "source": [
    "Обратим внимание, что выборка не сбалансированная. В качестве метрики качества будем использовть [f1-score](https://en.wikipedia.org/wiki/F1_score). \n",
    "$$F_1 = 2 \\cdot \\frac{\\mathrm{precision} \\cdot \\mathrm{recall}}{\\mathrm{precision} + \\mathrm{recall}}$$\n",
    "\n",
    "$$precision = \\frac{TP}{TP+FP}$$\n",
    "\n",
    "$$recall = \\frac{TP}{TP+FN}$$"
   ]
  },
  {
   "cell_type": "code",
   "execution_count": 3,
   "metadata": {},
   "outputs": [
    {
     "name": "stdout",
     "output_type": "stream",
     "text": [
      "0.9421099209618847\n"
     ]
    },
    {
     "data": {
      "text/plain": [
       "<matplotlib.axes._subplots.AxesSubplot at 0x2223e1f6400>"
      ]
     },
     "execution_count": 3,
     "metadata": {},
     "output_type": "execute_result"
    },
    {
     "data": {
      "image/png": "[encoded data removed]",
      "text/plain": [
       "<Figure size 432x288 with 1 Axes>"
      ]
     },
     "metadata": {
      "needs_background": "light"
     },
     "output_type": "display_data"
    }
   ],
   "source": [
    "print(df['ACTION'].mean())\n",
    "sns.countplot('ACTION', data=df)"
   ]
  },
  {
   "cell_type": "code",
   "execution_count": 4,
   "metadata": {},
   "outputs": [
    {
     "name": "stdout",
     "output_type": "stream",
     "text": [
      "ACTION 2\n",
      "RESOURCE 7518\n",
      "MGR_ID 4243\n",
      "ROLE_ROLLUP_1 128\n",
      "ROLE_ROLLUP_2 177\n",
      "ROLE_DEPTNAME 449\n",
      "ROLE_TITLE 343\n",
      "ROLE_FAMILY_DESC 2358\n",
      "ROLE_FAMILY 67\n",
      "ROLE_CODE 343\n"
     ]
    }
   ],
   "source": [
    "# число значений у признаков\n",
    "for col_name in df.columns:\n",
    "    print(col_name, len(df[col_name].unique()))"
   ]
  },
  {
   "cell_type": "code",
   "execution_count": 5,
   "metadata": {},
   "outputs": [],
   "source": [
    "X = df.drop(['ACTION'], axis=1)\n",
    "y = df['ACTION']\n",
    "X_train, X_test, y_train, y_test = train_test_split(X, y, random_state=42, test_size=0.4)"
   ]
  },
  {
   "cell_type": "markdown",
   "metadata": {},
   "source": [
    "# Baseline\n",
    "\n",
    "Сразу проверим как ведет себя kNN на неподготовленных данных и без тюнинга. Зафиксируйте `n_neighbors=5`, `p=2`. \n",
    "\n",
    "- создайте экземпляр `KNeighborsClassifier` с указанными параметрами, обучите его методов `fit` и предскажите значения `predict` для треничровчных данных `X_test`.\n",
    "- постройте отчет классификации (classification_report)\n",
    "- постройте confusion matrix и нарисуйте heatmap\n",
    "\n",
    "Обратите внимание на confusion matrix. Какой вывод вы можете сделать из неё? Вспомните лекцию и значение ошибок 1 и 2 рода."
   ]
  },
  {
   "cell_type": "code",
   "execution_count": 6,
   "metadata": {},
   "outputs": [
    {
     "name": "stdout",
     "output_type": "stream",
     "text": [
      "             precision    recall  f1-score   support\n",
      "\n",
      "          0       0.32      0.07      0.12       750\n",
      "          1       0.95      0.99      0.97     12358\n",
      "\n",
      "avg / total       0.91      0.94      0.92     13108\n",
      "\n"
     ]
    }
   ],
   "source": [
    "knn = KNeighborsClassifier(n_neighbors=5, p=2)\n",
    "knn.fit(X_train, y_train)\n",
    "y_pred = knn.predict(X_test)\n",
    "print(classification_report(y_test, y_pred))"
   ]
  },
  {
   "cell_type": "code",
   "execution_count": 7,
   "metadata": {},
   "outputs": [
    {
     "data": {
      "text/plain": [
       "(53, 697, 113, 12245)"
      ]
     },
     "execution_count": 7,
     "metadata": {},
     "output_type": "execute_result"
    }
   ],
   "source": [
    "tn, fp, fn, tp = confusion_matrix(y_test, y_pred).ravel() \n",
    "tn, fp, fn, tp"
   ]
  },
  {
   "cell_type": "code",
   "execution_count": null,
   "metadata": {},
   "outputs": [],
   "source": []
  },
  {
   "cell_type": "code",
   "execution_count": 8,
   "metadata": {},
   "outputs": [
    {
     "data": {
      "text/plain": [
       "<matplotlib.axes._subplots.AxesSubplot at 0x2223e56f4a8>"
      ]
     },
     "execution_count": 8,
     "metadata": {},
     "output_type": "execute_result"
    },
    {
     "data": {
      "image/png": "[encoded data removed]",
      "text/plain": [
       "<Figure size 432x288 with 2 Axes>"
      ]
     },
     "metadata": {
      "needs_background": "light"
     },
     "output_type": "display_data"
    }
   ],
   "source": [
    "sns.heatmap(confusion_matrix(y_test, y_pred), annot=True, fmt=\"d\")"
   ]
  },
  {
   "cell_type": "markdown",
   "metadata": {},
   "source": [
    "При фиксированном `n_neighbors=10` проверьте значение метрики на кроссвалидации на 5-фолдах для разных значений `p` из `(1,2,4,6)`. При каком значение `p` метрика достигает максимума?\n",
    "\n",
    "При кроссвалидации у вас будет получаться N разных значений метрики. Выводите среднее значение и стандартное отклонение."
   ]
  },
  {
   "cell_type": "code",
   "execution_count": 9,
   "metadata": {},
   "outputs": [
    {
     "name": "stdout",
     "output_type": "stream",
     "text": [
      "1\n",
      "             precision    recall  f1-score   support\n",
      "\n",
      "          0       0.30      0.03      0.06       750\n",
      "          1       0.94      1.00      0.97     12358\n",
      "\n",
      "avg / total       0.91      0.94      0.92     13108\n",
      "\n",
      "[0.94004577 0.94263921 0.93987487 0.93941706 0.93987487]\n",
      "Среднее: 0.94037 \n",
      "Стандартное отклонение?: 0.00230700 \n",
      "2\n",
      "             precision    recall  f1-score   support\n",
      "\n",
      "          0       0.25      0.03      0.05       750\n",
      "          1       0.94      0.99      0.97     12358\n",
      "\n",
      "avg / total       0.90      0.94      0.92     13108\n",
      "\n",
      "[0.94035088 0.94035088 0.94002747 0.93850145 0.93972226]\n",
      "Среднее: 0.93979 \n",
      "Стандартное отклонение?: 0.00137128 \n",
      "4\n",
      "             precision    recall  f1-score   support\n",
      "\n",
      "          0       0.27      0.03      0.05       750\n",
      "          1       0.94      1.00      0.97     12358\n",
      "\n",
      "avg / total       0.91      0.94      0.92     13108\n",
      "\n",
      "[0.94065599 0.94111365 0.94048527 0.93880665 0.93926446]\n",
      "Среднее: 0.94007 \n",
      "Стандартное отклонение?: 0.00175496 \n",
      "6\n",
      "             precision    recall  f1-score   support\n",
      "\n",
      "          0       0.29      0.03      0.05       750\n",
      "          1       0.94      1.00      0.97     12358\n",
      "\n",
      "avg / total       0.91      0.94      0.92     13108\n",
      "\n",
      "[0.94050343 0.94080854 0.94079048 0.93911186 0.93895926]\n",
      "Среднее: 0.94003 \n",
      "Стандартное отклонение?: 0.00164875 \n"
     ]
    }
   ],
   "source": [
    "p = [1, 2, 4, 6]\n",
    "\n",
    "for i in p:    \n",
    "    print(i)\n",
    "    knn = KNeighborsClassifier(n_neighbors=10, p=i)\n",
    "    knn.fit(X_train, y_train)\n",
    "    y_pred = knn.predict(X_test)\n",
    "    print(classification_report(y_test, y_pred))\n",
    "    scores = cross_val_score(knn, X, y, cv=5) \n",
    "    print(scores)\n",
    "    print(\"Среднее: %0.5f \" % (scores.mean()))\n",
    "    print(\"Стандартное отклонение?: %0.8f \" % (scores.std() * 2))"
   ]
  },
  {
   "cell_type": "markdown",
   "metadata": {},
   "source": [
    "# Счетчики\n",
    "\n",
    "Очевидно, что предсказывать лейбл объекта, используя при этом метрический алгоритм на категориальных признаках - это ОЧЕНЬ странная затея. Не удивительно что качество ужасное. Необходимо каким-то образом заменить категориальные признаки вещественными:\n",
    "\n",
    "- OneHotEncoding - это когда для каждого признака создают другие N бинарных признаков, где N - это количество категорий у категориального признака.\n",
    "- Счетчики - об это написано в статье http://blogs.technet.com/b/machinelearning/archive/2015/02/17/big-learning-made-easy-with-counts.aspx.\n",
    "\n",
    "Мы реализуем алгоритм Счетчиков. Его нет в sklearn, поэтому придется реализовать самому. \n",
    "\n",
    "Для каждого категориального признака создайте 3 других признака:\n",
    "1. Число `counts` объектов в обучающей выборке с таким же значением признака.\n",
    "2. Число `successes` объектов первого класса ($y = 1$) в обучающей выборке с таким же значением признака.\n",
    "3. Сглаженное отношение двух предыдущих величин: (`successes` + 1) / (`counts` + 2).\n",
    "\n",
    "Поскольку признаки, содержащие информацию о целевой переменной, могут привести к переобучению, может оказаться полезным сделать *фолдинг*: разбить обучающую выборку на $n$ частей, и для $i$-й части считать `counts` и `successes` по всем остальным частям. Для тестовой выборки используются счетчики, посчитанные по всей обучающей выборке. Реализуйте и такой вариант. Можно использовать $n = 3$.\n",
    "\n",
    "Обучение надо проводить только по новым признакам. Изначальные мы не используем.\n",
    "\n",
    "Подсказка - вам нужно для каждой колонки посчитать 2 аггрегации - сумму и количество. Для заменя конкретного значения посчитанным используйте функцию apply над датафреймом. Простое решение займет около 10 строк кода."
   ]
  },
  {
   "cell_type": "markdown",
   "metadata": {},
   "source": [
    "![](http://images6.fanpop.com/image/photos/38600000/taiga-iamyourenemy-38620719-282-160.gif)"
   ]
  },
  {
   "cell_type": "code",
   "execution_count": 10,
   "metadata": {},
   "outputs": [],
   "source": [
    "data = pd.DataFrame(index=df.index)\n",
    "for col_name in df.columns:\n",
    "    if col_name == 'ACTION':\n",
    "        continue\n",
    "    counts = df.groupby(col_name).count()['ACTION']\n",
    "    successes = df.groupby(col_name).sum()['ACTION']\n",
    "    data[col_name + '_counts'] = df[col_name].apply(lambda x: counts[x])\n",
    "    data[col_name + '_successes'] = df[col_name].apply(lambda x: successes[x])\n",
    "    data[col_name + '_delta'] = df[col_name].apply(lambda x: (successes[x] + 1)/(counts[x] + 2))\n",
    "    # ТУТ ВАШ КОД"
   ]
  },
  {
   "cell_type": "markdown",
   "metadata": {},
   "source": [
    "Проверьте какое качество теперь получается на кроссвалидации для новых данных."
   ]
  },
  {
   "cell_type": "code",
   "execution_count": 11,
   "metadata": {},
   "outputs": [
    {
     "data": {
      "text/html": [
       "<div>\n",
       "<style scoped>\n",
       "    .dataframe tbody tr th:only-of-type {\n",
       "        vertical-align: middle;\n",
       "    }\n",
       "\n",
       "    .dataframe tbody tr th {\n",
       "        vertical-align: top;\n",
       "    }\n",
       "\n",
       "    .dataframe thead th {\n",
       "        text-align: right;\n",
       "    }\n",
       "</style>\n",
       "<table border=\"1\" class=\"dataframe\">\n",
       "  <thead>\n",
       "    <tr style=\"text-align: right;\">\n",
       "      <th></th>\n",
       "      <th>RESOURCE_counts</th>\n",
       "      <th>RESOURCE_successes</th>\n",
       "      <th>RESOURCE_delta</th>\n",
       "      <th>MGR_ID_counts</th>\n",
       "      <th>MGR_ID_successes</th>\n",
       "      <th>MGR_ID_delta</th>\n",
       "      <th>ROLE_ROLLUP_1_counts</th>\n",
       "      <th>ROLE_ROLLUP_1_successes</th>\n",
       "      <th>ROLE_ROLLUP_1_delta</th>\n",
       "      <th>ROLE_ROLLUP_2_counts</th>\n",
       "      <th>...</th>\n",
       "      <th>ROLE_TITLE_delta</th>\n",
       "      <th>ROLE_FAMILY_DESC_counts</th>\n",
       "      <th>ROLE_FAMILY_DESC_successes</th>\n",
       "      <th>ROLE_FAMILY_DESC_delta</th>\n",
       "      <th>ROLE_FAMILY_counts</th>\n",
       "      <th>ROLE_FAMILY_successes</th>\n",
       "      <th>ROLE_FAMILY_delta</th>\n",
       "      <th>ROLE_CODE_counts</th>\n",
       "      <th>ROLE_CODE_successes</th>\n",
       "      <th>ROLE_CODE_delta</th>\n",
       "    </tr>\n",
       "  </thead>\n",
       "  <tbody>\n",
       "    <tr>\n",
       "      <th>0</th>\n",
       "      <td>3</td>\n",
       "      <td>3</td>\n",
       "      <td>0.800000</td>\n",
       "      <td>55</td>\n",
       "      <td>55</td>\n",
       "      <td>0.982456</td>\n",
       "      <td>21407</td>\n",
       "      <td>20320</td>\n",
       "      <td>0.949180</td>\n",
       "      <td>4424</td>\n",
       "      <td>...</td>\n",
       "      <td>0.967364</td>\n",
       "      <td>6896</td>\n",
       "      <td>6437</td>\n",
       "      <td>0.933314</td>\n",
       "      <td>10980</td>\n",
       "      <td>10347</td>\n",
       "      <td>0.942269</td>\n",
       "      <td>3583</td>\n",
       "      <td>3467</td>\n",
       "      <td>0.967364</td>\n",
       "    </tr>\n",
       "    <tr>\n",
       "      <th>1</th>\n",
       "      <td>30</td>\n",
       "      <td>29</td>\n",
       "      <td>0.937500</td>\n",
       "      <td>10</td>\n",
       "      <td>10</td>\n",
       "      <td>0.916667</td>\n",
       "      <td>21407</td>\n",
       "      <td>20320</td>\n",
       "      <td>0.949180</td>\n",
       "      <td>3945</td>\n",
       "      <td>...</td>\n",
       "      <td>0.951807</td>\n",
       "      <td>12</td>\n",
       "      <td>12</td>\n",
       "      <td>0.928571</td>\n",
       "      <td>1287</td>\n",
       "      <td>1220</td>\n",
       "      <td>0.947246</td>\n",
       "      <td>81</td>\n",
       "      <td>78</td>\n",
       "      <td>0.951807</td>\n",
       "    </tr>\n",
       "    <tr>\n",
       "      <th>2</th>\n",
       "      <td>2</td>\n",
       "      <td>2</td>\n",
       "      <td>0.750000</td>\n",
       "      <td>3</td>\n",
       "      <td>3</td>\n",
       "      <td>0.800000</td>\n",
       "      <td>184</td>\n",
       "      <td>169</td>\n",
       "      <td>0.913978</td>\n",
       "      <td>184</td>\n",
       "      <td>...</td>\n",
       "      <td>0.888712</td>\n",
       "      <td>33</td>\n",
       "      <td>31</td>\n",
       "      <td>0.914286</td>\n",
       "      <td>2636</td>\n",
       "      <td>2393</td>\n",
       "      <td>0.907506</td>\n",
       "      <td>1256</td>\n",
       "      <td>1117</td>\n",
       "      <td>0.888712</td>\n",
       "    </tr>\n",
       "    <tr>\n",
       "      <th>3</th>\n",
       "      <td>1</td>\n",
       "      <td>1</td>\n",
       "      <td>0.666667</td>\n",
       "      <td>62</td>\n",
       "      <td>62</td>\n",
       "      <td>0.984375</td>\n",
       "      <td>21407</td>\n",
       "      <td>20320</td>\n",
       "      <td>0.949180</td>\n",
       "      <td>3945</td>\n",
       "      <td>...</td>\n",
       "      <td>0.920232</td>\n",
       "      <td>1244</td>\n",
       "      <td>1189</td>\n",
       "      <td>0.955056</td>\n",
       "      <td>10980</td>\n",
       "      <td>10347</td>\n",
       "      <td>0.942269</td>\n",
       "      <td>4649</td>\n",
       "      <td>4279</td>\n",
       "      <td>0.920232</td>\n",
       "    </tr>\n",
       "    <tr>\n",
       "      <th>4</th>\n",
       "      <td>8</td>\n",
       "      <td>8</td>\n",
       "      <td>0.900000</td>\n",
       "      <td>9</td>\n",
       "      <td>9</td>\n",
       "      <td>0.909091</td>\n",
       "      <td>276</td>\n",
       "      <td>257</td>\n",
       "      <td>0.928058</td>\n",
       "      <td>138</td>\n",
       "      <td>...</td>\n",
       "      <td>0.857143</td>\n",
       "      <td>19</td>\n",
       "      <td>18</td>\n",
       "      <td>0.904762</td>\n",
       "      <td>362</td>\n",
       "      <td>303</td>\n",
       "      <td>0.835165</td>\n",
       "      <td>75</td>\n",
       "      <td>65</td>\n",
       "      <td>0.857143</td>\n",
       "    </tr>\n",
       "  </tbody>\n",
       "</table>\n",
       "<p>5 rows × 27 columns</p>\n",
       "</div>"
      ],
      "text/plain": [
       "   RESOURCE_counts  RESOURCE_successes  RESOURCE_delta  MGR_ID_counts  \\\n",
       "0                3                   3        0.800000             55   \n",
       "1               30                  29        0.937500             10   \n",
       "2                2                   2        0.750000              3   \n",
       "3                1                   1        0.666667             62   \n",
       "4                8                   8        0.900000              9   \n",
       "\n",
       "   MGR_ID_successes  MGR_ID_delta  ROLE_ROLLUP_1_counts  \\\n",
       "0                55      0.982456                 21407   \n",
       "1                10      0.916667                 21407   \n",
       "2                 3      0.800000                   184   \n",
       "3                62      0.984375                 21407   \n",
       "4                 9      0.909091                   276   \n",
       "\n",
       "   ROLE_ROLLUP_1_successes  ROLE_ROLLUP_1_delta  ROLE_ROLLUP_2_counts  \\\n",
       "0                    20320             0.949180                  4424   \n",
       "1                    20320             0.949180                  3945   \n",
       "2                      169             0.913978                   184   \n",
       "3                    20320             0.949180                  3945   \n",
       "4                      257             0.928058                   138   \n",
       "\n",
       "        ...         ROLE_TITLE_delta  ROLE_FAMILY_DESC_counts  \\\n",
       "0       ...                 0.967364                     6896   \n",
       "1       ...                 0.951807                       12   \n",
       "2       ...                 0.888712                       33   \n",
       "3       ...                 0.920232                     1244   \n",
       "4       ...                 0.857143                       19   \n",
       "\n",
       "   ROLE_FAMILY_DESC_successes  ROLE_FAMILY_DESC_delta  ROLE_FAMILY_counts  \\\n",
       "0                        6437                0.933314               10980   \n",
       "1                          12                0.928571                1287   \n",
       "2                          31                0.914286                2636   \n",
       "3                        1189                0.955056               10980   \n",
       "4                          18                0.904762                 362   \n",
       "\n",
       "   ROLE_FAMILY_successes  ROLE_FAMILY_delta  ROLE_CODE_counts  \\\n",
       "0                  10347           0.942269              3583   \n",
       "1                   1220           0.947246                81   \n",
       "2                   2393           0.907506              1256   \n",
       "3                  10347           0.942269              4649   \n",
       "4                    303           0.835165                75   \n",
       "\n",
       "   ROLE_CODE_successes  ROLE_CODE_delta  \n",
       "0                 3467         0.967364  \n",
       "1                   78         0.951807  \n",
       "2                 1117         0.888712  \n",
       "3                 4279         0.920232  \n",
       "4                   65         0.857143  \n",
       "\n",
       "[5 rows x 27 columns]"
      ]
     },
     "execution_count": 11,
     "metadata": {},
     "output_type": "execute_result"
    }
   ],
   "source": [
    "data.head()"
   ]
  },
  {
   "cell_type": "code",
   "execution_count": 12,
   "metadata": {},
   "outputs": [
    {
     "name": "stdout",
     "output_type": "stream",
     "text": [
      "             precision    recall  f1-score   support\n",
      "\n",
      "          0       0.50      0.18      0.26       750\n",
      "          1       0.95      0.99      0.97     12358\n",
      "\n",
      "avg / total       0.93      0.94      0.93     13108\n",
      "\n",
      "[0.94035088 0.94035088 0.94002747 0.93850145 0.93972226]\n",
      "Среднее: 0.93979 \n",
      "Стандартное отклонение: 0.00068564 \n"
     ]
    }
   ],
   "source": [
    "\n",
    "X_train, X_test, y_train, y_test = train_test_split(data, y, random_state=42, test_size=0.4)\n",
    "\n",
    "knn = KNeighborsClassifier(n_neighbors=10)\n",
    "knn.fit(X_train, y_train)\n",
    "y_pred = knn.predict(X_test)\n",
    "print(classification_report(y_test, y_pred))\n",
    "scores = cross_val_score(knn, X, y, cv=5) \n",
    "print(scores)\n",
    "print(\"Среднее: %0.5f \" % (scores.mean()))\n",
    "print(\"Стандартное отклонение: %0.8f \" % scores.std())"
   ]
  },
  {
   "cell_type": "markdown",
   "metadata": {},
   "source": [
    "- постройте отчет классификации (classification_report)\n",
    "- постройте confusion matrix и нарисуйте heatmap\n",
    "\n",
    "Оцените на сколько улучшилось качество."
   ]
  },
  {
   "cell_type": "code",
   "execution_count": 13,
   "metadata": {},
   "outputs": [
    {
     "data": {
      "text/plain": [
       "<matplotlib.axes._subplots.AxesSubplot at 0x2223edf5f60>"
      ]
     },
     "execution_count": 13,
     "metadata": {},
     "output_type": "execute_result"
    },
    {
     "data": {
      "image/png": "[encoded data removed]",
      "text/plain": [
       "<Figure size 432x288 with 2 Axes>"
      ]
     },
     "metadata": {
      "needs_background": "light"
     },
     "output_type": "display_data"
    }
   ],
   "source": [
    "sns.heatmap(confusion_matrix(y_test, y_pred), annot=True, fmt=\"d\")"
   ]
  },
  {
   "cell_type": "markdown",
   "metadata": {},
   "source": [
    "# Co-co-co-combo\n",
    "\n",
    "Добавьте в исходную выборку парные признаки — то есть для каждой пары $(f_i, f_j)$, $i < j$ исходных категориальных признаков добавьте новый категориальный признак $f_{ij}$, значение которого является конкатенацией значений $f_i$ и $f_j$ (желательно через какой-нибудь специальный символ во избежание коллизий). Посчитайте счетчики для этой выборки, найдите качество метода $k$ ближайших соседей с наилучшим $k$ (с фолдингом и без)."
   ]
  },
  {
   "cell_type": "code",
   "execution_count": 14,
   "metadata": {},
   "outputs": [],
   "source": [
    "df_combo = df.copy()\n",
    "for col_name_1 in df.columns:\n",
    "    if col_name_1 == 'ACTION':\n",
    "        continue\n",
    "    for col_name_2 in df.columns:\n",
    "        if col_name_2 == 'ACTION':\n",
    "            continue\n",
    "        df_combo[col_name_1 + \"_\" + col_name_2] = df[col_name_1].astype(str) + '_' + df[col_name_2].astype(str)\n",
    "# ТУТ ВАШ КОД"
   ]
  },
  {
   "cell_type": "code",
   "execution_count": 15,
   "metadata": {},
   "outputs": [
    {
     "data": {
      "text/html": [
       "<div>\n",
       "<style scoped>\n",
       "    .dataframe tbody tr th:only-of-type {\n",
       "        vertical-align: middle;\n",
       "    }\n",
       "\n",
       "    .dataframe tbody tr th {\n",
       "        vertical-align: top;\n",
       "    }\n",
       "\n",
       "    .dataframe thead th {\n",
       "        text-align: right;\n",
       "    }\n",
       "</style>\n",
       "<table border=\"1\" class=\"dataframe\">\n",
       "  <thead>\n",
       "    <tr style=\"text-align: right;\">\n",
       "      <th></th>\n",
       "      <th>ACTION</th>\n",
       "      <th>RESOURCE</th>\n",
       "      <th>MGR_ID</th>\n",
       "      <th>ROLE_ROLLUP_1</th>\n",
       "      <th>ROLE_ROLLUP_2</th>\n",
       "      <th>ROLE_DEPTNAME</th>\n",
       "      <th>ROLE_TITLE</th>\n",
       "      <th>ROLE_FAMILY_DESC</th>\n",
       "      <th>ROLE_FAMILY</th>\n",
       "      <th>ROLE_CODE</th>\n",
       "      <th>...</th>\n",
       "      <th>ROLE_FAMILY_ROLE_CODE</th>\n",
       "      <th>ROLE_CODE_RESOURCE</th>\n",
       "      <th>ROLE_CODE_MGR_ID</th>\n",
       "      <th>ROLE_CODE_ROLE_ROLLUP_1</th>\n",
       "      <th>ROLE_CODE_ROLE_ROLLUP_2</th>\n",
       "      <th>ROLE_CODE_ROLE_DEPTNAME</th>\n",
       "      <th>ROLE_CODE_ROLE_TITLE</th>\n",
       "      <th>ROLE_CODE_ROLE_FAMILY_DESC</th>\n",
       "      <th>ROLE_CODE_ROLE_FAMILY</th>\n",
       "      <th>ROLE_CODE_ROLE_CODE</th>\n",
       "    </tr>\n",
       "  </thead>\n",
       "  <tbody>\n",
       "    <tr>\n",
       "      <th>0</th>\n",
       "      <td>1</td>\n",
       "      <td>39353</td>\n",
       "      <td>85475</td>\n",
       "      <td>117961</td>\n",
       "      <td>118300</td>\n",
       "      <td>123472</td>\n",
       "      <td>117905</td>\n",
       "      <td>117906</td>\n",
       "      <td>290919</td>\n",
       "      <td>117908</td>\n",
       "      <td>...</td>\n",
       "      <td>290919_117908</td>\n",
       "      <td>117908_39353</td>\n",
       "      <td>117908_85475</td>\n",
       "      <td>117908_117961</td>\n",
       "      <td>117908_118300</td>\n",
       "      <td>117908_123472</td>\n",
       "      <td>117908_117905</td>\n",
       "      <td>117908_117906</td>\n",
       "      <td>117908_290919</td>\n",
       "      <td>117908_117908</td>\n",
       "    </tr>\n",
       "    <tr>\n",
       "      <th>1</th>\n",
       "      <td>1</td>\n",
       "      <td>17183</td>\n",
       "      <td>1540</td>\n",
       "      <td>117961</td>\n",
       "      <td>118343</td>\n",
       "      <td>123125</td>\n",
       "      <td>118536</td>\n",
       "      <td>118536</td>\n",
       "      <td>308574</td>\n",
       "      <td>118539</td>\n",
       "      <td>...</td>\n",
       "      <td>308574_118539</td>\n",
       "      <td>118539_17183</td>\n",
       "      <td>118539_1540</td>\n",
       "      <td>118539_117961</td>\n",
       "      <td>118539_118343</td>\n",
       "      <td>118539_123125</td>\n",
       "      <td>118539_118536</td>\n",
       "      <td>118539_118536</td>\n",
       "      <td>118539_308574</td>\n",
       "      <td>118539_118539</td>\n",
       "    </tr>\n",
       "    <tr>\n",
       "      <th>2</th>\n",
       "      <td>1</td>\n",
       "      <td>36724</td>\n",
       "      <td>14457</td>\n",
       "      <td>118219</td>\n",
       "      <td>118220</td>\n",
       "      <td>117884</td>\n",
       "      <td>117879</td>\n",
       "      <td>267952</td>\n",
       "      <td>19721</td>\n",
       "      <td>117880</td>\n",
       "      <td>...</td>\n",
       "      <td>19721_117880</td>\n",
       "      <td>117880_36724</td>\n",
       "      <td>117880_14457</td>\n",
       "      <td>117880_118219</td>\n",
       "      <td>117880_118220</td>\n",
       "      <td>117880_117884</td>\n",
       "      <td>117880_117879</td>\n",
       "      <td>117880_267952</td>\n",
       "      <td>117880_19721</td>\n",
       "      <td>117880_117880</td>\n",
       "    </tr>\n",
       "    <tr>\n",
       "      <th>3</th>\n",
       "      <td>1</td>\n",
       "      <td>36135</td>\n",
       "      <td>5396</td>\n",
       "      <td>117961</td>\n",
       "      <td>118343</td>\n",
       "      <td>119993</td>\n",
       "      <td>118321</td>\n",
       "      <td>240983</td>\n",
       "      <td>290919</td>\n",
       "      <td>118322</td>\n",
       "      <td>...</td>\n",
       "      <td>290919_118322</td>\n",
       "      <td>118322_36135</td>\n",
       "      <td>118322_5396</td>\n",
       "      <td>118322_117961</td>\n",
       "      <td>118322_118343</td>\n",
       "      <td>118322_119993</td>\n",
       "      <td>118322_118321</td>\n",
       "      <td>118322_240983</td>\n",
       "      <td>118322_290919</td>\n",
       "      <td>118322_118322</td>\n",
       "    </tr>\n",
       "    <tr>\n",
       "      <th>4</th>\n",
       "      <td>1</td>\n",
       "      <td>42680</td>\n",
       "      <td>5905</td>\n",
       "      <td>117929</td>\n",
       "      <td>117930</td>\n",
       "      <td>119569</td>\n",
       "      <td>119323</td>\n",
       "      <td>123932</td>\n",
       "      <td>19793</td>\n",
       "      <td>119325</td>\n",
       "      <td>...</td>\n",
       "      <td>19793_119325</td>\n",
       "      <td>119325_42680</td>\n",
       "      <td>119325_5905</td>\n",
       "      <td>119325_117929</td>\n",
       "      <td>119325_117930</td>\n",
       "      <td>119325_119569</td>\n",
       "      <td>119325_119323</td>\n",
       "      <td>119325_123932</td>\n",
       "      <td>119325_19793</td>\n",
       "      <td>119325_119325</td>\n",
       "    </tr>\n",
       "  </tbody>\n",
       "</table>\n",
       "<p>5 rows × 91 columns</p>\n",
       "</div>"
      ],
      "text/plain": [
       "   ACTION  RESOURCE  MGR_ID  ROLE_ROLLUP_1  ROLE_ROLLUP_2  ROLE_DEPTNAME  \\\n",
       "0       1     39353   85475         117961         118300         123472   \n",
       "1       1     17183    1540         117961         118343         123125   \n",
       "2       1     36724   14457         118219         118220         117884   \n",
       "3       1     36135    5396         117961         118343         119993   \n",
       "4       1     42680    5905         117929         117930         119569   \n",
       "\n",
       "   ROLE_TITLE  ROLE_FAMILY_DESC  ROLE_FAMILY  ROLE_CODE         ...          \\\n",
       "0      117905            117906       290919     117908         ...           \n",
       "1      118536            118536       308574     118539         ...           \n",
       "2      117879            267952        19721     117880         ...           \n",
       "3      118321            240983       290919     118322         ...           \n",
       "4      119323            123932        19793     119325         ...           \n",
       "\n",
       "  ROLE_FAMILY_ROLE_CODE ROLE_CODE_RESOURCE ROLE_CODE_MGR_ID  \\\n",
       "0         290919_117908       117908_39353     117908_85475   \n",
       "1         308574_118539       118539_17183      118539_1540   \n",
       "2          19721_117880       117880_36724     117880_14457   \n",
       "3         290919_118322       118322_36135      118322_5396   \n",
       "4          19793_119325       119325_42680      119325_5905   \n",
       "\n",
       "  ROLE_CODE_ROLE_ROLLUP_1 ROLE_CODE_ROLE_ROLLUP_2 ROLE_CODE_ROLE_DEPTNAME  \\\n",
       "0           117908_117961           117908_118300           117908_123472   \n",
       "1           118539_117961           118539_118343           118539_123125   \n",
       "2           117880_118219           117880_118220           117880_117884   \n",
       "3           118322_117961           118322_118343           118322_119993   \n",
       "4           119325_117929           119325_117930           119325_119569   \n",
       "\n",
       "  ROLE_CODE_ROLE_TITLE ROLE_CODE_ROLE_FAMILY_DESC ROLE_CODE_ROLE_FAMILY  \\\n",
       "0        117908_117905              117908_117906         117908_290919   \n",
       "1        118539_118536              118539_118536         118539_308574   \n",
       "2        117880_117879              117880_267952          117880_19721   \n",
       "3        118322_118321              118322_240983         118322_290919   \n",
       "4        119325_119323              119325_123932          119325_19793   \n",
       "\n",
       "  ROLE_CODE_ROLE_CODE  \n",
       "0       117908_117908  \n",
       "1       118539_118539  \n",
       "2       117880_117880  \n",
       "3       118322_118322  \n",
       "4       119325_119325  \n",
       "\n",
       "[5 rows x 91 columns]"
      ]
     },
     "execution_count": 15,
     "metadata": {},
     "output_type": "execute_result"
    }
   ],
   "source": [
    "df_combo.head()"
   ]
  },
  {
   "cell_type": "code",
   "execution_count": 16,
   "metadata": {},
   "outputs": [],
   "source": [
    "data_combo = pd.DataFrame(index=df_combo.index)\n",
    "for col_name in df_combo.columns:\n",
    "    if col_name == 'ACTION':\n",
    "        continue\n",
    "    counts = df_combo.groupby(col_name).count()['ACTION']\n",
    "    successes = df_combo.groupby(col_name).sum()['ACTION']\n",
    "    data_combo[col_name + '_counts'] = df_combo[col_name].apply(lambda x: counts[x])\n",
    "    data_combo[col_name + '_successes'] = df_combo[col_name].apply(lambda x: successes[x])\n",
    "    data_combo[col_name + '_delta'] = df_combo[col_name].apply(lambda x: (successes[x] + 1)/(counts[x] + 2))\n",
    "    # тут ваш код"
   ]
  },
  {
   "cell_type": "markdown",
   "metadata": {},
   "source": [
    "- постройте отчет классификации (classification_report)\n",
    "- постройте confusion matrix и нарисуйте heatmap\n",
    "\n",
    "Оцените на сколько улучшилось качество. Не похоже ли это на переобусение?\n",
    "\n",
    "Внимание! Обучение на этом этапе может быть долгим. На i5 16GB кроссвалидация на 5 фолдах заняла 30 минут!"
   ]
  },
  {
   "cell_type": "code",
   "execution_count": 17,
   "metadata": {},
   "outputs": [
    {
     "name": "stdout",
     "output_type": "stream",
     "text": [
      "             precision    recall  f1-score   support\n",
      "\n",
      "          0       0.50      0.19      0.27       750\n",
      "          1       0.95      0.99      0.97     12358\n",
      "\n",
      "avg / total       0.93      0.94      0.93     13108\n",
      "\n",
      "[0.94035088 0.94035088 0.94002747 0.93850145 0.93972226]\n",
      "Среднее: 0.93979 \n",
      "Стандартное отклонение: 0.00068564 \n"
     ]
    },
    {
     "data": {
      "text/plain": [
       "<matplotlib.axes._subplots.AxesSubplot at 0x222418ede10>"
      ]
     },
     "execution_count": 17,
     "metadata": {},
     "output_type": "execute_result"
    },
    {
     "data": {
      "image/png": "[encoded data removed]",
      "text/plain": [
       "<Figure size 432x288 with 2 Axes>"
      ]
     },
     "metadata": {
      "needs_background": "light"
     },
     "output_type": "display_data"
    }
   ],
   "source": [
    "X_train, X_test, y_train, y_test = train_test_split(data_combo, y, random_state=42, test_size=0.4)\n",
    "\n",
    "knn = KNeighborsClassifier(n_neighbors=10)\n",
    "knn.fit(X_train, y_train)\n",
    "y_pred = knn.predict(X_test)\n",
    "print(classification_report(y_test, y_pred))\n",
    "scores = cross_val_score(knn, X, y, cv=5) \n",
    "print(scores)\n",
    "print(\"Среднее: %0.5f \" % (scores.mean()))\n",
    "print(\"Стандартное отклонение: %0.8f \" % scores.std())\n",
    "sns.heatmap(confusion_matrix(y_test, y_pred), annot=True, fmt=\"d\")"
   ]
  },
  {
   "cell_type": "markdown",
   "metadata": {},
   "source": [
    "# Дополнительное задание\n",
    "\n",
    "Для тех, кто хочет поставить точку в рекомендательных системах.\n",
    "\n",
    "### Рекомендательная система и kNN\n",
    "\n",
    "В прошлый раз мы использовали kMeans, тоже метрический алгоритм, но кластеризации, для построения \"рекомендательной ситсемы\". На самом деле тогда вы строили кластеры жанров/фильмов на основе предпочтений пользователей.  \n",
    "\n",
    "Теперь попробуем kNN для рекомендаций. Мы построим модель, в которой не будет кластеров, но которая сможет выводить список наиболее похожих фильмов для заданного.\n",
    "\n",
    "Подготовка датасета похожа на то, что мы уже делали. Отличаться будет только последний пункт, когда мы запустим kNN с косинусной метрикой.\n",
    "\n",
    "Будем использовать известный нам [датасет с оценками фильмов](http://www.cs.umn.edu/GroupLens). Только в этот раз мы не будем кластеризовывать жанры, а будем рекомендовать похожие фильмы, основываясь на оценках других пользователей. То есть мы будем по факту предсказывать предпочтение нового пользователя на основе других.\n",
    "\n",
    "Для рекомендательной системы в датасете в объектами будут пользователи, а признаками - оценки фильма данным пользователем.\n",
    "\n",
    "![](https://i.imgur.com/hn3xjZl.png)\n",
    "\n",
    "Мы будем использовать метрический алгоритм для поиска ближайших соседей, тем самым рекомендовать фильмы близкие к данному."
   ]
  },
  {
   "cell_type": "code",
   "execution_count": 18,
   "metadata": {},
   "outputs": [],
   "source": [
    "import pandas as pd\n",
    "import numpy as np\n",
    "from matplotlib import pyplot as plt\n",
    "import seaborn as sns\n",
    "%matplotlib inline"
   ]
  },
  {
   "cell_type": "code",
   "execution_count": 20,
   "metadata": {},
   "outputs": [
    {
     "name": "stdout",
     "output_type": "stream",
     "text": [
      "(9125, 2)\n",
      "(100004, 4)\n"
     ]
    }
   ],
   "source": [
    "movies = pd.read_csv('imdb_movies.csv.gz', index_col='movieId')\n",
    "ratings = pd.read_csv('imdb_ratings.csv.gz')\n",
    "\n",
    "print(movies.shape)\n",
    "print(ratings.shape)"
   ]
  },
  {
   "cell_type": "code",
   "execution_count": 21,
   "metadata": {},
   "outputs": [
    {
     "data": {
      "text/html": [
       "<div>\n",
       "<style scoped>\n",
       "    .dataframe tbody tr th:only-of-type {\n",
       "        vertical-align: middle;\n",
       "    }\n",
       "\n",
       "    .dataframe tbody tr th {\n",
       "        vertical-align: top;\n",
       "    }\n",
       "\n",
       "    .dataframe thead th {\n",
       "        text-align: right;\n",
       "    }\n",
       "</style>\n",
       "<table border=\"1\" class=\"dataframe\">\n",
       "  <thead>\n",
       "    <tr style=\"text-align: right;\">\n",
       "      <th></th>\n",
       "      <th>title</th>\n",
       "      <th>genres</th>\n",
       "    </tr>\n",
       "    <tr>\n",
       "      <th>movieId</th>\n",
       "      <th></th>\n",
       "      <th></th>\n",
       "    </tr>\n",
       "  </thead>\n",
       "  <tbody>\n",
       "    <tr>\n",
       "      <th>1</th>\n",
       "      <td>Toy Story (1995)</td>\n",
       "      <td>Adventure|Animation|Children|Comedy|Fantasy</td>\n",
       "    </tr>\n",
       "    <tr>\n",
       "      <th>2</th>\n",
       "      <td>Jumanji (1995)</td>\n",
       "      <td>Adventure|Children|Fantasy</td>\n",
       "    </tr>\n",
       "    <tr>\n",
       "      <th>3</th>\n",
       "      <td>Grumpier Old Men (1995)</td>\n",
       "      <td>Comedy|Romance</td>\n",
       "    </tr>\n",
       "    <tr>\n",
       "      <th>4</th>\n",
       "      <td>Waiting to Exhale (1995)</td>\n",
       "      <td>Comedy|Drama|Romance</td>\n",
       "    </tr>\n",
       "    <tr>\n",
       "      <th>5</th>\n",
       "      <td>Father of the Bride Part II (1995)</td>\n",
       "      <td>Comedy</td>\n",
       "    </tr>\n",
       "  </tbody>\n",
       "</table>\n",
       "</div>"
      ],
      "text/plain": [
       "                                      title  \\\n",
       "movieId                                       \n",
       "1                          Toy Story (1995)   \n",
       "2                            Jumanji (1995)   \n",
       "3                   Grumpier Old Men (1995)   \n",
       "4                  Waiting to Exhale (1995)   \n",
       "5        Father of the Bride Part II (1995)   \n",
       "\n",
       "                                              genres  \n",
       "movieId                                               \n",
       "1        Adventure|Animation|Children|Comedy|Fantasy  \n",
       "2                         Adventure|Children|Fantasy  \n",
       "3                                     Comedy|Romance  \n",
       "4                               Comedy|Drama|Romance  \n",
       "5                                             Comedy  "
      ]
     },
     "execution_count": 21,
     "metadata": {},
     "output_type": "execute_result"
    }
   ],
   "source": [
    "movies.head()"
   ]
  },
  {
   "cell_type": "code",
   "execution_count": 22,
   "metadata": {},
   "outputs": [
    {
     "data": {
      "text/html": [
       "<div>\n",
       "<style scoped>\n",
       "    .dataframe tbody tr th:only-of-type {\n",
       "        vertical-align: middle;\n",
       "    }\n",
       "\n",
       "    .dataframe tbody tr th {\n",
       "        vertical-align: top;\n",
       "    }\n",
       "\n",
       "    .dataframe thead th {\n",
       "        text-align: right;\n",
       "    }\n",
       "</style>\n",
       "<table border=\"1\" class=\"dataframe\">\n",
       "  <thead>\n",
       "    <tr style=\"text-align: right;\">\n",
       "      <th></th>\n",
       "      <th>userId</th>\n",
       "      <th>movieId</th>\n",
       "      <th>rating</th>\n",
       "      <th>timestamp</th>\n",
       "    </tr>\n",
       "  </thead>\n",
       "  <tbody>\n",
       "    <tr>\n",
       "      <th>0</th>\n",
       "      <td>1</td>\n",
       "      <td>31</td>\n",
       "      <td>2.5</td>\n",
       "      <td>1260759144</td>\n",
       "    </tr>\n",
       "    <tr>\n",
       "      <th>1</th>\n",
       "      <td>1</td>\n",
       "      <td>1029</td>\n",
       "      <td>3.0</td>\n",
       "      <td>1260759179</td>\n",
       "    </tr>\n",
       "    <tr>\n",
       "      <th>2</th>\n",
       "      <td>1</td>\n",
       "      <td>1061</td>\n",
       "      <td>3.0</td>\n",
       "      <td>1260759182</td>\n",
       "    </tr>\n",
       "    <tr>\n",
       "      <th>3</th>\n",
       "      <td>1</td>\n",
       "      <td>1129</td>\n",
       "      <td>2.0</td>\n",
       "      <td>1260759185</td>\n",
       "    </tr>\n",
       "    <tr>\n",
       "      <th>4</th>\n",
       "      <td>1</td>\n",
       "      <td>1172</td>\n",
       "      <td>4.0</td>\n",
       "      <td>1260759205</td>\n",
       "    </tr>\n",
       "  </tbody>\n",
       "</table>\n",
       "</div>"
      ],
      "text/plain": [
       "   userId  movieId  rating   timestamp\n",
       "0       1       31     2.5  1260759144\n",
       "1       1     1029     3.0  1260759179\n",
       "2       1     1061     3.0  1260759182\n",
       "3       1     1129     2.0  1260759185\n",
       "4       1     1172     4.0  1260759205"
      ]
     },
     "execution_count": 22,
     "metadata": {},
     "output_type": "execute_result"
    }
   ],
   "source": [
    "ratings.head()"
   ]
  },
  {
   "cell_type": "markdown",
   "metadata": {},
   "source": [
    "### 1.1 Поиск популярных фильмов (3 балла)\n",
    "\n",
    "Среди всех фильмов есть не популярные, для которых выставлена 1-2 оценки. Такого количества данных не достаточно, поэтому нужно срезать много фильмов с маленьким числом отзывов.\n",
    "\n",
    "Посчтитайте количество оценок для каждого фильма."
   ]
  },
  {
   "cell_type": "code",
   "execution_count": 88,
   "metadata": {},
   "outputs": [
    {
     "data": {
      "text/plain": [
       "(9066, 1)"
      ]
     },
     "execution_count": 88,
     "metadata": {},
     "output_type": "execute_result"
    }
   ],
   "source": [
    "counts = pd.DataFrame(index=ratings['movieId'].unique(), data=ratings['movieId'].value_counts())\n",
    "counts = counts.rename(columns={\"movieId\": \"count\"})\n",
    "counts.shape"
   ]
  },
  {
   "cell_type": "code",
   "execution_count": 89,
   "metadata": {},
   "outputs": [
    {
     "data": {
      "text/plain": [
       "<matplotlib.axes._subplots.AxesSubplot at 0x222503aa4e0>"
      ]
     },
     "execution_count": 89,
     "metadata": {},
     "output_type": "execute_result"
    },
    {
     "data": {
      "image/png": "[encoded data removed]",
      "text/plain": [
       "<Figure size 432x288 with 1 Axes>"
      ]
     },
     "metadata": {
      "needs_background": "light"
     },
     "output_type": "display_data"
    }
   ],
   "source": [
    "sns.countplot(ratings['rating'])"
   ]
  },
  {
   "cell_type": "markdown",
   "metadata": {},
   "source": [
    "Выведите сводную статистику по количеству оценок фильмов. (общее число фильмов, среднее количество оценок, дисперсию, квантили)"
   ]
  },
  {
   "cell_type": "code",
   "execution_count": 90,
   "metadata": {},
   "outputs": [
    {
     "name": "stdout",
     "output_type": "stream",
     "text": [
      "9066\n",
      "3.543608255669773\n",
      "10000.4\n",
      "11.030664019413193\n",
      "578.3771757558574\n",
      "9.0\n"
     ]
    }
   ],
   "source": [
    "print(counts.shape[0]) #общее число фильмов\n",
    "print(ratings['rating'].mean()) #среднее оценок\n",
    "print(ratings['rating'].value_counts().mean()) #среднее количество оценок\n",
    "print(counts['count'].mean()) #среднее количество оценок\n",
    "print(np.var(counts.values)) #дисперсия\n",
    "print(counts['count'].quantile(0.75)) #квантили"
   ]
  },
  {
   "cell_type": "markdown",
   "metadata": {},
   "source": [
    "Как мы видим `75%` квантиль показывет, что `75%` фильмов имело очень мало оценок. Нам столько будет недостаточно. Посчтитайте квантили в диапазоне от `75%` до `100%` с шагом в `1%`. Выберите тот квантиль, при котором количество оценок равно 20. Напишите какой это квантиль. Напишите сколько всего фильмов останется, если отбросить все фильмы у которых рейтинг меньше этого квантиля."
   ]
  },
  {
   "cell_type": "code",
   "execution_count": 99,
   "metadata": {},
   "outputs": [
    {
     "name": "stdout",
     "output_type": "stream",
     "text": [
      "Квантиль = 0.75 кол-во оценок = 9.0\n",
      "Квантиль = 0.76 кол-во оценок = 10.0\n",
      "Квантиль = 0.77 кол-во оценок = 10.0\n",
      "Квантиль = 0.78 кол-во оценок = 11.0\n",
      "Квантиль = 0.79 кол-во оценок = 12.0\n",
      "Квантиль = 0.8 кол-во оценок = 13.0\n",
      "Квантиль = 0.81 кол-во оценок = 14.0\n",
      "Квантиль = 0.82 кол-во оценок = 15.0\n",
      "Квантиль = 0.83 кол-во оценок = 16.0\n",
      "Квантиль = 0.84 кол-во оценок = 17.0\n",
      "Квантиль = 0.85 кол-во оценок = 19.0\n",
      "Квантиль = 0.86 кол-во оценок = 20.0\n",
      "Квантиль = 0.87 кол-во оценок = 22.0\n",
      "Квантиль = 0.88 кол-во оценок = 23.0\n",
      "Квантиль = 0.89 кол-во оценок = 25.0\n",
      "Квантиль = 0.9 кол-во оценок = 28.0\n",
      "Квантиль = 0.91 кол-во оценок = 31.0\n",
      "Квантиль = 0.92 кол-во оценок = 34.0\n",
      "Квантиль = 0.93 кол-во оценок = 38.0\n",
      "Квантиль = 0.94 кол-во оценок = 44.0\n",
      "Квантиль = 0.95 кол-во оценок = 49.0\n",
      "Квантиль = 0.96 кол-во оценок = 58.0\n",
      "Квантиль = 0.97 кол-во оценок = 69.04999999999927\n",
      "Квантиль = 0.98 кол-во оценок = 89.0\n",
      "Квантиль = 0.99 кол-во оценок = 123.0\n",
      "Квантиль = 1.0 кол-во оценок = 341.0\n"
     ]
    }
   ],
   "source": [
    "for i in range(75, 101, 1):\n",
    "    print(\"Квантиль = \", end=\"\")\n",
    "    print(i / 100, end=\" кол-во оценок = \")\n",
    "    print(counts['count'].quantile(i / 100))"
   ]
  },
  {
   "cell_type": "code",
   "execution_count": 96,
   "metadata": {},
   "outputs": [
    {
     "data": {
      "text/plain": [
       "(100004, 4)"
      ]
     },
     "execution_count": 96,
     "metadata": {},
     "output_type": "execute_result"
    }
   ],
   "source": [
    "ratings.shape"
   ]
  },
  {
   "cell_type": "code",
   "execution_count": 97,
   "metadata": {},
   "outputs": [
    {
     "data": {
      "text/plain": [
       "(98903, 4)"
      ]
     },
     "execution_count": 97,
     "metadata": {},
     "output_type": "execute_result"
    }
   ],
   "source": [
    "ratings[ratings['rating'] > 0.86].shape"
   ]
  },
  {
   "cell_type": "markdown",
   "metadata": {},
   "source": [
    "### 1.2 Соединяем таблицы (1 балл)\n",
    "\n",
    "Будет немного не удобно искать фильмы по их идентификаторам, нам нужны названия. Поэтому соедините две таблицы `ratings` и `movies` по `movieId` и отфильтруйте отзывы на редкие фильмы, которые мы нашли в предыдущем шаге. Выведите первые 5 элементов полученного датасета."
   ]
  },
  {
   "cell_type": "code",
   "execution_count": null,
   "metadata": {},
   "outputs": [],
   "source": []
  },
  {
   "cell_type": "markdown",
   "metadata": {},
   "source": [
    "### 1.3 Матрица Фильмы-Пользователи\n",
    "\n",
    "В нашем случае мы будем искать похожие фильмы, поэтому сделайте из датасета оценок матрицу, где в строках фильмы, в колонках пользователи, а в ячейках оценки. Пропущенные значение, то есть отсутсвие оценки, заполните 0.\n",
    "\n",
    "Для увеличения скорости выполнения алгоритма ближайших соседей примените функцию [`scipy.sparse.csc_matrix`](https://docs.scipy.org/doc/scipy/reference/generated/scipy.sparse.csr_matrix.html),  которая создаст плотное представление нашей разреженой матрицы."
   ]
  },
  {
   "cell_type": "code",
   "execution_count": null,
   "metadata": {},
   "outputs": [],
   "source": []
  },
  {
   "cell_type": "markdown",
   "metadata": {},
   "source": [
    "### 1.4 Тренировка модели рекомендаций \n",
    "\n",
    "Так как по сути у нас нет каких-то меток классов, мы будем использовать алгоритма без учителя [`sklearn.neighbors.NearestNeighbors`](http://scikit-learn.org/stable/modules/generated/sklearn.neighbors.NearestNeighbors.html). Научите его по данным нашей матрицы пользователей-фильмов и напишите **функцию**, принимающую на вход название фильма и возвращающую список из 6 рекомендованых фильмов, начиная от более похожего.\n",
    "\n",
    "Для определения \"похожести\" двух фильмов мы будем использовать косинусную меру, вместо евклидова или минковского:\n",
    "\n",
    "$$\\LARGE cos(\\overrightarrow{x},\\overrightarrow{y}) = \\frac{\\overrightarrow{x} \\cdot \\overrightarrow{y}}{||\\overrightarrow{x}|| \\times ||\\overrightarrow{y}||}$$"
   ]
  },
  {
   "cell_type": "code",
   "execution_count": null,
   "metadata": {},
   "outputs": [],
   "source": []
  },
  {
   "cell_type": "code",
   "execution_count": 13,
   "metadata": {},
   "outputs": [],
   "source": [
    "def similar(name='Pulp Fiction (1994)', n=6):\n",
    "    # Тут какой-то код\n",
    "    pass"
   ]
  },
  {
   "cell_type": "markdown",
   "metadata": {},
   "source": [
    "Выведите рекомендации для фильмов:\n",
    "- `Pulp Fiction (1994)`\n",
    "- `Star Wars: Episode V - The Empire Strikes Back (1980)`\n",
    "- `Lord of the Rings: The Two Towers, The (2002)`"
   ]
  },
  {
   "cell_type": "code",
   "execution_count": 14,
   "metadata": {},
   "outputs": [],
   "source": [
    "similar('Pulp Fiction (1994)')"
   ]
  },
  {
   "cell_type": "code",
   "execution_count": 15,
   "metadata": {},
   "outputs": [],
   "source": [
    "similar('Star Wars: Episode V - The Empire Strikes Back (1980)')"
   ]
  },
  {
   "cell_type": "code",
   "execution_count": 16,
   "metadata": {},
   "outputs": [],
   "source": [
    "similar('Lord of the Rings: The Two Towers, The (2002)')"
   ]
  },
  {
   "cell_type": "markdown",
   "metadata": {},
   "source": [
    "### 1.5 Как посчитать качество рекомендации?\n",
    "\n",
    "Как посчитать качество нашей классификации? У нас нет учителя, нет отложенной выборки. Мы просто посчитали все рейтинги и на основе них сделали предположения о похожести товаров. \n",
    "\n",
    "А как вы думаете можно проверить качество нашей рекомендательной системы? Напишите развернутый ответ своими словами."
   ]
  },
  {
   "cell_type": "markdown",
   "metadata": {},
   "source": [
    "???"
   ]
  },
  {
   "cell_type": "markdown",
   "metadata": {},
   "source": [
    "![](https://69.media.tumblr.com/06a071083b3e62cd76f31af07ecb895f/tumblr_p49r4rWXG21uxovwqo1_540.gif)"
   ]
  }
 ],
 "metadata": {
  "kernelspec": {
   "display_name": "Python 3",
   "language": "python",
   "name": "python3"
  },
  "language_info": {
   "codemirror_mode": {
    "name": "ipython",
    "version": 3
   },
   "file_extension": ".py",
   "mimetype": "text/x-python",
   "name": "python",
   "nbconvert_exporter": "python",
   "pygments_lexer": "ipython3",
   "version": "3.7.0"
  }
 },
 "nbformat": 4,
 "nbformat_minor": 2
}
