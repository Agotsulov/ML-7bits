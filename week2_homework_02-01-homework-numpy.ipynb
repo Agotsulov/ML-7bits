{
 "cells": [
  {
   "cell_type": "markdown",
   "metadata": {},
   "source": [
    "# Homework 2.1 Numpy\n",
    "\n",
    "1. Скачайте этот ноутбук к себе.\n",
    "2. Заполните пропущенные ячейки, отвечая на заданные вопросы. Там должен быть код! (если не сказано обратное)\n",
    "3. Сохраните результат в своём гитхаб репозитории.\n",
    "\n",
    "#### Полезная литература\n",
    "\n",
    "- http://www.numpy.org/\n",
    "- https://jakevdp.github.io/PythonDataScienceHandbook/02.00-introduction-to-numpy.html\n",
    "- https://docs.scipy.org/doc/numpy/user/quickstart.html"
   ]
  },
  {
   "cell_type": "markdown",
   "metadata": {},
   "source": [
    "1) Создать матрицу с числами в диапазоне от 1 до 4 по диагонали. В других ячейках матрицы должны быть семерки."
   ]
  },
  {
   "cell_type": "code",
   "execution_count": 60,
   "metadata": {},
   "outputs": [
    {
     "name": "stdout",
     "output_type": "stream",
     "text": [
      "[[1 7 7 7]\n",
      " [7 2 7 7]\n",
      " [7 7 3 7]\n",
      " [7 7 7 4]]\n"
     ]
    }
   ],
   "source": [
    "import numpy as np\n",
    "\n",
    "n = np.full((4,4), 7)\n",
    "\n",
    "for i in range(0, np.size(n, axis=0)):\n",
    "    n[i][i] = i + 1\n",
    "#Можно это через np.diag или n.diagonal сделать? \n",
    "print(n)\n"
   ]
  },
  {
   "cell_type": "markdown",
   "metadata": {},
   "source": [
    "2) Создать матрицу размера 5 на 5 заполненную чилами от 0 до 4 в строках."
   ]
  },
  {
   "cell_type": "code",
   "execution_count": 66,
   "metadata": {},
   "outputs": [
    {
     "name": "stdout",
     "output_type": "stream",
     "text": [
      "[[0 1 2 3 4]\n",
      " [0 1 2 3 4]\n",
      " [0 1 2 3 4]\n",
      " [0 1 2 3 4]\n",
      " [0 1 2 3 4]]\n",
      "[[0 1 2 3 4]\n",
      " [0 1 2 3 4]\n",
      " [0 1 2 3 4]\n",
      " [0 1 2 3 4]\n",
      " [0 1 2 3 4]]\n"
     ]
    }
   ],
   "source": [
    "size_w = 5\n",
    "size_h = 5\n",
    "n = np.array([[j for j in range(0, size_w)] for i in range(0, size_h)])\n",
    "print(n)\n",
    "\n",
    "n = np.zeros((size_w,size_h), dtype=int)\n",
    "n[0::] = np.arange(size_w)\n",
    "print(n)\n"
   ]
  },
  {
   "cell_type": "markdown",
   "metadata": {},
   "source": [
    "3) Создать матрицу случайных чисел размера 10 на 10 и отнять среднее по строкам из каждого элемента строки"
   ]
  },
  {
   "cell_type": "code",
   "execution_count": 27,
   "metadata": {},
   "outputs": [
    {
     "name": "stdout",
     "output_type": "stream",
     "text": [
      "Before\n",
      "[[59 62 44 23 16  3 28 84 39 72]\n",
      " [61 43 59 44 58 33 25 46 66 46]\n",
      " [34 84 91 87 23 97 71 37 11 10]\n",
      " [92 86 90 42 53 45 80 89 40 17]\n",
      " [87 29 70 53 20 78 32 80 40 53]\n",
      " [34 67  8 55 65 14 52 34 23 46]\n",
      " [47 50 88 98 95 63 84  3 78 73]\n",
      " [38 13  4 49 68  5 95 23 26 71]\n",
      " [56 78 33 64 23  5  0 16 76  0]\n",
      " [ 5 75 42  9 50 82 12 37 34 28]]\n",
      "Means\n",
      "43.0\n",
      "48.1\n",
      "54.5\n",
      "63.4\n",
      "54.2\n",
      "39.8\n",
      "67.9\n",
      "39.2\n",
      "35.1\n",
      "37.4\n",
      "After\n",
      "[[ 16  19   1 -20 -27 -40 -15  41  -4  29]\n",
      " [ 12  -5  10  -4   9 -15 -23  -2  17  -2]\n",
      " [-20  29  36  32 -31  42  16 -17 -43 -44]\n",
      " [ 28  22  26 -21 -10 -18  16  25 -23 -46]\n",
      " [ 32 -25  15  -1 -34  23 -22  25 -14  -1]\n",
      " [ -5  27 -31  15  25 -25  12  -5 -16   6]\n",
      " [-20 -17  20  30  27  -4  16 -64  10   5]\n",
      " [ -1 -26 -35   9  28 -34  55 -16 -13  31]\n",
      " [ 20  42  -2  28 -12 -30 -35 -19  40 -35]\n",
      " [-32  37   4 -28  12  44 -25   0  -3  -9]]\n"
     ]
    }
   ],
   "source": [
    "n = np.random.randint(0, 100, (10, 10))\n",
    "\n",
    "print(\"Before\")\n",
    "print(n)\n",
    "\n",
    "print(\"Means\")\n",
    "for i in range(0 , np.size(n, axis=0)):\n",
    "    mean = n[i].mean()\n",
    "    print(mean)\n",
    "    for j in range(0, np.size(n, axis=1)):\n",
    "        n[i][j] -= mean\n",
    "\n",
    "print(\"After\")\n",
    "print(n)"
   ]
  },
  {
   "cell_type": "markdown",
   "metadata": {},
   "source": [
    "4) Создать матрицу случайных чисел размера 10 на 10 и отнять медиану по столбцам из каждого элемента столбца  "
   ]
  },
  {
   "cell_type": "code",
   "execution_count": 34,
   "metadata": {},
   "outputs": [
    {
     "name": "stdout",
     "output_type": "stream",
     "text": [
      "Before\n",
      "[[48 56 83 68 34  5 66 85 63 42]\n",
      " [ 9  8 90 41 82  4 73  4 58 32]\n",
      " [23 87 12 92 66 83 75 64 68  5]\n",
      " [70  2 14 62 27 80 44 47 21 56]\n",
      " [44 41 86  0 50  3  5 16 58  8]\n",
      " [ 5 91 11 38 59 43 25 90 24 76]\n",
      " [97 44 32 88 49 76 82 37 47 17]\n",
      " [18 68 74 91 47 85 92 30 31  7]\n",
      " [66 49 68 83 54 36 79 88 94 66]\n",
      " [84 91 19 75 81 56  2  1  7 32]]\n",
      "Medians\n",
      "46.0\n",
      "52.5\n",
      "50.0\n",
      "71.5\n",
      "52.0\n",
      "49.5\n",
      "69.5\n",
      "42.0\n",
      "52.5\n",
      "32.0\n",
      "After\n",
      "[[  2   3  33  -3 -18 -44  -3  43  10  10]\n",
      " [-37 -44  40 -30  30 -45   3 -38   5   0]\n",
      " [-23  34 -38  20  14  33   5  22  15 -27]\n",
      " [ 24 -50 -36  -9 -25  30 -25   5 -31  24]\n",
      " [ -2 -11  36 -71  -2 -46 -64 -26   5 -24]\n",
      " [-41  38 -39 -33   7  -6 -44  48 -28  44]\n",
      " [ 51  -8 -18  16  -3  26  12  -5  -5 -15]\n",
      " [-28  15  24  19  -5  35  22 -12 -21 -25]\n",
      " [ 20  -3  18  11   2 -13   9  46  41  34]\n",
      " [ 38  38 -31   3  29   6 -67 -41 -45   0]]\n"
     ]
    }
   ],
   "source": [
    "n = np.random.randint(0, 100, (10, 10))\n",
    "\n",
    "print(\"Before\")\n",
    "print(n)\n",
    "\n",
    "print(\"Medians\")\n",
    "for i in range(0 , np.size(n, axis=1)):\n",
    "    median = np.median(n[:,i])    \n",
    "    print(median)\n",
    "    for j in range(0, np.size(n, axis=1)):\n",
    "        n[j][i] -= median\n",
    "\n",
    "print(\"After\")\n",
    "print(n)"
   ]
  },
  {
   "cell_type": "markdown",
   "metadata": {},
   "source": [
    "5) Создать матрицу случайных чисел 5x5. Добавить к ней столбецы максимумов и минимумов по строкам. Получится матрица 5x7.  "
   ]
  },
  {
   "cell_type": "code",
   "execution_count": 47,
   "metadata": {},
   "outputs": [
    {
     "name": "stdout",
     "output_type": "stream",
     "text": [
      "Before\n",
      "[[8 4 7 4 8]\n",
      " [3 3 6 7 6]\n",
      " [1 3 0 4 2]\n",
      " [2 2 3 6 0]\n",
      " [0 8 2 6 8]]\n",
      "After\n",
      "[[8. 4. 7. 4. 8. 8. 4.]\n",
      " [3. 3. 6. 7. 6. 7. 3.]\n",
      " [1. 3. 0. 4. 2. 4. 0.]\n",
      " [2. 2. 3. 6. 0. 6. 0.]\n",
      " [0. 8. 2. 6. 8. 8. 0.]]\n"
     ]
    }
   ],
   "source": [
    "n = np.random.randint(0, 10, (5, 5))\n",
    "\n",
    "print(\"Before\")\n",
    "print(n)\n",
    "\n",
    "max_n = np.zeros(5)\n",
    "for i in range(0, np.size(n, axis=0)):\n",
    "        max_n[i] = n[i].max()\n",
    "\n",
    "n = np.hstack([n, max_n.reshape((np.size(n, axis=0), 1))])\n",
    "        \n",
    "min_n = np.zeros(5)\n",
    "for i in range(0, np.size(n, axis=0)):\n",
    "        min_n[i] = n[i].min()\n",
    "\n",
    "n = np.hstack([n, min_n.reshape((np.size(n, axis=0), 1))])\n",
    "    \n",
    "print(\"After\")\n",
    "print(n) "
   ]
  },
  {
   "cell_type": "markdown",
   "metadata": {},
   "source": [
    "6) Вектор чисел от 1 до 51 преобразовать в вектор нечетных чисел и в вектор четных чисел, поменять их размерности, чтобы получились две матрица. Найти произведение этих матриц. Найти обратную матрицу эётого произведения.  "
   ]
  },
  {
   "cell_type": "code",
   "execution_count": 89,
   "metadata": {},
   "outputs": [
    {
     "name": "stdout",
     "output_type": "stream",
     "text": [
      "[ 2  4  6  8 10 12 14 16 18 20 22 24 26 28 30 32 34 36 38 40 42 44 46 48\n",
      " 50]\n",
      "[ 1  3  5  7  9 11 13 15 17 19 21 23 25 27 29 31 33 35 37 39 41 43 45 47\n",
      " 49]\n",
      "[[ 2  4  6  8 10]\n",
      " [12 14 16 18 20]\n",
      " [22 24 26 28 30]\n",
      " [32 34 36 38 40]\n",
      " [42 44 46 48 50]]\n",
      "[[ 1  3  5  7  9]\n",
      " [11 13 15 17 19]\n",
      " [21 23 25 27 29]\n",
      " [31 33 35 37 39]\n",
      " [41 43 45 47 49]]\n",
      "[[ 830  890  950 1010 1070]\n",
      " [1880 2040 2200 2360 2520]\n",
      " [2930 3190 3450 3710 3970]\n",
      " [3980 4340 4700 5060 5420]\n",
      " [5030 5490 5950 6410 6870]]\n"
     ]
    },
    {
     "ename": "LinAlgError",
     "evalue": "Singular matrix",
     "output_type": "error",
     "traceback": [
      "\u001b[1;31m---------------------------------------------------------------------------\u001b[0m",
      "\u001b[1;31mLinAlgError\u001b[0m                               Traceback (most recent call last)",
      "\u001b[1;32m<ipython-input-89-238f1c6d9e3c>\u001b[0m in \u001b[0;36m<module>\u001b[1;34m()\u001b[0m\n\u001b[0;32m     20\u001b[0m \u001b[0mprint\u001b[0m\u001b[1;33m(\u001b[0m\u001b[0mdot\u001b[0m\u001b[1;33m)\u001b[0m\u001b[1;33m\u001b[0m\u001b[0m\n\u001b[0;32m     21\u001b[0m \u001b[1;33m\u001b[0m\u001b[0m\n\u001b[1;32m---> 22\u001b[1;33m \u001b[0mprint\u001b[0m\u001b[1;33m(\u001b[0m\u001b[0mnp\u001b[0m\u001b[1;33m.\u001b[0m\u001b[0mlinalg\u001b[0m\u001b[1;33m.\u001b[0m\u001b[0minv\u001b[0m\u001b[1;33m(\u001b[0m\u001b[0mdot\u001b[0m\u001b[1;33m)\u001b[0m\u001b[1;33m)\u001b[0m \u001b[1;31m#так нельзя же найти\u001b[0m\u001b[1;33m\u001b[0m\u001b[0m\n\u001b[0m",
      "\u001b[1;32mD:\\Program Files\\Anaconda3\\lib\\site-packages\\numpy\\linalg\\linalg.py\u001b[0m in \u001b[0;36minv\u001b[1;34m(a)\u001b[0m\n\u001b[0;32m    530\u001b[0m     \u001b[0msignature\u001b[0m \u001b[1;33m=\u001b[0m \u001b[1;34m'D->D'\u001b[0m \u001b[1;32mif\u001b[0m \u001b[0misComplexType\u001b[0m\u001b[1;33m(\u001b[0m\u001b[0mt\u001b[0m\u001b[1;33m)\u001b[0m \u001b[1;32melse\u001b[0m \u001b[1;34m'd->d'\u001b[0m\u001b[1;33m\u001b[0m\u001b[0m\n\u001b[0;32m    531\u001b[0m     \u001b[0mextobj\u001b[0m \u001b[1;33m=\u001b[0m \u001b[0mget_linalg_error_extobj\u001b[0m\u001b[1;33m(\u001b[0m\u001b[0m_raise_linalgerror_singular\u001b[0m\u001b[1;33m)\u001b[0m\u001b[1;33m\u001b[0m\u001b[0m\n\u001b[1;32m--> 532\u001b[1;33m     \u001b[0mainv\u001b[0m \u001b[1;33m=\u001b[0m \u001b[0m_umath_linalg\u001b[0m\u001b[1;33m.\u001b[0m\u001b[0minv\u001b[0m\u001b[1;33m(\u001b[0m\u001b[0ma\u001b[0m\u001b[1;33m,\u001b[0m \u001b[0msignature\u001b[0m\u001b[1;33m=\u001b[0m\u001b[0msignature\u001b[0m\u001b[1;33m,\u001b[0m \u001b[0mextobj\u001b[0m\u001b[1;33m=\u001b[0m\u001b[0mextobj\u001b[0m\u001b[1;33m)\u001b[0m\u001b[1;33m\u001b[0m\u001b[0m\n\u001b[0m\u001b[0;32m    533\u001b[0m     \u001b[1;32mreturn\u001b[0m \u001b[0mwrap\u001b[0m\u001b[1;33m(\u001b[0m\u001b[0mainv\u001b[0m\u001b[1;33m.\u001b[0m\u001b[0mastype\u001b[0m\u001b[1;33m(\u001b[0m\u001b[0mresult_t\u001b[0m\u001b[1;33m,\u001b[0m \u001b[0mcopy\u001b[0m\u001b[1;33m=\u001b[0m\u001b[1;32mFalse\u001b[0m\u001b[1;33m)\u001b[0m\u001b[1;33m)\u001b[0m\u001b[1;33m\u001b[0m\u001b[0m\n\u001b[0;32m    534\u001b[0m \u001b[1;33m\u001b[0m\u001b[0m\n",
      "\u001b[1;32mD:\\Program Files\\Anaconda3\\lib\\site-packages\\numpy\\linalg\\linalg.py\u001b[0m in \u001b[0;36m_raise_linalgerror_singular\u001b[1;34m(err, flag)\u001b[0m\n\u001b[0;32m     87\u001b[0m \u001b[1;33m\u001b[0m\u001b[0m\n\u001b[0;32m     88\u001b[0m \u001b[1;32mdef\u001b[0m \u001b[0m_raise_linalgerror_singular\u001b[0m\u001b[1;33m(\u001b[0m\u001b[0merr\u001b[0m\u001b[1;33m,\u001b[0m \u001b[0mflag\u001b[0m\u001b[1;33m)\u001b[0m\u001b[1;33m:\u001b[0m\u001b[1;33m\u001b[0m\u001b[0m\n\u001b[1;32m---> 89\u001b[1;33m     \u001b[1;32mraise\u001b[0m \u001b[0mLinAlgError\u001b[0m\u001b[1;33m(\u001b[0m\u001b[1;34m\"Singular matrix\"\u001b[0m\u001b[1;33m)\u001b[0m\u001b[1;33m\u001b[0m\u001b[0m\n\u001b[0m\u001b[0;32m     90\u001b[0m \u001b[1;33m\u001b[0m\u001b[0m\n\u001b[0;32m     91\u001b[0m \u001b[1;32mdef\u001b[0m \u001b[0m_raise_linalgerror_nonposdef\u001b[0m\u001b[1;33m(\u001b[0m\u001b[0merr\u001b[0m\u001b[1;33m,\u001b[0m \u001b[0mflag\u001b[0m\u001b[1;33m)\u001b[0m\u001b[1;33m:\u001b[0m\u001b[1;33m\u001b[0m\u001b[0m\n",
      "\u001b[1;31mLinAlgError\u001b[0m: Singular matrix"
     ]
    }
   ],
   "source": [
    "n = np.arange(1,51)\n",
    "\n",
    "from numpy import matrix \n",
    "from numpy import linalg\n",
    "\n",
    "even = n[1::2] #так видь направильно?\n",
    "odd = n[::2]\n",
    "\n",
    "print(even)\n",
    "print(odd)\n",
    "\n",
    "even = even.reshape(5,5)\n",
    "odd = odd.reshape(5,5)\n",
    "\n",
    "print(even)\n",
    "print(odd)\n",
    "\n",
    "dot = np.dot(even, odd)\n",
    "\n",
    "print(dot)\n",
    "\n",
    "print(np.linalg.inv(dot)) #так нельзя же найти"
   ]
  },
  {
   "cell_type": "markdown",
   "metadata": {},
   "source": [
    "7) Создать 8x8 матрицу и заполнить её в шахматном порядке нулями и единицами. "
   ]
  },
  {
   "cell_type": "code",
   "execution_count": 46,
   "metadata": {},
   "outputs": [
    {
     "name": "stdout",
     "output_type": "stream",
     "text": [
      "[[0 1 0 1 0 1 0 1]\n",
      " [1 0 1 0 1 0 1 0]\n",
      " [0 1 0 1 0 1 0 1]\n",
      " [1 0 1 0 1 0 1 0]\n",
      " [0 1 0 1 0 1 0 1]\n",
      " [1 0 1 0 1 0 1 0]\n",
      " [0 1 0 1 0 1 0 1]\n",
      " [1 0 1 0 1 0 1 0]]\n"
     ]
    }
   ],
   "source": [
    "n = np.zeros((8,8), dtype=int)\n",
    "n[1::2,::2] = n[::2,1::2] = 1\n",
    "print(n)"
   ]
  }
 ],
 "metadata": {
  "kernelspec": {
   "display_name": "Python 3",
   "language": "python",
   "name": "python3"
  },
  "language_info": {
   "codemirror_mode": {
    "name": "ipython",
    "version": 3
   },
   "file_extension": ".py",
   "mimetype": "text/x-python",
   "name": "python",
   "nbconvert_exporter": "python",
   "pygments_lexer": "ipython3",
   "version": "3.7.0"
  }
 },
 "nbformat": 4,
 "nbformat_minor": 2
}
