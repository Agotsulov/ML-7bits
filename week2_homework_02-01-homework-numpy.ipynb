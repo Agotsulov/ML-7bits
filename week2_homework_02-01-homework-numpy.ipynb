{
 "cells": [
  {
   "cell_type": "markdown",
   "metadata": {},
   "source": [
    "# Homework 2.1 Numpy\n",
    "\n",
    "1. Скачайте этот ноутбук к себе.\n",
    "2. Заполните пропущенные ячейки, отвечая на заданные вопросы. Там должен быть код! (если не сказано обратное)\n",
    "3. Сохраните результат в своём гитхаб репозитории.\n",
    "\n",
    "#### Полезная литература\n",
    "\n",
    "- http://www.numpy.org/\n",
    "- https://jakevdp.github.io/PythonDataScienceHandbook/02.00-introduction-to-numpy.html\n",
    "- https://docs.scipy.org/doc/numpy/user/quickstart.html"
   ]
  },
  {
   "cell_type": "markdown",
   "metadata": {},
   "source": [
    "1) Создать матрицу с числами в диапазоне от 1 до 4 по диагонали. В других ячейках матрицы должны быть семерки."
   ]
  },
  {
   "cell_type": "code",
   "execution_count": 5,
   "metadata": {},
   "outputs": [
    {
     "name": "stdout",
     "output_type": "stream",
     "text": [
      "[[1 7 7 7]\n",
      " [7 2 7 7]\n",
      " [7 7 3 7]\n",
      " [7 7 7 4]]\n"
     ]
    }
   ],
   "source": [
    "import numpy as np\n",
    "\n",
    "n = np.full((4,4), 7)\n",
    "\n",
    "for i in range(0, np.size(n, axis=0)):\n",
    "    n[i][i] = i + 1\n",
    "#Можно это через np.diag или n.diagonal сделать? \n",
    "print(n)\n"
   ]
  },
  {
   "cell_type": "markdown",
   "metadata": {},
   "source": [
    "2) Создать матрицу размера 5 на 5 заполненную чилами от 0 до 4 в строках."
   ]
  },
  {
   "cell_type": "code",
   "execution_count": 6,
   "metadata": {},
   "outputs": [
    {
     "name": "stdout",
     "output_type": "stream",
     "text": [
      "[[0 1 2 3 4]\n",
      " [0 1 2 3 4]\n",
      " [0 1 2 3 4]\n",
      " [0 1 2 3 4]\n",
      " [0 1 2 3 4]]\n",
      "[[0 1 2 3 4]\n",
      " [0 1 2 3 4]\n",
      " [0 1 2 3 4]\n",
      " [0 1 2 3 4]\n",
      " [0 1 2 3 4]]\n"
     ]
    }
   ],
   "source": [
    "size_w = 5\n",
    "size_h = 5\n",
    "n = np.array([[j for j in range(0, size_w)] for i in range(0, size_h)])\n",
    "print(n)\n",
    "\n",
    "n = np.zeros((size_w,size_h), dtype=int)\n",
    "n[0::] = np.arange(size_w)\n",
    "print(n)\n"
   ]
  },
  {
   "cell_type": "markdown",
   "metadata": {},
   "source": [
    "3) Создать матрицу случайных чисел размера 10 на 10 и отнять среднее по строкам из каждого элемента строки"
   ]
  },
  {
   "cell_type": "code",
   "execution_count": 7,
   "metadata": {},
   "outputs": [
    {
     "name": "stdout",
     "output_type": "stream",
     "text": [
      "Before\n",
      "[[36  4 41 31 35 14 34  0 23 69]\n",
      " [65  3 65 72 48 19 58 78 51  6]\n",
      " [40 96 56 42 79 24 41 49 42 79]\n",
      " [29 86 60 77 93 55 22 63 85 65]\n",
      " [24 15  4 91 87 93 59 75 41 91]\n",
      " [55 18 61 83 46 41 48 71 59 33]\n",
      " [33 43 10 17 52 42 37 36 42 50]\n",
      " [64 30 40  0 58 80 12 46 61 69]\n",
      " [ 0 89 30 82 79 95 39 81 61 59]\n",
      " [ 8 39 35 93 50 37  4 83 40 50]]\n",
      "Means\n",
      "28.7\n",
      "46.5\n",
      "54.8\n",
      "63.5\n",
      "58.0\n",
      "51.5\n",
      "36.2\n",
      "46.0\n",
      "61.5\n",
      "43.9\n",
      "After\n",
      "[[  7 -24  12   2   6 -14   5 -28  -5  40]\n",
      " [ 18 -43  18  25   1 -27  11  31   4 -40]\n",
      " [-14  41   1 -12  24 -30 -13  -5 -12  24]\n",
      " [-34  22  -3  13  29  -8 -41   0  21   1]\n",
      " [-34 -43 -54  33  29  35   1  17 -17  33]\n",
      " [  3 -33   9  31  -5 -10  -3  19   7 -18]\n",
      " [ -3   6 -26 -19  15   5   0   0   5  13]\n",
      " [ 18 -16  -6 -46  12  34 -34   0  15  23]\n",
      " [-61  27 -31  20  17  33 -22  19   0  -2]\n",
      " [-35  -4  -8  49   6  -6 -39  39  -3   6]]\n"
     ]
    }
   ],
   "source": [
    "n = np.random.randint(0, 100, (10, 10))\n",
    "\n",
    "print(\"Before\")\n",
    "print(n)\n",
    "\n",
    "print(\"Means\")\n",
    "for i in range(0 , np.size(n, axis=0)):\n",
    "    mean = n[i].mean()\n",
    "    print(mean)\n",
    "    for j in range(0, np.size(n, axis=1)):\n",
    "        n[i][j] -= mean\n",
    "\n",
    "print(\"After\")\n",
    "print(n)"
   ]
  },
  {
   "cell_type": "markdown",
   "metadata": {},
   "source": [
    "4) Создать матрицу случайных чисел размера 10 на 10 и отнять медиану по столбцам из каждого элемента столбца  "
   ]
  },
  {
   "cell_type": "code",
   "execution_count": 8,
   "metadata": {},
   "outputs": [
    {
     "name": "stdout",
     "output_type": "stream",
     "text": [
      "Before\n",
      "[[99 11 78 70 37 35 11 99 28 94]\n",
      " [15 28  1 51 91  4 34 99 47 75]\n",
      " [67 66 59 16 87 11 89 90 75 88]\n",
      " [43  9 46 42 84 74 51 20 74 72]\n",
      " [49 85 50 68  4 65 84 35 44 17]\n",
      " [63 86 77 83 77  8 76 38 71 11]\n",
      " [ 8 35 11 15 15  8 27 85 20 21]\n",
      " [36 87 53 86  4 23 77 30 54 67]\n",
      " [46 87 55  0 26 77 59 58 31  9]\n",
      " [44 97 93  4 80 67 54 82 26 11]]\n",
      "Medians\n",
      "45.0\n",
      "75.5\n",
      "54.0\n",
      "46.5\n",
      "57.0\n",
      "29.0\n",
      "56.5\n",
      "70.0\n",
      "45.5\n",
      "44.0\n",
      "After\n",
      "[[ 54 -64  24  23 -20   6 -45  29 -17  50]\n",
      " [-30 -47 -53   4  34 -25 -22  29   1  31]\n",
      " [ 22  -9   5 -30  30 -18  32  20  29  44]\n",
      " [ -2 -66  -8  -4  27  45  -5 -50  28  28]\n",
      " [  4   9  -4  21 -53  36  27 -35  -1 -27]\n",
      " [ 18  10  23  36  20 -21  19 -32  25 -33]\n",
      " [-37 -40 -43 -31 -42 -21 -29  15 -25 -23]\n",
      " [ -9  11  -1  39 -53  -6  20 -40   8  23]\n",
      " [  1  11   1 -46 -31  48   2 -12 -14 -35]\n",
      " [ -1  21  39 -42  23  38  -2  12 -19 -33]]\n"
     ]
    }
   ],
   "source": [
    "n = np.random.randint(0, 100, (10, 10))\n",
    "\n",
    "print(\"Before\")\n",
    "print(n)\n",
    "\n",
    "print(\"Medians\")\n",
    "for i in range(0 , np.size(n, axis=1)):\n",
    "    median = np.median(n[:,i])    \n",
    "    print(median)\n",
    "    for j in range(0, np.size(n, axis=1)):\n",
    "        n[j][i] -= median\n",
    "\n",
    "print(\"After\")\n",
    "print(n)"
   ]
  },
  {
   "cell_type": "markdown",
   "metadata": {},
   "source": [
    "5) Создать матрицу случайных чисел 5x5. Добавить к ней столбецы максимумов и минимумов по строкам. Получится матрица 5x7.  "
   ]
  },
  {
   "cell_type": "code",
   "execution_count": 9,
   "metadata": {},
   "outputs": [
    {
     "name": "stdout",
     "output_type": "stream",
     "text": [
      "Before\n",
      "[[6 3 3 7 6]\n",
      " [6 7 3 8 6]\n",
      " [8 9 0 4 5]\n",
      " [5 2 6 4 7]\n",
      " [0 6 0 7 9]]\n",
      "After\n",
      "[[6. 3. 3. 7. 6. 7. 3.]\n",
      " [6. 7. 3. 8. 6. 8. 3.]\n",
      " [8. 9. 0. 4. 5. 9. 0.]\n",
      " [5. 2. 6. 4. 7. 7. 2.]\n",
      " [0. 6. 0. 7. 9. 9. 0.]]\n"
     ]
    }
   ],
   "source": [
    "n = np.random.randint(0, 10, (5, 5))\n",
    "\n",
    "print(\"Before\")\n",
    "print(n)\n",
    "\n",
    "max_n = np.zeros(5)\n",
    "for i in range(0, np.size(n, axis=0)):\n",
    "        max_n[i] = n[i].max()\n",
    "\n",
    "n = np.hstack([n, max_n.reshape((np.size(n, axis=0), 1))])\n",
    "        \n",
    "min_n = np.zeros(5)\n",
    "for i in range(0, np.size(n, axis=0)):\n",
    "        min_n[i] = n[i].min()\n",
    "\n",
    "n = np.hstack([n, min_n.reshape((np.size(n, axis=0), 1))])\n",
    "    \n",
    "print(\"After\")\n",
    "print(n) "
   ]
  },
  {
   "cell_type": "markdown",
   "metadata": {},
   "source": [
    "6) Вектор чисел от 1 до 51 преобразовать в вектор нечетных чисел и в вектор четных чисел, поменять их размерности, чтобы получились две матрица. Найти произведение этих матриц. Найти обратную матрицу эётого произведения.  "
   ]
  },
  {
   "cell_type": "code",
   "execution_count": 10,
   "metadata": {},
   "outputs": [
    {
     "name": "stdout",
     "output_type": "stream",
     "text": [
      "[ 2  4  6  8 10 12 14 16 18 20 22 24 26 28 30 32 34 36 38 40 42 44 46 48\n",
      " 50]\n",
      "[ 1  3  5  7  9 11 13 15 17 19 21 23 25 27 29 31 33 35 37 39 41 43 45 47\n",
      " 49]\n",
      "[[ 2  4  6  8 10]\n",
      " [12 14 16 18 20]\n",
      " [22 24 26 28 30]\n",
      " [32 34 36 38 40]\n",
      " [42 44 46 48 50]]\n",
      "[[ 1  3  5  7  9]\n",
      " [11 13 15 17 19]\n",
      " [21 23 25 27 29]\n",
      " [31 33 35 37 39]\n",
      " [41 43 45 47 49]]\n",
      "[[ 830  890  950 1010 1070]\n",
      " [1880 2040 2200 2360 2520]\n",
      " [2930 3190 3450 3710 3970]\n",
      " [3980 4340 4700 5060 5420]\n",
      " [5030 5490 5950 6410 6870]]\n"
     ]
    },
    {
     "ename": "LinAlgError",
     "evalue": "Singular matrix",
     "output_type": "error",
     "traceback": [
      "\u001b[1;31m---------------------------------------------------------------------------\u001b[0m",
      "\u001b[1;31mLinAlgError\u001b[0m                               Traceback (most recent call last)",
      "\u001b[1;32m<ipython-input-10-238f1c6d9e3c>\u001b[0m in \u001b[0;36m<module>\u001b[1;34m()\u001b[0m\n\u001b[0;32m     20\u001b[0m \u001b[0mprint\u001b[0m\u001b[1;33m(\u001b[0m\u001b[0mdot\u001b[0m\u001b[1;33m)\u001b[0m\u001b[1;33m\u001b[0m\u001b[0m\n\u001b[0;32m     21\u001b[0m \u001b[1;33m\u001b[0m\u001b[0m\n\u001b[1;32m---> 22\u001b[1;33m \u001b[0mprint\u001b[0m\u001b[1;33m(\u001b[0m\u001b[0mnp\u001b[0m\u001b[1;33m.\u001b[0m\u001b[0mlinalg\u001b[0m\u001b[1;33m.\u001b[0m\u001b[0minv\u001b[0m\u001b[1;33m(\u001b[0m\u001b[0mdot\u001b[0m\u001b[1;33m)\u001b[0m\u001b[1;33m)\u001b[0m \u001b[1;31m#так нельзя же найти\u001b[0m\u001b[1;33m\u001b[0m\u001b[0m\n\u001b[0m",
      "\u001b[1;32mD:\\Program Files\\Anaconda3\\lib\\site-packages\\numpy\\linalg\\linalg.py\u001b[0m in \u001b[0;36minv\u001b[1;34m(a)\u001b[0m\n\u001b[0;32m    530\u001b[0m     \u001b[0msignature\u001b[0m \u001b[1;33m=\u001b[0m \u001b[1;34m'D->D'\u001b[0m \u001b[1;32mif\u001b[0m \u001b[0misComplexType\u001b[0m\u001b[1;33m(\u001b[0m\u001b[0mt\u001b[0m\u001b[1;33m)\u001b[0m \u001b[1;32melse\u001b[0m \u001b[1;34m'd->d'\u001b[0m\u001b[1;33m\u001b[0m\u001b[0m\n\u001b[0;32m    531\u001b[0m     \u001b[0mextobj\u001b[0m \u001b[1;33m=\u001b[0m \u001b[0mget_linalg_error_extobj\u001b[0m\u001b[1;33m(\u001b[0m\u001b[0m_raise_linalgerror_singular\u001b[0m\u001b[1;33m)\u001b[0m\u001b[1;33m\u001b[0m\u001b[0m\n\u001b[1;32m--> 532\u001b[1;33m     \u001b[0mainv\u001b[0m \u001b[1;33m=\u001b[0m \u001b[0m_umath_linalg\u001b[0m\u001b[1;33m.\u001b[0m\u001b[0minv\u001b[0m\u001b[1;33m(\u001b[0m\u001b[0ma\u001b[0m\u001b[1;33m,\u001b[0m \u001b[0msignature\u001b[0m\u001b[1;33m=\u001b[0m\u001b[0msignature\u001b[0m\u001b[1;33m,\u001b[0m \u001b[0mextobj\u001b[0m\u001b[1;33m=\u001b[0m\u001b[0mextobj\u001b[0m\u001b[1;33m)\u001b[0m\u001b[1;33m\u001b[0m\u001b[0m\n\u001b[0m\u001b[0;32m    533\u001b[0m     \u001b[1;32mreturn\u001b[0m \u001b[0mwrap\u001b[0m\u001b[1;33m(\u001b[0m\u001b[0mainv\u001b[0m\u001b[1;33m.\u001b[0m\u001b[0mastype\u001b[0m\u001b[1;33m(\u001b[0m\u001b[0mresult_t\u001b[0m\u001b[1;33m,\u001b[0m \u001b[0mcopy\u001b[0m\u001b[1;33m=\u001b[0m\u001b[1;32mFalse\u001b[0m\u001b[1;33m)\u001b[0m\u001b[1;33m)\u001b[0m\u001b[1;33m\u001b[0m\u001b[0m\n\u001b[0;32m    534\u001b[0m \u001b[1;33m\u001b[0m\u001b[0m\n",
      "\u001b[1;32mD:\\Program Files\\Anaconda3\\lib\\site-packages\\numpy\\linalg\\linalg.py\u001b[0m in \u001b[0;36m_raise_linalgerror_singular\u001b[1;34m(err, flag)\u001b[0m\n\u001b[0;32m     87\u001b[0m \u001b[1;33m\u001b[0m\u001b[0m\n\u001b[0;32m     88\u001b[0m \u001b[1;32mdef\u001b[0m \u001b[0m_raise_linalgerror_singular\u001b[0m\u001b[1;33m(\u001b[0m\u001b[0merr\u001b[0m\u001b[1;33m,\u001b[0m \u001b[0mflag\u001b[0m\u001b[1;33m)\u001b[0m\u001b[1;33m:\u001b[0m\u001b[1;33m\u001b[0m\u001b[0m\n\u001b[1;32m---> 89\u001b[1;33m     \u001b[1;32mraise\u001b[0m \u001b[0mLinAlgError\u001b[0m\u001b[1;33m(\u001b[0m\u001b[1;34m\"Singular matrix\"\u001b[0m\u001b[1;33m)\u001b[0m\u001b[1;33m\u001b[0m\u001b[0m\n\u001b[0m\u001b[0;32m     90\u001b[0m \u001b[1;33m\u001b[0m\u001b[0m\n\u001b[0;32m     91\u001b[0m \u001b[1;32mdef\u001b[0m \u001b[0m_raise_linalgerror_nonposdef\u001b[0m\u001b[1;33m(\u001b[0m\u001b[0merr\u001b[0m\u001b[1;33m,\u001b[0m \u001b[0mflag\u001b[0m\u001b[1;33m)\u001b[0m\u001b[1;33m:\u001b[0m\u001b[1;33m\u001b[0m\u001b[0m\n",
      "\u001b[1;31mLinAlgError\u001b[0m: Singular matrix"
     ]
    }
   ],
   "source": [
    "n = np.arange(1,51)\n",
    "\n",
    "from numpy import matrix \n",
    "from numpy import linalg\n",
    "\n",
    "even = n[1::2] #так видь направильно?\n",
    "odd = n[::2]\n",
    "\n",
    "print(even)\n",
    "print(odd)\n",
    "\n",
    "even = even.reshape(5,5)\n",
    "odd = odd.reshape(5,5)\n",
    "\n",
    "print(even)\n",
    "print(odd)\n",
    "\n",
    "dot = np.dot(even, odd)\n",
    "\n",
    "print(dot)\n",
    "\n",
    "print(np.linalg.inv(dot)) #так нельзя же найти"
   ]
  },
  {
   "cell_type": "markdown",
   "metadata": {},
   "source": [
    "7) Создать 8x8 матрицу и заполнить её в шахматном порядке нулями и единицами. "
   ]
  },
  {
   "cell_type": "code",
   "execution_count": 11,
   "metadata": {},
   "outputs": [
    {
     "name": "stdout",
     "output_type": "stream",
     "text": [
      "[[0 1 0 1 0 1 0 1]\n",
      " [1 0 1 0 1 0 1 0]\n",
      " [0 1 0 1 0 1 0 1]\n",
      " [1 0 1 0 1 0 1 0]\n",
      " [0 1 0 1 0 1 0 1]\n",
      " [1 0 1 0 1 0 1 0]\n",
      " [0 1 0 1 0 1 0 1]\n",
      " [1 0 1 0 1 0 1 0]]\n"
     ]
    }
   ],
   "source": [
    "n = np.zeros((8,8), dtype=int)\n",
    "n[1::2,::2] = n[::2,1::2] = 1\n",
    "print(n)"
   ]
  },
  {
   "cell_type": "code",
   "execution_count": null,
   "metadata": {},
   "outputs": [],
   "source": []
  }
 ],
 "metadata": {
  "kernelspec": {
   "display_name": "Python 3",
   "language": "python",
   "name": "python3"
  },
  "language_info": {
   "codemirror_mode": {
    "name": "ipython",
    "version": 3
   },
   "file_extension": ".py",
   "mimetype": "text/x-python",
   "name": "python",
   "nbconvert_exporter": "python",
   "pygments_lexer": "ipython3",
   "version": "3.7.0"
  }
 },
 "nbformat": 4,
 "nbformat_minor": 2
}
